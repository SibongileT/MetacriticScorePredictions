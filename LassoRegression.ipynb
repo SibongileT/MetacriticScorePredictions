{
 "cells": [
  {
   "cell_type": "code",
   "execution_count": 1,
   "metadata": {},
   "outputs": [],
   "source": [
    "import pandas as pd\n",
    "import numpy as np\n",
    "import matplotlib.pyplot as plt\n",
    "import seaborn as sns\n",
    "%matplotlib inline\n",
    "from sklearn.model_selection import train_test_split\n",
    "from sklearn.linear_model import Lasso,LassoCV\n",
    "from sklearn.preprocessing import StandardScaler"
   ]
  },
  {
   "cell_type": "code",
   "execution_count": 2,
   "metadata": {},
   "outputs": [],
   "source": [
    "oscars_df = pd.read_csv('oscar_movies_data_2.csv')"
   ]
  },
  {
   "cell_type": "code",
   "execution_count": 3,
   "metadata": {},
   "outputs": [
    {
     "data": {
      "text/html": [
       "<div>\n",
       "<style scoped>\n",
       "    .dataframe tbody tr th:only-of-type {\n",
       "        vertical-align: middle;\n",
       "    }\n",
       "\n",
       "    .dataframe tbody tr th {\n",
       "        vertical-align: top;\n",
       "    }\n",
       "\n",
       "    .dataframe thead th {\n",
       "        text-align: right;\n",
       "    }\n",
       "</style>\n",
       "<table border=\"1\" class=\"dataframe\">\n",
       "  <thead>\n",
       "    <tr style=\"text-align: right;\">\n",
       "      <th></th>\n",
       "      <th>Unnamed: 0</th>\n",
       "      <th>runtime (mins)</th>\n",
       "      <th>metacritic score</th>\n",
       "      <th>budget</th>\n",
       "      <th>Total_Noms</th>\n",
       "      <th>Director_Avg_Score</th>\n",
       "      <th>Total_Director_Movies</th>\n",
       "      <th>Lead_Actor_Avg_Score</th>\n",
       "      <th>Total_Movies_Lead_Actor</th>\n",
       "      <th>Avg_Rating_by_Genre</th>\n",
       "      <th>...</th>\n",
       "      <th>R</th>\n",
       "      <th>Unrated</th>\n",
       "      <th>Writer_Aaron Sorkin</th>\n",
       "      <th>Writer_Joel Coen</th>\n",
       "      <th>Writer_John Logan</th>\n",
       "      <th>Writer_Lawrence Kasdan</th>\n",
       "      <th>Writer_Paul Thomas Anderson</th>\n",
       "      <th>Writer_Pedro Almodóvar</th>\n",
       "      <th>Writer_Quentin Tarantino</th>\n",
       "      <th>Writer_Woody Allen</th>\n",
       "    </tr>\n",
       "  </thead>\n",
       "  <tbody>\n",
       "    <tr>\n",
       "      <th>count</th>\n",
       "      <td>1136.000000</td>\n",
       "      <td>1136.000000</td>\n",
       "      <td>1136.000000</td>\n",
       "      <td>1.072000e+03</td>\n",
       "      <td>1136.000000</td>\n",
       "      <td>1136.000000</td>\n",
       "      <td>1136.000000</td>\n",
       "      <td>1136.000000</td>\n",
       "      <td>1136.000000</td>\n",
       "      <td>1136.000000</td>\n",
       "      <td>...</td>\n",
       "      <td>1136.000000</td>\n",
       "      <td>1136.000000</td>\n",
       "      <td>55.000000</td>\n",
       "      <td>55.000000</td>\n",
       "      <td>55.000000</td>\n",
       "      <td>55.000000</td>\n",
       "      <td>55.000000</td>\n",
       "      <td>55.000000</td>\n",
       "      <td>55.000000</td>\n",
       "      <td>55.000000</td>\n",
       "    </tr>\n",
       "    <tr>\n",
       "      <th>mean</th>\n",
       "      <td>567.500000</td>\n",
       "      <td>120.032570</td>\n",
       "      <td>72.083627</td>\n",
       "      <td>4.268831e+07</td>\n",
       "      <td>2.930458</td>\n",
       "      <td>72.083627</td>\n",
       "      <td>3.609155</td>\n",
       "      <td>72.083627</td>\n",
       "      <td>3.540493</td>\n",
       "      <td>72.083627</td>\n",
       "      <td>...</td>\n",
       "      <td>0.470070</td>\n",
       "      <td>0.013204</td>\n",
       "      <td>0.109091</td>\n",
       "      <td>0.163636</td>\n",
       "      <td>0.090909</td>\n",
       "      <td>0.127273</td>\n",
       "      <td>0.090909</td>\n",
       "      <td>0.090909</td>\n",
       "      <td>0.109091</td>\n",
       "      <td>0.218182</td>\n",
       "    </tr>\n",
       "    <tr>\n",
       "      <th>std</th>\n",
       "      <td>328.079259</td>\n",
       "      <td>21.817864</td>\n",
       "      <td>13.554168</td>\n",
       "      <td>5.070841e+07</td>\n",
       "      <td>2.699895</td>\n",
       "      <td>11.433456</td>\n",
       "      <td>3.706699</td>\n",
       "      <td>10.825048</td>\n",
       "      <td>3.630286</td>\n",
       "      <td>5.392965</td>\n",
       "      <td>...</td>\n",
       "      <td>0.499323</td>\n",
       "      <td>0.114199</td>\n",
       "      <td>0.314627</td>\n",
       "      <td>0.373355</td>\n",
       "      <td>0.290129</td>\n",
       "      <td>0.336350</td>\n",
       "      <td>0.290129</td>\n",
       "      <td>0.290129</td>\n",
       "      <td>0.314627</td>\n",
       "      <td>0.416818</td>\n",
       "    </tr>\n",
       "    <tr>\n",
       "      <th>min</th>\n",
       "      <td>0.000000</td>\n",
       "      <td>70.000000</td>\n",
       "      <td>16.000000</td>\n",
       "      <td>6.500000e+04</td>\n",
       "      <td>1.000000</td>\n",
       "      <td>16.000000</td>\n",
       "      <td>1.000000</td>\n",
       "      <td>28.000000</td>\n",
       "      <td>1.000000</td>\n",
       "      <td>38.500000</td>\n",
       "      <td>...</td>\n",
       "      <td>0.000000</td>\n",
       "      <td>0.000000</td>\n",
       "      <td>0.000000</td>\n",
       "      <td>0.000000</td>\n",
       "      <td>0.000000</td>\n",
       "      <td>0.000000</td>\n",
       "      <td>0.000000</td>\n",
       "      <td>0.000000</td>\n",
       "      <td>0.000000</td>\n",
       "      <td>0.000000</td>\n",
       "    </tr>\n",
       "    <tr>\n",
       "      <th>25%</th>\n",
       "      <td>283.750000</td>\n",
       "      <td>105.000000</td>\n",
       "      <td>64.000000</td>\n",
       "      <td>1.136429e+07</td>\n",
       "      <td>1.000000</td>\n",
       "      <td>66.000000</td>\n",
       "      <td>1.000000</td>\n",
       "      <td>66.000000</td>\n",
       "      <td>1.000000</td>\n",
       "      <td>70.241379</td>\n",
       "      <td>...</td>\n",
       "      <td>0.000000</td>\n",
       "      <td>0.000000</td>\n",
       "      <td>0.000000</td>\n",
       "      <td>0.000000</td>\n",
       "      <td>0.000000</td>\n",
       "      <td>0.000000</td>\n",
       "      <td>0.000000</td>\n",
       "      <td>0.000000</td>\n",
       "      <td>0.000000</td>\n",
       "      <td>0.000000</td>\n",
       "    </tr>\n",
       "    <tr>\n",
       "      <th>50%</th>\n",
       "      <td>567.500000</td>\n",
       "      <td>118.000000</td>\n",
       "      <td>74.000000</td>\n",
       "      <td>2.500000e+07</td>\n",
       "      <td>2.000000</td>\n",
       "      <td>73.500000</td>\n",
       "      <td>2.000000</td>\n",
       "      <td>73.000000</td>\n",
       "      <td>2.000000</td>\n",
       "      <td>73.604651</td>\n",
       "      <td>...</td>\n",
       "      <td>0.000000</td>\n",
       "      <td>0.000000</td>\n",
       "      <td>0.000000</td>\n",
       "      <td>0.000000</td>\n",
       "      <td>0.000000</td>\n",
       "      <td>0.000000</td>\n",
       "      <td>0.000000</td>\n",
       "      <td>0.000000</td>\n",
       "      <td>0.000000</td>\n",
       "      <td>0.000000</td>\n",
       "    </tr>\n",
       "    <tr>\n",
       "      <th>75%</th>\n",
       "      <td>851.250000</td>\n",
       "      <td>132.000000</td>\n",
       "      <td>82.000000</td>\n",
       "      <td>5.200000e+07</td>\n",
       "      <td>4.000000</td>\n",
       "      <td>79.500000</td>\n",
       "      <td>4.000000</td>\n",
       "      <td>79.000000</td>\n",
       "      <td>4.000000</td>\n",
       "      <td>75.185185</td>\n",
       "      <td>...</td>\n",
       "      <td>1.000000</td>\n",
       "      <td>0.000000</td>\n",
       "      <td>0.000000</td>\n",
       "      <td>0.000000</td>\n",
       "      <td>0.000000</td>\n",
       "      <td>0.000000</td>\n",
       "      <td>0.000000</td>\n",
       "      <td>0.000000</td>\n",
       "      <td>0.000000</td>\n",
       "      <td>0.000000</td>\n",
       "    </tr>\n",
       "    <tr>\n",
       "      <th>max</th>\n",
       "      <td>1135.000000</td>\n",
       "      <td>224.000000</td>\n",
       "      <td>100.000000</td>\n",
       "      <td>3.210000e+08</td>\n",
       "      <td>16.000000</td>\n",
       "      <td>100.000000</td>\n",
       "      <td>20.000000</td>\n",
       "      <td>100.000000</td>\n",
       "      <td>19.000000</td>\n",
       "      <td>91.000000</td>\n",
       "      <td>...</td>\n",
       "      <td>1.000000</td>\n",
       "      <td>1.000000</td>\n",
       "      <td>1.000000</td>\n",
       "      <td>1.000000</td>\n",
       "      <td>1.000000</td>\n",
       "      <td>1.000000</td>\n",
       "      <td>1.000000</td>\n",
       "      <td>1.000000</td>\n",
       "      <td>1.000000</td>\n",
       "      <td>1.000000</td>\n",
       "    </tr>\n",
       "  </tbody>\n",
       "</table>\n",
       "<p>8 rows × 88 columns</p>\n",
       "</div>"
      ],
      "text/plain": [
       "        Unnamed: 0  runtime (mins)  metacritic score        budget  \\\n",
       "count  1136.000000     1136.000000       1136.000000  1.072000e+03   \n",
       "mean    567.500000      120.032570         72.083627  4.268831e+07   \n",
       "std     328.079259       21.817864         13.554168  5.070841e+07   \n",
       "min       0.000000       70.000000         16.000000  6.500000e+04   \n",
       "25%     283.750000      105.000000         64.000000  1.136429e+07   \n",
       "50%     567.500000      118.000000         74.000000  2.500000e+07   \n",
       "75%     851.250000      132.000000         82.000000  5.200000e+07   \n",
       "max    1135.000000      224.000000        100.000000  3.210000e+08   \n",
       "\n",
       "        Total_Noms  Director_Avg_Score  Total_Director_Movies  \\\n",
       "count  1136.000000         1136.000000            1136.000000   \n",
       "mean      2.930458           72.083627               3.609155   \n",
       "std       2.699895           11.433456               3.706699   \n",
       "min       1.000000           16.000000               1.000000   \n",
       "25%       1.000000           66.000000               1.000000   \n",
       "50%       2.000000           73.500000               2.000000   \n",
       "75%       4.000000           79.500000               4.000000   \n",
       "max      16.000000          100.000000              20.000000   \n",
       "\n",
       "       Lead_Actor_Avg_Score  Total_Movies_Lead_Actor  Avg_Rating_by_Genre  \\\n",
       "count           1136.000000              1136.000000          1136.000000   \n",
       "mean              72.083627                 3.540493            72.083627   \n",
       "std               10.825048                 3.630286             5.392965   \n",
       "min               28.000000                 1.000000            38.500000   \n",
       "25%               66.000000                 1.000000            70.241379   \n",
       "50%               73.000000                 2.000000            73.604651   \n",
       "75%               79.000000                 4.000000            75.185185   \n",
       "max              100.000000                19.000000            91.000000   \n",
       "\n",
       "       ...            R      Unrated  Writer_Aaron Sorkin  Writer_Joel Coen  \\\n",
       "count  ...  1136.000000  1136.000000            55.000000         55.000000   \n",
       "mean   ...     0.470070     0.013204             0.109091          0.163636   \n",
       "std    ...     0.499323     0.114199             0.314627          0.373355   \n",
       "min    ...     0.000000     0.000000             0.000000          0.000000   \n",
       "25%    ...     0.000000     0.000000             0.000000          0.000000   \n",
       "50%    ...     0.000000     0.000000             0.000000          0.000000   \n",
       "75%    ...     1.000000     0.000000             0.000000          0.000000   \n",
       "max    ...     1.000000     1.000000             1.000000          1.000000   \n",
       "\n",
       "       Writer_John Logan  Writer_Lawrence Kasdan  Writer_Paul Thomas Anderson  \\\n",
       "count          55.000000               55.000000                    55.000000   \n",
       "mean            0.090909                0.127273                     0.090909   \n",
       "std             0.290129                0.336350                     0.290129   \n",
       "min             0.000000                0.000000                     0.000000   \n",
       "25%             0.000000                0.000000                     0.000000   \n",
       "50%             0.000000                0.000000                     0.000000   \n",
       "75%             0.000000                0.000000                     0.000000   \n",
       "max             1.000000                1.000000                     1.000000   \n",
       "\n",
       "       Writer_Pedro Almodóvar  Writer_Quentin Tarantino  Writer_Woody Allen  \n",
       "count               55.000000                 55.000000           55.000000  \n",
       "mean                 0.090909                  0.109091            0.218182  \n",
       "std                  0.290129                  0.314627            0.416818  \n",
       "min                  0.000000                  0.000000            0.000000  \n",
       "25%                  0.000000                  0.000000            0.000000  \n",
       "50%                  0.000000                  0.000000            0.000000  \n",
       "75%                  0.000000                  0.000000            0.000000  \n",
       "max                  1.000000                  1.000000            1.000000  \n",
       "\n",
       "[8 rows x 88 columns]"
      ]
     },
     "execution_count": 3,
     "metadata": {},
     "output_type": "execute_result"
    }
   ],
   "source": [
    "oscars_df.describe()"
   ]
  },
  {
   "cell_type": "code",
   "execution_count": 4,
   "metadata": {},
   "outputs": [],
   "source": [
    "oscars_df.drop(columns = ['Unnamed: 0'],inplace=True)"
   ]
  },
  {
   "cell_type": "code",
   "execution_count": 5,
   "metadata": {},
   "outputs": [
    {
     "data": {
      "text/plain": [
       "(1136, 105)"
      ]
     },
     "execution_count": 5,
     "metadata": {},
     "output_type": "execute_result"
    }
   ],
   "source": [
    "oscars_df.shape"
   ]
  },
  {
   "cell_type": "code",
   "execution_count": 6,
   "metadata": {},
   "outputs": [
    {
     "data": {
      "text/html": [
       "<div>\n",
       "<style scoped>\n",
       "    .dataframe tbody tr th:only-of-type {\n",
       "        vertical-align: middle;\n",
       "    }\n",
       "\n",
       "    .dataframe tbody tr th {\n",
       "        vertical-align: top;\n",
       "    }\n",
       "\n",
       "    .dataframe thead th {\n",
       "        text-align: right;\n",
       "    }\n",
       "</style>\n",
       "<table border=\"1\" class=\"dataframe\">\n",
       "  <thead>\n",
       "    <tr style=\"text-align: right;\">\n",
       "      <th></th>\n",
       "      <th>IMDBId</th>\n",
       "      <th>movie title</th>\n",
       "      <th>language</th>\n",
       "      <th>country</th>\n",
       "      <th>runtime (mins)</th>\n",
       "      <th>mpaarating</th>\n",
       "      <th>metacritic score</th>\n",
       "      <th>budget</th>\n",
       "      <th>distributionCompany</th>\n",
       "      <th>Awards</th>\n",
       "      <th>...</th>\n",
       "      <th>R</th>\n",
       "      <th>Unrated</th>\n",
       "      <th>Writer_Aaron Sorkin</th>\n",
       "      <th>Writer_Joel Coen</th>\n",
       "      <th>Writer_John Logan</th>\n",
       "      <th>Writer_Lawrence Kasdan</th>\n",
       "      <th>Writer_Paul Thomas Anderson</th>\n",
       "      <th>Writer_Pedro Almodóvar</th>\n",
       "      <th>Writer_Quentin Tarantino</th>\n",
       "      <th>Writer_Woody Allen</th>\n",
       "    </tr>\n",
       "  </thead>\n",
       "  <tbody>\n",
       "    <tr>\n",
       "      <th>0</th>\n",
       "      <td>tt0091763</td>\n",
       "      <td>Platoon</td>\n",
       "      <td>English</td>\n",
       "      <td>USA</td>\n",
       "      <td>120</td>\n",
       "      <td>R</td>\n",
       "      <td>92.0</td>\n",
       "      <td>6.000000e+06</td>\n",
       "      <td>Orion Pictures</td>\n",
       "      <td>Best Actor in a Supporting Role</td>\n",
       "      <td>...</td>\n",
       "      <td>1</td>\n",
       "      <td>0</td>\n",
       "      <td>NaN</td>\n",
       "      <td>NaN</td>\n",
       "      <td>NaN</td>\n",
       "      <td>NaN</td>\n",
       "      <td>NaN</td>\n",
       "      <td>NaN</td>\n",
       "      <td>NaN</td>\n",
       "      <td>NaN</td>\n",
       "    </tr>\n",
       "    <tr>\n",
       "      <th>1</th>\n",
       "      <td>tt0082979</td>\n",
       "      <td>Reds</td>\n",
       "      <td>English</td>\n",
       "      <td>USA</td>\n",
       "      <td>195</td>\n",
       "      <td>PG</td>\n",
       "      <td>76.0</td>\n",
       "      <td>3.200000e+07</td>\n",
       "      <td>Paramount Pictures</td>\n",
       "      <td>Best Actor in a Leading Role</td>\n",
       "      <td>...</td>\n",
       "      <td>0</td>\n",
       "      <td>0</td>\n",
       "      <td>NaN</td>\n",
       "      <td>NaN</td>\n",
       "      <td>NaN</td>\n",
       "      <td>NaN</td>\n",
       "      <td>NaN</td>\n",
       "      <td>NaN</td>\n",
       "      <td>NaN</td>\n",
       "      <td>NaN</td>\n",
       "    </tr>\n",
       "    <tr>\n",
       "      <th>2</th>\n",
       "      <td>tt0084434</td>\n",
       "      <td>An Officer and a Gentleman</td>\n",
       "      <td>English</td>\n",
       "      <td>USA</td>\n",
       "      <td>124</td>\n",
       "      <td>R</td>\n",
       "      <td>75.0</td>\n",
       "      <td>7.500000e+06</td>\n",
       "      <td>Paramount Pictures</td>\n",
       "      <td>Best Actor in a Supporting Role</td>\n",
       "      <td>...</td>\n",
       "      <td>1</td>\n",
       "      <td>0</td>\n",
       "      <td>NaN</td>\n",
       "      <td>NaN</td>\n",
       "      <td>NaN</td>\n",
       "      <td>NaN</td>\n",
       "      <td>NaN</td>\n",
       "      <td>NaN</td>\n",
       "      <td>NaN</td>\n",
       "      <td>NaN</td>\n",
       "    </tr>\n",
       "    <tr>\n",
       "      <th>3</th>\n",
       "      <td>tt0119360</td>\n",
       "      <td>In &amp; Out</td>\n",
       "      <td>English</td>\n",
       "      <td>USA</td>\n",
       "      <td>90</td>\n",
       "      <td>PG-13</td>\n",
       "      <td>70.0</td>\n",
       "      <td>3.500000e+07</td>\n",
       "      <td>Paramount Pictures</td>\n",
       "      <td>Best Actress in a Supporting Role</td>\n",
       "      <td>...</td>\n",
       "      <td>0</td>\n",
       "      <td>0</td>\n",
       "      <td>NaN</td>\n",
       "      <td>NaN</td>\n",
       "      <td>NaN</td>\n",
       "      <td>NaN</td>\n",
       "      <td>NaN</td>\n",
       "      <td>NaN</td>\n",
       "      <td>NaN</td>\n",
       "      <td>NaN</td>\n",
       "    </tr>\n",
       "    <tr>\n",
       "      <th>4</th>\n",
       "      <td>tt0292542</td>\n",
       "      <td>Son of the Bride</td>\n",
       "      <td>Spanish</td>\n",
       "      <td>Argentina</td>\n",
       "      <td>123</td>\n",
       "      <td>R</td>\n",
       "      <td>68.0</td>\n",
       "      <td>1.136429e+07</td>\n",
       "      <td>Sony Pictures Classics</td>\n",
       "      <td>Best Foreign Language Film</td>\n",
       "      <td>...</td>\n",
       "      <td>1</td>\n",
       "      <td>0</td>\n",
       "      <td>NaN</td>\n",
       "      <td>NaN</td>\n",
       "      <td>NaN</td>\n",
       "      <td>NaN</td>\n",
       "      <td>NaN</td>\n",
       "      <td>NaN</td>\n",
       "      <td>NaN</td>\n",
       "      <td>NaN</td>\n",
       "    </tr>\n",
       "  </tbody>\n",
       "</table>\n",
       "<p>5 rows × 105 columns</p>\n",
       "</div>"
      ],
      "text/plain": [
       "      IMDBId                 movie title language    country  runtime (mins)  \\\n",
       "0  tt0091763                     Platoon  English        USA             120   \n",
       "1  tt0082979                        Reds  English        USA             195   \n",
       "2  tt0084434  An Officer and a Gentleman  English        USA             124   \n",
       "3  tt0119360                    In & Out  English        USA              90   \n",
       "4  tt0292542            Son of the Bride  Spanish  Argentina             123   \n",
       "\n",
       "  mpaarating  metacritic score        budget     distributionCompany  \\\n",
       "0          R              92.0  6.000000e+06          Orion Pictures   \n",
       "1         PG              76.0  3.200000e+07      Paramount Pictures   \n",
       "2          R              75.0  7.500000e+06      Paramount Pictures   \n",
       "3      PG-13              70.0  3.500000e+07      Paramount Pictures   \n",
       "4          R              68.0  1.136429e+07  Sony Pictures Classics   \n",
       "\n",
       "                              Awards  ...  R Unrated Writer_Aaron Sorkin  \\\n",
       "0    Best Actor in a Supporting Role  ...  1       0                 NaN   \n",
       "1       Best Actor in a Leading Role  ...  0       0                 NaN   \n",
       "2    Best Actor in a Supporting Role  ...  1       0                 NaN   \n",
       "3  Best Actress in a Supporting Role  ...  0       0                 NaN   \n",
       "4         Best Foreign Language Film  ...  1       0                 NaN   \n",
       "\n",
       "  Writer_Joel Coen Writer_John Logan Writer_Lawrence Kasdan  \\\n",
       "0              NaN               NaN                    NaN   \n",
       "1              NaN               NaN                    NaN   \n",
       "2              NaN               NaN                    NaN   \n",
       "3              NaN               NaN                    NaN   \n",
       "4              NaN               NaN                    NaN   \n",
       "\n",
       "  Writer_Paul Thomas Anderson Writer_Pedro Almodóvar Writer_Quentin Tarantino  \\\n",
       "0                         NaN                    NaN                      NaN   \n",
       "1                         NaN                    NaN                      NaN   \n",
       "2                         NaN                    NaN                      NaN   \n",
       "3                         NaN                    NaN                      NaN   \n",
       "4                         NaN                    NaN                      NaN   \n",
       "\n",
       "  Writer_Woody Allen  \n",
       "0                NaN  \n",
       "1                NaN  \n",
       "2                NaN  \n",
       "3                NaN  \n",
       "4                NaN  \n",
       "\n",
       "[5 rows x 105 columns]"
      ]
     },
     "execution_count": 6,
     "metadata": {},
     "output_type": "execute_result"
    }
   ],
   "source": [
    "oscars_df.head()"
   ]
  },
  {
   "cell_type": "code",
   "execution_count": 7,
   "metadata": {},
   "outputs": [
    {
     "data": {
      "text/plain": [
       "(1136, 87)"
      ]
     },
     "execution_count": 7,
     "metadata": {},
     "output_type": "execute_result"
    }
   ],
   "source": [
    "numerics = ['int16','int32','int64','float16','float32','float64']\n",
    "numerical_vars = list(oscars_df.select_dtypes(include=numerics).columns)\n",
    "oscars_data = oscars_df[numerical_vars]\n",
    "oscars_data.shape"
   ]
  },
  {
   "cell_type": "code",
   "execution_count": 8,
   "metadata": {},
   "outputs": [],
   "source": [
    "#oscars_data['budget'].fillna(oscars_data['budget'].mean(),inplace=True)"
   ]
  },
  {
   "cell_type": "code",
   "execution_count": 9,
   "metadata": {},
   "outputs": [
    {
     "name": "stderr",
     "output_type": "stream",
     "text": [
      "/Users/sibongiletoure/anaconda3/envs/metis/lib/python3.8/site-packages/pandas/core/frame.py:4316: SettingWithCopyWarning: \n",
      "A value is trying to be set on a copy of a slice from a DataFrame\n",
      "\n",
      "See the caveats in the documentation: https://pandas.pydata.org/pandas-docs/stable/user_guide/indexing.html#returning-a-view-versus-a-copy\n",
      "  return super().fillna(\n"
     ]
    }
   ],
   "source": [
    "oscars_data.fillna(0,inplace=True)"
   ]
  },
  {
   "cell_type": "code",
   "execution_count": 10,
   "metadata": {},
   "outputs": [
    {
     "name": "stdout",
     "output_type": "stream",
     "text": [
      "<class 'pandas.core.frame.DataFrame'>\n",
      "RangeIndex: 1136 entries, 0 to 1135\n",
      "Data columns (total 87 columns):\n",
      " #   Column                                                   Non-Null Count  Dtype  \n",
      "---  ------                                                   --------------  -----  \n",
      " 0   runtime (mins)                                           1136 non-null   int64  \n",
      " 1   metacritic score                                         1136 non-null   float64\n",
      " 2   budget                                                   1136 non-null   float64\n",
      " 3   Total_Noms                                               1136 non-null   int64  \n",
      " 4   Director_Avg_Score                                       1136 non-null   float64\n",
      " 5   Total_Director_Movies                                    1136 non-null   int64  \n",
      " 6   Lead_Actor_Avg_Score                                     1136 non-null   float64\n",
      " 7   Total_Movies_Lead_Actor                                  1136 non-null   int64  \n",
      " 8   Avg_Rating_by_Genre                                      1136 non-null   float64\n",
      " 9   Buena Vista Pictures                                     1136 non-null   float64\n",
      " 10  Columbia Pictures                                        1136 non-null   float64\n",
      " 11  Fox Searchlight Pictures                                 1136 non-null   float64\n",
      " 12  Miramax                                                  1136 non-null   float64\n",
      " 13  Paramount Pictures                                       1136 non-null   float64\n",
      " 14  Sony Pictures Classics                                   1136 non-null   float64\n",
      " 15  Twentieth Century Fox                                    1136 non-null   float64\n",
      " 16  Universal Pictures                                       1136 non-null   float64\n",
      " 17  Walt Disney Studios Motion Pictures                      1136 non-null   float64\n",
      " 18  Warner Bros.                                             1136 non-null   float64\n",
      " 19  Genre_Action                                             1136 non-null   float64\n",
      " 20  Genre_Adventure                                          1136 non-null   float64\n",
      " 21  Genre_Animation                                          1136 non-null   float64\n",
      " 22  Genre_Biography                                          1136 non-null   float64\n",
      " 23  Genre_Comedy                                             1136 non-null   float64\n",
      " 24  Genre_Crime                                              1136 non-null   float64\n",
      " 25  Genre_Documentary                                        1136 non-null   float64\n",
      " 26  Genre_Drama                                              1136 non-null   float64\n",
      " 27  Genre_Family                                             1136 non-null   float64\n",
      " 28  Genre_Horror                                             1136 non-null   float64\n",
      " 29  Subgenre_Adventure                                       1136 non-null   float64\n",
      " 30  Subgenre_Comedy                                          1136 non-null   float64\n",
      " 31  Subgenre_Crime                                           1136 non-null   float64\n",
      " 32  Subgenre_Drama                                           1136 non-null   float64\n",
      " 33  Subgenre_Fantasy                                         1136 non-null   float64\n",
      " 34  Subgenre_History                                         1136 non-null   float64\n",
      " 35  Subgenre_Music                                           1136 non-null   float64\n",
      " 36  Subgenre_Mystery                                         1136 non-null   float64\n",
      " 37  Subgenre_Romance                                         1136 non-null   float64\n",
      " 38  Subgenre_Thriller                                        1136 non-null   float64\n",
      " 39  Director_Barry Levinson                                  1136 non-null   float64\n",
      " 40  Director_Clint Eastwood                                  1136 non-null   float64\n",
      " 41  Director_Martin Scorsese                                 1136 non-null   float64\n",
      " 42  Director_Ridley Scott                                    1136 non-null   float64\n",
      " 43  Director_Robert Zemeckis                                 1136 non-null   float64\n",
      " 44  Director_Ron Howard                                      1136 non-null   float64\n",
      " 45  Director_Stephen Frears                                  1136 non-null   float64\n",
      " 46  Director_Steven Spielberg                                1136 non-null   float64\n",
      " 47  Director_Tim Burton                                      1136 non-null   float64\n",
      " 48  Director_Woody Allen                                     1136 non-null   float64\n",
      " 49  Lead_Actor_Brad Pitt                                     1136 non-null   float64\n",
      " 50  Lead_Actor_Harrison Ford                                 1136 non-null   float64\n",
      " 51  Lead_Actor_Johnny Depp                                   1136 non-null   float64\n",
      " 52  Lead_Actor_Leonardo DiCaprio                             1136 non-null   float64\n",
      " 53  Lead_Actor_Meryl Streep                                  1136 non-null   float64\n",
      " 54  Lead_Actor_Robert De Niro                                1136 non-null   float64\n",
      " 55  Lead_Actor_Robert Downey Jr.                             1136 non-null   float64\n",
      " 56  Lead_Actor_Robin Williams                                1136 non-null   float64\n",
      " 57  Lead_Actor_Tom Cruise                                    1136 non-null   float64\n",
      " 58  Lead_Actor_Tom Hanks                                     1136 non-null   float64\n",
      " 59  Awards_Best Actor in a Leading Role                      1136 non-null   float64\n",
      " 60  Awards_Best Actor in a Supporting Role                   1136 non-null   float64\n",
      " 61  Awards_Best Actress in a Leading Role                    1136 non-null   float64\n",
      " 62  Awards_Best Actress in a Supporting Role                 1136 non-null   float64\n",
      " 63  Awards_Best Art Direction-Set Decoration                 1136 non-null   float64\n",
      " 64  Awards_Best Foreign Language Film                        1136 non-null   float64\n",
      " 65  Awards_Best Foreign Language Film of the Year            1136 non-null   float64\n",
      " 66  Awards_Best Motion Picture of the Year                   1136 non-null   float64\n",
      " 67  Awards_Best Music, Original Song                         1136 non-null   float64\n",
      " 68  Awards_Best Performance by an Actress in a Leading Role  1136 non-null   float64\n",
      " 69  Fall                                                     1136 non-null   int64  \n",
      " 70  Spring                                                   1136 non-null   int64  \n",
      " 71  Summer                                                   1136 non-null   int64  \n",
      " 72  Winter                                                   1136 non-null   int64  \n",
      " 73  G                                                        1136 non-null   int64  \n",
      " 74  Not Rated                                                1136 non-null   int64  \n",
      " 75  PG                                                       1136 non-null   int64  \n",
      " 76  PG-13                                                    1136 non-null   int64  \n",
      " 77  R                                                        1136 non-null   int64  \n",
      " 78  Unrated                                                  1136 non-null   int64  \n",
      " 79  Writer_Aaron Sorkin                                      1136 non-null   float64\n",
      " 80  Writer_Joel Coen                                         1136 non-null   float64\n",
      " 81  Writer_John Logan                                        1136 non-null   float64\n",
      " 82  Writer_Lawrence Kasdan                                   1136 non-null   float64\n",
      " 83  Writer_Paul Thomas Anderson                              1136 non-null   float64\n",
      " 84  Writer_Pedro Almodóvar                                   1136 non-null   float64\n",
      " 85  Writer_Quentin Tarantino                                 1136 non-null   float64\n",
      " 86  Writer_Woody Allen                                       1136 non-null   float64\n",
      "dtypes: float64(73), int64(14)\n",
      "memory usage: 772.2 KB\n"
     ]
    }
   ],
   "source": [
    "oscars_data.info()"
   ]
  },
  {
   "cell_type": "code",
   "execution_count": 11,
   "metadata": {},
   "outputs": [],
   "source": [
    "smaller_df = oscars_df[['metacritic score','Director_Avg_Score','Lead_Actor_Avg_Score','Avg_Rating_by_Genre',\n",
    "                        'Awards_Best Motion Picture of the Year','Winter','Total_Noms']]"
   ]
  },
  {
   "cell_type": "code",
   "execution_count": 12,
   "metadata": {},
   "outputs": [
    {
     "data": {
      "text/html": [
       "<div>\n",
       "<style scoped>\n",
       "    .dataframe tbody tr th:only-of-type {\n",
       "        vertical-align: middle;\n",
       "    }\n",
       "\n",
       "    .dataframe tbody tr th {\n",
       "        vertical-align: top;\n",
       "    }\n",
       "\n",
       "    .dataframe thead th {\n",
       "        text-align: right;\n",
       "    }\n",
       "</style>\n",
       "<table border=\"1\" class=\"dataframe\">\n",
       "  <thead>\n",
       "    <tr style=\"text-align: right;\">\n",
       "      <th></th>\n",
       "      <th>metacritic score</th>\n",
       "      <th>Director_Avg_Score</th>\n",
       "      <th>Lead_Actor_Avg_Score</th>\n",
       "      <th>Avg_Rating_by_Genre</th>\n",
       "      <th>Awards_Best Motion Picture of the Year</th>\n",
       "      <th>Winter</th>\n",
       "      <th>Total_Noms</th>\n",
       "    </tr>\n",
       "  </thead>\n",
       "  <tbody>\n",
       "    <tr>\n",
       "      <th>metacritic score</th>\n",
       "      <td>1.000000</td>\n",
       "      <td>0.843538</td>\n",
       "      <td>0.798651</td>\n",
       "      <td>0.397882</td>\n",
       "      <td>0.308170</td>\n",
       "      <td>0.033733</td>\n",
       "      <td>0.327954</td>\n",
       "    </tr>\n",
       "    <tr>\n",
       "      <th>Director_Avg_Score</th>\n",
       "      <td>0.843538</td>\n",
       "      <td>1.000000</td>\n",
       "      <td>0.730323</td>\n",
       "      <td>0.371637</td>\n",
       "      <td>0.291882</td>\n",
       "      <td>0.045729</td>\n",
       "      <td>0.180483</td>\n",
       "    </tr>\n",
       "    <tr>\n",
       "      <th>Lead_Actor_Avg_Score</th>\n",
       "      <td>0.798651</td>\n",
       "      <td>0.730323</td>\n",
       "      <td>1.000000</td>\n",
       "      <td>0.370510</td>\n",
       "      <td>0.240532</td>\n",
       "      <td>0.032835</td>\n",
       "      <td>0.205334</td>\n",
       "    </tr>\n",
       "    <tr>\n",
       "      <th>Avg_Rating_by_Genre</th>\n",
       "      <td>0.397882</td>\n",
       "      <td>0.371637</td>\n",
       "      <td>0.370510</td>\n",
       "      <td>1.000000</td>\n",
       "      <td>0.029341</td>\n",
       "      <td>0.033595</td>\n",
       "      <td>0.027108</td>\n",
       "    </tr>\n",
       "    <tr>\n",
       "      <th>Awards_Best Motion Picture of the Year</th>\n",
       "      <td>0.308170</td>\n",
       "      <td>0.291882</td>\n",
       "      <td>0.240532</td>\n",
       "      <td>0.029341</td>\n",
       "      <td>1.000000</td>\n",
       "      <td>0.018928</td>\n",
       "      <td>0.462611</td>\n",
       "    </tr>\n",
       "    <tr>\n",
       "      <th>Winter</th>\n",
       "      <td>0.033733</td>\n",
       "      <td>0.045729</td>\n",
       "      <td>0.032835</td>\n",
       "      <td>0.033595</td>\n",
       "      <td>0.018928</td>\n",
       "      <td>1.000000</td>\n",
       "      <td>0.191955</td>\n",
       "    </tr>\n",
       "    <tr>\n",
       "      <th>Total_Noms</th>\n",
       "      <td>0.327954</td>\n",
       "      <td>0.180483</td>\n",
       "      <td>0.205334</td>\n",
       "      <td>0.027108</td>\n",
       "      <td>0.462611</td>\n",
       "      <td>0.191955</td>\n",
       "      <td>1.000000</td>\n",
       "    </tr>\n",
       "  </tbody>\n",
       "</table>\n",
       "</div>"
      ],
      "text/plain": [
       "                                        metacritic score  Director_Avg_Score  \\\n",
       "metacritic score                                1.000000            0.843538   \n",
       "Director_Avg_Score                              0.843538            1.000000   \n",
       "Lead_Actor_Avg_Score                            0.798651            0.730323   \n",
       "Avg_Rating_by_Genre                             0.397882            0.371637   \n",
       "Awards_Best Motion Picture of the Year          0.308170            0.291882   \n",
       "Winter                                          0.033733            0.045729   \n",
       "Total_Noms                                      0.327954            0.180483   \n",
       "\n",
       "                                        Lead_Actor_Avg_Score  \\\n",
       "metacritic score                                    0.798651   \n",
       "Director_Avg_Score                                  0.730323   \n",
       "Lead_Actor_Avg_Score                                1.000000   \n",
       "Avg_Rating_by_Genre                                 0.370510   \n",
       "Awards_Best Motion Picture of the Year              0.240532   \n",
       "Winter                                              0.032835   \n",
       "Total_Noms                                          0.205334   \n",
       "\n",
       "                                        Avg_Rating_by_Genre  \\\n",
       "metacritic score                                   0.397882   \n",
       "Director_Avg_Score                                 0.371637   \n",
       "Lead_Actor_Avg_Score                               0.370510   \n",
       "Avg_Rating_by_Genre                                1.000000   \n",
       "Awards_Best Motion Picture of the Year             0.029341   \n",
       "Winter                                             0.033595   \n",
       "Total_Noms                                         0.027108   \n",
       "\n",
       "                                        Awards_Best Motion Picture of the Year  \\\n",
       "metacritic score                                                      0.308170   \n",
       "Director_Avg_Score                                                    0.291882   \n",
       "Lead_Actor_Avg_Score                                                  0.240532   \n",
       "Avg_Rating_by_Genre                                                   0.029341   \n",
       "Awards_Best Motion Picture of the Year                                1.000000   \n",
       "Winter                                                                0.018928   \n",
       "Total_Noms                                                            0.462611   \n",
       "\n",
       "                                          Winter  Total_Noms  \n",
       "metacritic score                        0.033733    0.327954  \n",
       "Director_Avg_Score                      0.045729    0.180483  \n",
       "Lead_Actor_Avg_Score                    0.032835    0.205334  \n",
       "Avg_Rating_by_Genre                     0.033595    0.027108  \n",
       "Awards_Best Motion Picture of the Year  0.018928    0.462611  \n",
       "Winter                                  1.000000    0.191955  \n",
       "Total_Noms                              0.191955    1.000000  "
      ]
     },
     "execution_count": 12,
     "metadata": {},
     "output_type": "execute_result"
    }
   ],
   "source": [
    "smaller_df.corr()"
   ]
  },
  {
   "cell_type": "code",
   "execution_count": 13,
   "metadata": {},
   "outputs": [],
   "source": [
    "selected_columns = ['Director_Avg_Score','Lead_Actor_Avg_Score','Avg_Rating_by_Genre',\n",
    "                        'Awards_Best Motion Picture of the Year','Winter','Total_Noms']"
   ]
  },
  {
   "cell_type": "code",
   "execution_count": 21,
   "metadata": {},
   "outputs": [],
   "source": [
    "X = smaller_df.drop(columns='metacritic score')\n",
    "y = smaller_df['metacritic score']"
   ]
  },
  {
   "cell_type": "code",
   "execution_count": 22,
   "metadata": {},
   "outputs": [],
   "source": [
    "X_train_val, X_test, y_train_val, y_test = train_test_split(X, y, test_size=0.2,random_state=42)\n",
    "X_train, X_val, y_train, y_val = train_test_split(X_train_val, y_train_val, test_size=.25, random_state=43)"
   ]
  },
  {
   "cell_type": "code",
   "execution_count": 23,
   "metadata": {},
   "outputs": [
    {
     "data": {
      "text/plain": [
       "Index(['Director_Avg_Score', 'Lead_Actor_Avg_Score', 'Avg_Rating_by_Genre',\n",
       "       'Awards_Best Motion Picture of the Year', 'Winter', 'Total_Noms'],\n",
       "      dtype='object')"
      ]
     },
     "execution_count": 23,
     "metadata": {},
     "output_type": "execute_result"
    }
   ],
   "source": [
    "X_train.columns"
   ]
  },
  {
   "cell_type": "code",
   "execution_count": 29,
   "metadata": {},
   "outputs": [
    {
     "name": "stderr",
     "output_type": "stream",
     "text": [
      "/Users/sibongiletoure/anaconda3/envs/metis/lib/python3.8/site-packages/pandas/core/frame.py:4316: SettingWithCopyWarning: \n",
      "A value is trying to be set on a copy of a slice from a DataFrame\n",
      "\n",
      "See the caveats in the documentation: https://pandas.pydata.org/pandas-docs/stable/user_guide/indexing.html#returning-a-view-versus-a-copy\n",
      "  return super().fillna(\n"
     ]
    }
   ],
   "source": [
    "X_train.fillna(0,inplace=True)"
   ]
  },
  {
   "cell_type": "code",
   "execution_count": 30,
   "metadata": {},
   "outputs": [
    {
     "name": "stdout",
     "output_type": "stream",
     "text": [
      "<class 'pandas.core.frame.DataFrame'>\n",
      "Int64Index: 681 entries, 184 to 763\n",
      "Data columns (total 6 columns):\n",
      " #   Column                                  Non-Null Count  Dtype  \n",
      "---  ------                                  --------------  -----  \n",
      " 0   Director_Avg_Score                      681 non-null    float64\n",
      " 1   Lead_Actor_Avg_Score                    681 non-null    float64\n",
      " 2   Avg_Rating_by_Genre                     681 non-null    float64\n",
      " 3   Awards_Best Motion Picture of the Year  681 non-null    float64\n",
      " 4   Winter                                  681 non-null    int64  \n",
      " 5   Total_Noms                              681 non-null    int64  \n",
      "dtypes: float64(4), int64(2)\n",
      "memory usage: 37.2 KB\n"
     ]
    }
   ],
   "source": [
    "X_train.info()"
   ]
  },
  {
   "cell_type": "code",
   "execution_count": 31,
   "metadata": {},
   "outputs": [
    {
     "data": {
      "text/plain": [
       "(227, 6)"
      ]
     },
     "execution_count": 31,
     "metadata": {},
     "output_type": "execute_result"
    }
   ],
   "source": [
    "X_val.shape"
   ]
  },
  {
   "cell_type": "code",
   "execution_count": 32,
   "metadata": {},
   "outputs": [
    {
     "data": {
      "text/plain": [
       "LassoCV()"
      ]
     },
     "execution_count": 32,
     "metadata": {},
     "output_type": "execute_result"
    }
   ],
   "source": [
    "lasso_model = LassoCV() \n",
    "lasso_model.fit(X_train, y_train)"
   ]
  },
  {
   "cell_type": "code",
   "execution_count": 36,
   "metadata": {},
   "outputs": [
    {
     "name": "stderr",
     "output_type": "stream",
     "text": [
      "/Users/sibongiletoure/anaconda3/envs/metis/lib/python3.8/site-packages/pandas/core/frame.py:4316: SettingWithCopyWarning: \n",
      "A value is trying to be set on a copy of a slice from a DataFrame\n",
      "\n",
      "See the caveats in the documentation: https://pandas.pydata.org/pandas-docs/stable/user_guide/indexing.html#returning-a-view-versus-a-copy\n",
      "  return super().fillna(\n"
     ]
    }
   ],
   "source": [
    "X_test.fillna(0,inplace=True)"
   ]
  },
  {
   "cell_type": "code",
   "execution_count": 37,
   "metadata": {},
   "outputs": [
    {
     "data": {
      "text/plain": [
       "[('Director_Avg_Score', 0.6309316121196695),\n",
       " ('Lead_Actor_Avg_Score', 0.4424379578601181),\n",
       " ('Avg_Rating_by_Genre', 0.1922410410942592),\n",
       " ('Awards_Best Motion Picture of the Year', -0.0),\n",
       " ('Winter', -0.354410222997788),\n",
       " ('Total_Noms', 0.7369840336742177)]"
      ]
     },
     "execution_count": 37,
     "metadata": {},
     "output_type": "execute_result"
    }
   ],
   "source": [
    "list(zip(smaller_df.drop(columns='metacritic score'), lasso_model.coef_))"
   ]
  },
  {
   "cell_type": "code",
   "execution_count": 38,
   "metadata": {},
   "outputs": [
    {
     "data": {
      "text/html": [
       "<table class=\"simpletable\">\n",
       "<caption>OLS Regression Results</caption>\n",
       "<tr>\n",
       "  <th>Dep. Variable:</th>    <td>metacritic score</td> <th>  R-squared:         </th> <td>   0.818</td> \n",
       "</tr>\n",
       "<tr>\n",
       "  <th>Model:</th>                   <td>OLS</td>       <th>  Adj. R-squared:    </th> <td>   0.817</td> \n",
       "</tr>\n",
       "<tr>\n",
       "  <th>Method:</th>             <td>Least Squares</td>  <th>  F-statistic:       </th> <td>   505.3</td> \n",
       "</tr>\n",
       "<tr>\n",
       "  <th>Date:</th>             <td>Tue, 06 Oct 2020</td> <th>  Prob (F-statistic):</th> <td>1.33e-245</td>\n",
       "</tr>\n",
       "<tr>\n",
       "  <th>Time:</th>                 <td>21:37:29</td>     <th>  Log-Likelihood:    </th> <td> -2173.6</td> \n",
       "</tr>\n",
       "<tr>\n",
       "  <th>No. Observations:</th>      <td>   681</td>      <th>  AIC:               </th> <td>   4361.</td> \n",
       "</tr>\n",
       "<tr>\n",
       "  <th>Df Residuals:</th>          <td>   674</td>      <th>  BIC:               </th> <td>   4393.</td> \n",
       "</tr>\n",
       "<tr>\n",
       "  <th>Df Model:</th>              <td>     6</td>      <th>                     </th>     <td> </td>    \n",
       "</tr>\n",
       "<tr>\n",
       "  <th>Covariance Type:</th>      <td>nonrobust</td>    <th>                     </th>     <td> </td>    \n",
       "</tr>\n",
       "</table>\n",
       "<table class=\"simpletable\">\n",
       "<tr>\n",
       "                     <td></td>                       <th>coef</th>     <th>std err</th>      <th>t</th>      <th>P>|t|</th>  <th>[0.025</th>    <th>0.975]</th>  \n",
       "</tr>\n",
       "<tr>\n",
       "  <th>const</th>                                  <td>  -21.9244</td> <td>    3.164</td> <td>   -6.929</td> <td> 0.000</td> <td>  -28.137</td> <td>  -15.712</td>\n",
       "</tr>\n",
       "<tr>\n",
       "  <th>Director_Avg_Score</th>                     <td>    0.6335</td> <td>    0.029</td> <td>   21.637</td> <td> 0.000</td> <td>    0.576</td> <td>    0.691</td>\n",
       "</tr>\n",
       "<tr>\n",
       "  <th>Lead_Actor_Avg_Score</th>                   <td>    0.4415</td> <td>    0.031</td> <td>   14.169</td> <td> 0.000</td> <td>    0.380</td> <td>    0.503</td>\n",
       "</tr>\n",
       "<tr>\n",
       "  <th>Avg_Rating_by_Genre</th>                    <td>    0.2015</td> <td>    0.047</td> <td>    4.323</td> <td> 0.000</td> <td>    0.110</td> <td>    0.293</td>\n",
       "</tr>\n",
       "<tr>\n",
       "  <th>Awards_Best Motion Picture of the Year</th> <td>   -1.3400</td> <td>    0.870</td> <td>   -1.541</td> <td> 0.124</td> <td>   -3.048</td> <td>    0.368</td>\n",
       "</tr>\n",
       "<tr>\n",
       "  <th>Winter</th>                                 <td>   -1.1310</td> <td>    0.472</td> <td>   -2.394</td> <td> 0.017</td> <td>   -2.059</td> <td>   -0.203</td>\n",
       "</tr>\n",
       "<tr>\n",
       "  <th>Total_Noms</th>                             <td>    0.8590</td> <td>    0.098</td> <td>    8.774</td> <td> 0.000</td> <td>    0.667</td> <td>    1.051</td>\n",
       "</tr>\n",
       "</table>\n",
       "<table class=\"simpletable\">\n",
       "<tr>\n",
       "  <th>Omnibus:</th>       <td>27.284</td> <th>  Durbin-Watson:     </th> <td>   2.024</td>\n",
       "</tr>\n",
       "<tr>\n",
       "  <th>Prob(Omnibus):</th> <td> 0.000</td> <th>  Jarque-Bera (JB):  </th> <td>  44.098</td>\n",
       "</tr>\n",
       "<tr>\n",
       "  <th>Skew:</th>          <td>-0.313</td> <th>  Prob(JB):          </th> <td>2.66e-10</td>\n",
       "</tr>\n",
       "<tr>\n",
       "  <th>Kurtosis:</th>      <td> 4.078</td> <th>  Cond. No.          </th> <td>1.75e+03</td>\n",
       "</tr>\n",
       "</table><br/><br/>Notes:<br/>[1] Standard Errors assume that the covariance matrix of the errors is correctly specified.<br/>[2] The condition number is large, 1.75e+03. This might indicate that there are<br/>strong multicollinearity or other numerical problems."
      ],
      "text/plain": [
       "<class 'statsmodels.iolib.summary.Summary'>\n",
       "\"\"\"\n",
       "                            OLS Regression Results                            \n",
       "==============================================================================\n",
       "Dep. Variable:       metacritic score   R-squared:                       0.818\n",
       "Model:                            OLS   Adj. R-squared:                  0.817\n",
       "Method:                 Least Squares   F-statistic:                     505.3\n",
       "Date:                Tue, 06 Oct 2020   Prob (F-statistic):          1.33e-245\n",
       "Time:                        21:37:29   Log-Likelihood:                -2173.6\n",
       "No. Observations:                 681   AIC:                             4361.\n",
       "Df Residuals:                     674   BIC:                             4393.\n",
       "Df Model:                           6                                         \n",
       "Covariance Type:            nonrobust                                         \n",
       "==========================================================================================================\n",
       "                                             coef    std err          t      P>|t|      [0.025      0.975]\n",
       "----------------------------------------------------------------------------------------------------------\n",
       "const                                    -21.9244      3.164     -6.929      0.000     -28.137     -15.712\n",
       "Director_Avg_Score                         0.6335      0.029     21.637      0.000       0.576       0.691\n",
       "Lead_Actor_Avg_Score                       0.4415      0.031     14.169      0.000       0.380       0.503\n",
       "Avg_Rating_by_Genre                        0.2015      0.047      4.323      0.000       0.110       0.293\n",
       "Awards_Best Motion Picture of the Year    -1.3400      0.870     -1.541      0.124      -3.048       0.368\n",
       "Winter                                    -1.1310      0.472     -2.394      0.017      -2.059      -0.203\n",
       "Total_Noms                                 0.8590      0.098      8.774      0.000       0.667       1.051\n",
       "==============================================================================\n",
       "Omnibus:                       27.284   Durbin-Watson:                   2.024\n",
       "Prob(Omnibus):                  0.000   Jarque-Bera (JB):               44.098\n",
       "Skew:                          -0.313   Prob(JB):                     2.66e-10\n",
       "Kurtosis:                       4.078   Cond. No.                     1.75e+03\n",
       "==============================================================================\n",
       "\n",
       "Notes:\n",
       "[1] Standard Errors assume that the covariance matrix of the errors is correctly specified.\n",
       "[2] The condition number is large, 1.75e+03. This might indicate that there are\n",
       "strong multicollinearity or other numerical problems.\n",
       "\"\"\""
      ]
     },
     "execution_count": 38,
     "metadata": {},
     "output_type": "execute_result"
    }
   ],
   "source": [
    "import statsmodels.api as sm\n",
    "import statsmodels.formula.api as smf \n",
    "\n",
    "model = sm.OLS(y_train, sm.add_constant(X_train))\n",
    "results = model.fit()\n",
    "\n",
    "results.summary()"
   ]
  },
  {
   "cell_type": "code",
   "execution_count": 39,
   "metadata": {},
   "outputs": [],
   "source": [
    "test_set_pred = lasso_model.predict(X_test)"
   ]
  },
  {
   "cell_type": "code",
   "execution_count": 42,
   "metadata": {},
   "outputs": [
    {
     "data": {
      "text/plain": [
       "0.8167530912695501"
      ]
     },
     "execution_count": 42,
     "metadata": {},
     "output_type": "execute_result"
    }
   ],
   "source": [
    "lasso_model.score(X_train,y_train)"
   ]
  },
  {
   "cell_type": "code",
   "execution_count": 40,
   "metadata": {},
   "outputs": [
    {
     "data": {
      "text/plain": [
       "[<matplotlib.lines.Line2D at 0x13ac9e910>]"
      ]
     },
     "execution_count": 40,
     "metadata": {},
     "output_type": "execute_result"
    },
    {
     "data": {
      "image/png": "[encoded data removed]",
      "text/plain": [
       "<Figure size 432x288 with 1 Axes>"
      ]
     },
     "metadata": {
      "needs_background": "light"
     },
     "output_type": "display_data"
    }
   ],
   "source": [
    "plt.scatter(test_set_pred, y_test, alpha=.1)\n",
    "plt.plot(np.linspace(50,100,1), np.linspace(50,100,1))"
   ]
  },
  {
   "cell_type": "code",
   "execution_count": 43,
   "metadata": {},
   "outputs": [
    {
     "data": {
      "text/plain": [
       "StandardScaler()"
      ]
     },
     "execution_count": 43,
     "metadata": {},
     "output_type": "execute_result"
    }
   ],
   "source": [
    "std = StandardScaler()\n",
    "std.fit(X_train.values)"
   ]
  },
  {
   "cell_type": "code",
   "execution_count": 44,
   "metadata": {},
   "outputs": [],
   "source": [
    "X_tr = std.transform(X_train.values)"
   ]
  },
  {
   "cell_type": "code",
   "execution_count": 45,
   "metadata": {},
   "outputs": [],
   "source": [
    "X_te = std.transform(X_test.values)"
   ]
  },
  {
   "cell_type": "code",
   "execution_count": 46,
   "metadata": {},
   "outputs": [
    {
     "data": {
      "text/plain": [
       "(pandas.core.frame.DataFrame, numpy.ndarray)"
      ]
     },
     "execution_count": 46,
     "metadata": {},
     "output_type": "execute_result"
    }
   ],
   "source": [
    "type(X_train), type(X_tr)"
   ]
  },
  {
   "cell_type": "code",
   "execution_count": 47,
   "metadata": {},
   "outputs": [
    {
     "data": {
      "text/plain": [
       "0.8181263313206335"
      ]
     },
     "execution_count": 47,
     "metadata": {},
     "output_type": "execute_result"
    }
   ],
   "source": [
    "alphavec = 10**np.linspace(-2,2,200)\n",
    "\n",
    "lasso_model = LassoCV(cv=5)\n",
    "lasso_model.fit(X_tr, y_train)\n",
    "lasso_model.score(X_tr,y_train)"
   ]
  },
  {
   "cell_type": "code",
   "execution_count": 48,
   "metadata": {},
   "outputs": [
    {
     "data": {
      "text/plain": [
       "0.011752854129383728"
      ]
     },
     "execution_count": 48,
     "metadata": {},
     "output_type": "execute_result"
    }
   ],
   "source": [
    "lasso_model.alpha_"
   ]
  },
  {
   "cell_type": "code",
   "execution_count": 49,
   "metadata": {},
   "outputs": [
    {
     "data": {
      "image/png": "[encoded data removed]",
      "text/plain": [
       "<Figure size 432x288 with 1 Axes>"
      ]
     },
     "metadata": {
      "needs_background": "light"
     },
     "output_type": "display_data"
    }
   ],
   "source": [
    "plt.scatter(test_set_pred, y_test, alpha=0.01)\n",
    "plt.plot(np.linspace(0,100,1), np.linspace(0,100,1));"
   ]
  },
  {
   "cell_type": "code",
   "execution_count": null,
   "metadata": {},
   "outputs": [],
   "source": []
  }
 ],
 "metadata": {
  "kernelspec": {
   "display_name": "Python 3",
   "language": "python",
   "name": "python3"
  },
  "language_info": {
   "codemirror_mode": {
    "name": "ipython",
    "version": 3
   },
   "file_extension": ".py",
   "mimetype": "text/x-python",
   "name": "python",
   "nbconvert_exporter": "python",
   "pygments_lexer": "ipython3",
   "version": "3.8.5"
  }
 },
 "nbformat": 4,
 "nbformat_minor": 4
}
