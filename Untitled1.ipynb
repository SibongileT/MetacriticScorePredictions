{
 "cells": [
  {
   "cell_type": "code",
   "execution_count": 2,
   "metadata": {},
   "outputs": [],
   "source": [
    "from bs4 import BeautifulSoup\n",
    "import requests\n",
    "import numpy as np\n",
    "import time, os\n",
    "from time import sleep\n",
    "from random import randint\n",
    "import re\n",
    "import json\n",
    "from fake_useragent import UserAgent"
   ]
  },
  {
   "cell_type": "code",
   "execution_count": 3,
   "metadata": {},
   "outputs": [],
   "source": [
    "url = 'https://www.imdb.com/title/tt8991268/'\n",
    "response = requests.get(url)\n",
    "page = response.text\n",
    "soup = BeautifulSoup(page, \"lxml\")"
   ]
  },
  {
   "cell_type": "code",
   "execution_count": null,
   "metadata": {},
   "outputs": [],
   "source": [
    "title_div = soup.find('div',class_='title_wrapper')\n",
    "title_div\n",
    "\n",
    "#get the writers for the movie\n",
    "writers = get_movie_crew(soup,'Writers:')\n",
    "\n",
    "#Get the directors for the movie\n",
    "directors = get_movie_crew(soup,'Directors:')\n",
    "\n",
    "#get the cast of the movie:\n",
    "casts = get_movie_crew(soup,'Casts:')\n",
    "casts = casts[0:3]\n",
    "\n",
    "#metacritic score\n",
    "metacritic_score = soup.find('div',{'class':'titleReviewBar'}).span.text\n",
    "\n",
    "#runtime\n",
    "runtime = get_movie_value(soup,'Run')\n",
    "converted_runtime = \n",
    "\n",
    "#title \n",
    "title_string = get_movie_value(soup,'title')\n",
    "title_string.split('(')[0].strip()\n",
    "\n",
    "#Release Date\n",
    "release_and_rating_string = title_div.find('div',{'class':'subtext'}).text\n",
    "release = release_and_rating_string.split('|')[3].strip()\n",
    "release = release.split('(')\n",
    "release = release[0]\n",
    "converted_release_date = \n",
    "    "
   ]
  },
  {
   "cell_type": "code",
   "execution_count": null,
   "metadata": {},
   "outputs": [],
   "source": [
    "def get_movie_crew(soup,field_name):\n",
    "    movie_crew_list_ = []\n",
    "    for a in soup.find('h4', text=re.compile(field_name)).parent.find_all('a'):\n",
    "        movie_crew_list.append(a.text.strip())\n",
    "    return movie_crew_list"
   ]
  },
  {
   "cell_type": "code",
   "execution_count": null,
   "metadata": {},
   "outputs": [],
   "source": [
    "def get_movie_value(soup, field_name):\n",
    "    \n",
    "    '''Grab a value from Box Office Mojo HTML\n",
    "    \n",
    "    Takes a string attribute of a movie on the page and returns the string in\n",
    "    the next sibling object (the value for that attribute) or None if nothing is found.\n",
    "    '''\n",
    "    \n",
    "    obj = soup.find(text=re.compile(field_name))\n",
    "    \n",
    "    if not obj: \n",
    "        return None\n",
    "    \n",
    "    # this works for most of the values\n",
    "    next_element = obj.findNext()\n",
    "    \n",
    "    if next_element:\n",
    "        return next_element.text \n",
    "    else:\n",
    "        return None"
   ]
  },
  {
   "cell_type": "code",
   "execution_count": null,
   "metadata": {},
   "outputs": [],
   "source": [
    "def convert_runtime(runtime):\n",
    "    "
   ]
  },
  {
   "cell_type": "code",
   "execution_count": null,
   "metadata": {},
   "outputs": [],
   "source": [
    "def converted_release(date)"
   ]
  }
 ],
 "metadata": {
  "kernelspec": {
   "display_name": "Python 3",
   "language": "python",
   "name": "python3"
  },
  "language_info": {
   "codemirror_mode": {
    "name": "ipython",
    "version": 3
   },
   "file_extension": ".py",
   "mimetype": "text/x-python",
   "name": "python",
   "nbconvert_exporter": "python",
   "pygments_lexer": "ipython3",
   "version": "3.8.5"
  }
 },
 "nbformat": 4,
 "nbformat_minor": 4
}
