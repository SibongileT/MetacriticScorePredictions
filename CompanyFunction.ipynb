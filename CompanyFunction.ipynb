{
 "cells": [
  {
   "cell_type": "code",
   "execution_count": 25,
   "metadata": {},
   "outputs": [],
   "source": [
    "from bs4 import BeautifulSoup\n",
    "import requests\n",
    "import numpy as np\n",
    "import time, os\n",
    "from time import sleep\n",
    "from random import randint\n",
    "import re\n",
    "import json\n",
    "from fake_useragent import UserAgent\n",
    "import math"
   ]
  },
  {
   "cell_type": "code",
   "execution_count": 26,
   "metadata": {},
   "outputs": [],
   "source": [
    "# url = 'https://www.imdb.com/title/tt1302006/companycredits'\n",
    "# response = requests.get(url)\n",
    "# page = response.text\n",
    "# soup = BeautifulSoup(page, \"lxml\")"
   ]
  },
  {
   "cell_type": "code",
   "execution_count": 27,
   "metadata": {},
   "outputs": [],
   "source": [
    "def get_distribution_company(soup):\n",
    "    usa_distribution = ''\n",
    "    usa_distribution_and_release = []\n",
    "    distribution_company = soup.find('h4', {'id':'distributors'}).parent.find_all('li')\n",
    "    for country_distro in distribution_company:\n",
    "        if 'USA' in country_distro.text:\n",
    "            usa_distribution = country_distro.text\n",
    "            break\n",
    "    usa_distribution_and_release = usa_distribution.split('(')\n",
    "    usa_distribution = usa_distribution_and_release[0].replace('\\n','').strip()\n",
    "    return usa_distribution"
   ]
  },
  {
   "cell_type": "code",
   "execution_count": 28,
   "metadata": {},
   "outputs": [],
   "source": [
    "IMDB_id = 'tt1302006'\n",
    "distribution_company = get_distribution_company(soup)"
   ]
  },
  {
   "cell_type": "code",
   "execution_count": 23,
   "metadata": {},
   "outputs": [],
   "source": [
    "headers = ['IMDBId','distributionCompany']\n",
    "\n",
    "movie_data = []\n",
    "movie_dict = dict(zip(headers, [IMDB_id,\n",
    "                                distribution_company]))\n",
    "\n",
    "movie_data.append(movie_dict)"
   ]
  },
  {
   "cell_type": "code",
   "execution_count": 24,
   "metadata": {},
   "outputs": [
    {
     "data": {
      "text/plain": [
       "[{'IMDBId': 'tt1302006', 'distributionCompany': 'Netflix'}]"
      ]
     },
     "execution_count": 24,
     "metadata": {},
     "output_type": "execute_result"
    }
   ],
   "source": [
    "movie_data"
   ]
  },
  {
   "cell_type": "code",
   "execution_count": 33,
   "metadata": {},
   "outputs": [],
   "source": [
    "\n",
    "def get_movie_dict(page):\n",
    "    \n",
    "    url = 'https://www.imdb.com/title/'+str(page)+'/companycredits'\n",
    "    response = requests.get(url)\n",
    "    page = response.text\n",
    "    soup = BeautifulSoup(page, \"lxml\")\n",
    "\n",
    "    IMDB_id = page\n",
    "    distribution_company = get_distribution_company(soup)\n",
    "\n",
    "    headers = ['IMDBId','distributionCompany']\n",
    "\n",
    "    movie_data = []\n",
    "    movie_dict = dict(zip(headers, [IMDB_id,\n",
    "                                    distribution_company]))\n",
    "\n",
    "    movie_data.append(movie_dict)\n",
    "    sleep(randint(2,10))\n",
    "    return movie_dict"
   ]
  },
  {
   "cell_type": "code",
   "execution_count": 34,
   "metadata": {},
   "outputs": [
    {
     "ename": "KeyboardInterrupt",
     "evalue": "",
     "output_type": "error",
     "traceback": [
      "\u001b[0;31m---------------------------------------------------------------------------\u001b[0m",
      "\u001b[0;31mKeyboardInterrupt\u001b[0m                         Traceback (most recent call last)",
      "\u001b[0;32m<ipython-input-34-02d0a930806f>\u001b[0m in \u001b[0;36m<module>\u001b[0;34m\u001b[0m\n\u001b[1;32m     39\u001b[0m  'tt0113720']\n\u001b[1;32m     40\u001b[0m \u001b[0;32mfor\u001b[0m \u001b[0mlink\u001b[0m \u001b[0;32min\u001b[0m \u001b[0mlinks\u001b[0m\u001b[0;34m:\u001b[0m\u001b[0;34m\u001b[0m\u001b[0;34m\u001b[0m\u001b[0m\n\u001b[0;32m---> 41\u001b[0;31m     \u001b[0mdistribution_list\u001b[0m\u001b[0;34m.\u001b[0m\u001b[0mappend\u001b[0m\u001b[0;34m(\u001b[0m\u001b[0mget_movie_dict\u001b[0m\u001b[0;34m(\u001b[0m\u001b[0mlink\u001b[0m\u001b[0;34m)\u001b[0m\u001b[0;34m)\u001b[0m\u001b[0;34m\u001b[0m\u001b[0;34m\u001b[0m\u001b[0m\n\u001b[0m\u001b[1;32m     42\u001b[0m \u001b[0mdistribution_links\u001b[0m\u001b[0;34m\u001b[0m\u001b[0;34m\u001b[0m\u001b[0m\n",
      "\u001b[0;32m<ipython-input-33-7a7d558168b3>\u001b[0m in \u001b[0;36mget_movie_dict\u001b[0;34m(page)\u001b[0m\n\u001b[1;32m     16\u001b[0m \u001b[0;34m\u001b[0m\u001b[0m\n\u001b[1;32m     17\u001b[0m     \u001b[0mmovie_data\u001b[0m\u001b[0;34m.\u001b[0m\u001b[0mappend\u001b[0m\u001b[0;34m(\u001b[0m\u001b[0mmovie_dict\u001b[0m\u001b[0;34m)\u001b[0m\u001b[0;34m\u001b[0m\u001b[0;34m\u001b[0m\u001b[0m\n\u001b[0;32m---> 18\u001b[0;31m     \u001b[0msleep\u001b[0m\u001b[0;34m(\u001b[0m\u001b[0mrandint\u001b[0m\u001b[0;34m(\u001b[0m\u001b[0;36m2\u001b[0m\u001b[0;34m,\u001b[0m\u001b[0;36m10\u001b[0m\u001b[0;34m)\u001b[0m\u001b[0;34m)\u001b[0m\u001b[0;34m\u001b[0m\u001b[0;34m\u001b[0m\u001b[0m\n\u001b[0m\u001b[1;32m     19\u001b[0m     \u001b[0;32mreturn\u001b[0m \u001b[0mmovie_dict\u001b[0m\u001b[0;34m\u001b[0m\u001b[0;34m\u001b[0m\u001b[0m\n",
      "\u001b[0;31mKeyboardInterrupt\u001b[0m: "
     ]
    }
   ],
   "source": [
    "distribution_list = []\n",
    "links = ['tt0454876',\n",
    " 'tt0092593',\n",
    " 'tt7131622',\n",
    " 'tt0088683',\n",
    " 'tt0090886',\n",
    " 'tt0268126',\n",
    " 'tt0090756',\n",
    " 'tt1532503',\n",
    " 'tt0119164',\n",
    " 'tt0478304',\n",
    " 'tt0100557',\n",
    " 'tt0082095',\n",
    " 'tt0167404',\n",
    " 'tt0308644',\n",
    " 'tt0245712',\n",
    " 'tt0080678',\n",
    " 'tt6304162',\n",
    " 'tt0120338',\n",
    " 'tt4595882',\n",
    " 'tt2080374',\n",
    " 'tt0107206',\n",
    " 'tt0111495',\n",
    " 'tt0150915',\n",
    " 'tt0387131',\n",
    " 'tt2582802',\n",
    " 'tt0124315',\n",
    " 'tt0450259',\n",
    " 'tt0079522',\n",
    " 'tt4550098',\n",
    " 'tt2278388',\n",
    " 'tt0138097',\n",
    " 'tt3224458',\n",
    " 'tt2852470',\n",
    " 'tt0082971',\n",
    " 'tt0414387',\n",
    " 'tt0117364',\n",
    " 'tt0404203',\n",
    " 'tt0113720']\n",
    "for link in links:\n",
    "    distribution_list.append(get_movie_dict(link))\n",
    "distribution_list"
   ]
  },
  {
   "cell_type": "code",
   "execution_count": null,
   "metadata": {},
   "outputs": [],
   "source": []
  }
 ],
 "metadata": {
  "kernelspec": {
   "display_name": "Python 3",
   "language": "python",
   "name": "python3"
  },
  "language_info": {
   "codemirror_mode": {
    "name": "ipython",
    "version": 3
   },
   "file_extension": ".py",
   "mimetype": "text/x-python",
   "name": "python",
   "nbconvert_exporter": "python",
   "pygments_lexer": "ipython3",
   "version": "3.8.5"
  }
 },
 "nbformat": 4,
 "nbformat_minor": 4
}
