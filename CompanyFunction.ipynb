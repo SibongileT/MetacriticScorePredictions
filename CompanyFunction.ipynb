{
 "cells": [
  {
   "cell_type": "code",
   "execution_count": 1,
   "metadata": {},
   "outputs": [],
   "source": [
    "from bs4 import BeautifulSoup\n",
    "import requests\n",
    "import numpy as np\n",
    "import time, os\n",
    "from time import sleep\n",
    "from random import randint\n",
    "import re\n",
    "import json\n",
    "from fake_useragent import UserAgent\n",
    "import math"
   ]
  },
  {
   "cell_type": "code",
   "execution_count": 2,
   "metadata": {},
   "outputs": [],
   "source": [
    "# url = 'https://www.imdb.com/title/tt1302006/companycredits'\n",
    "# response = requests.get(url)\n",
    "# page = response.text\n",
    "# soup = BeautifulSoup(page, \"lxml\")"
   ]
  },
  {
   "cell_type": "code",
   "execution_count": 6,
   "metadata": {},
   "outputs": [],
   "source": [
    "def get_distribution_company(soup):\n",
    "    usa_distribution = ''\n",
    "    usa_distribution_and_release = []\n",
    "    distribution_company = soup.find('h4', {'id':'distributors'}).parent.find_all('li')\n",
    "    for country_distro in distribution_company:\n",
    "        if 'USA' in country_distro.text:\n",
    "            usa_distribution = country_distro.text\n",
    "            break\n",
    "    usa_distribution_and_release = usa_distribution.split('(')\n",
    "    usa_distribution = usa_distribution_and_release[0].replace('\\n','').strip()\n",
    "    return usa_distribution"
   ]
  },
  {
   "cell_type": "code",
   "execution_count": 24,
   "metadata": {},
   "outputs": [
    {
     "data": {
      "text/plain": [
       "[{'IMDBId': 'tt1302006', 'distributionCompany': 'Netflix'}]"
      ]
     },
     "execution_count": 24,
     "metadata": {},
     "output_type": "execute_result"
    }
   ],
   "source": [
    "movie_data"
   ]
  },
  {
   "cell_type": "code",
   "execution_count": 11,
   "metadata": {},
   "outputs": [],
   "source": [
    "\n",
    "def get_movie_dict(link):\n",
    "    \n",
    "    url = 'https://www.imdb.com/title/'+str(link)+'/companycredits'\n",
    "    response = requests.get(url)\n",
    "    page = response.text\n",
    "    soup = BeautifulSoup(page, \"lxml\")\n",
    "\n",
    "    IMDB_id = link\n",
    "    distribution_company = get_distribution_company(soup)\n",
    "\n",
    "    headers = ['IMDBId','distributionCompany']\n",
    "\n",
    "    movie_data = []\n",
    "    movie_dict = dict(zip(headers, [IMDB_id,\n",
    "                                    distribution_company]))\n",
    "\n",
    "    movie_data.append(movie_dict)\n",
    "    sleep(randint(2,10))\n",
    "    return movie_dict"
   ]
  },
  {
   "cell_type": "code",
   "execution_count": 12,
   "metadata": {},
   "outputs": [
    {
     "data": {
      "text/plain": [
       "[{'IMDBId': 'tt0454876', 'distributionCompany': 'Fox 2000 Pictures'},\n",
       " {'IMDBId': 'tt0092593', 'distributionCompany': 'Orion Classics'}]"
      ]
     },
     "execution_count": 12,
     "metadata": {},
     "output_type": "execute_result"
    }
   ],
   "source": [
    "distribution_list = []\n",
    "links = ['tt0454876',\n",
    " 'tt0092593']\n",
    "for link in links:\n",
    "    distribution_list.append(get_movie_dict(link))\n",
    "distribution_list"
   ]
  },
  {
   "cell_type": "code",
   "execution_count": null,
   "metadata": {},
   "outputs": [],
   "source": []
  }
 ],
 "metadata": {
  "kernelspec": {
   "display_name": "Python 3",
   "language": "python",
   "name": "python3"
  },
  "language_info": {
   "codemirror_mode": {
    "name": "ipython",
    "version": 3
   },
   "file_extension": ".py",
   "mimetype": "text/x-python",
   "name": "python",
   "nbconvert_exporter": "python",
   "pygments_lexer": "ipython3",
   "version": "3.8.5"
  }
 },
 "nbformat": 4,
 "nbformat_minor": 4
}
