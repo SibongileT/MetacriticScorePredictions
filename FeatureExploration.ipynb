{
 "cells": [
  {
   "cell_type": "markdown",
   "metadata": {},
   "source": [
    "## Explore the relationship between metacritic score and the current features to find what features to encode or engineer"
   ]
  },
  {
   "cell_type": "code",
   "execution_count": 1,
   "metadata": {},
   "outputs": [],
   "source": [
    "%config InlineBackend.figure_formats = ['retina']\n",
    "\n",
    "import sys\n",
    "import pandas as pd\n",
    "import matplotlib.pyplot as plt\n",
    "import numpy as np\n",
    "import seaborn as sns\n",
    "import statsmodels.api as sm"
   ]
  },
  {
   "cell_type": "code",
   "execution_count": 2,
   "metadata": {},
   "outputs": [],
   "source": [
    "oscars_df = pd.read_csv('oscar_movies_data.csv')"
   ]
  },
  {
   "cell_type": "code",
   "execution_count": 3,
   "metadata": {},
   "outputs": [
    {
     "data": {
      "text/html": [
       "<div>\n",
       "<style scoped>\n",
       "    .dataframe tbody tr th:only-of-type {\n",
       "        vertical-align: middle;\n",
       "    }\n",
       "\n",
       "    .dataframe tbody tr th {\n",
       "        vertical-align: top;\n",
       "    }\n",
       "\n",
       "    .dataframe thead th {\n",
       "        text-align: right;\n",
       "    }\n",
       "</style>\n",
       "<table border=\"1\" class=\"dataframe\">\n",
       "  <thead>\n",
       "    <tr style=\"text-align: right;\">\n",
       "      <th></th>\n",
       "      <th>Unnamed: 0</th>\n",
       "      <th>runtime (mins)</th>\n",
       "      <th>metacritic score</th>\n",
       "      <th>budget</th>\n",
       "      <th>Total_Noms</th>\n",
       "    </tr>\n",
       "  </thead>\n",
       "  <tbody>\n",
       "    <tr>\n",
       "      <th>count</th>\n",
       "      <td>3303.000000</td>\n",
       "      <td>3303.000000</td>\n",
       "      <td>3303.000000</td>\n",
       "      <td>3.223000e+03</td>\n",
       "      <td>3303.000000</td>\n",
       "    </tr>\n",
       "    <tr>\n",
       "      <th>mean</th>\n",
       "      <td>1788.924311</td>\n",
       "      <td>127.243112</td>\n",
       "      <td>76.183470</td>\n",
       "      <td>4.504520e+07</td>\n",
       "      <td>5.398728</td>\n",
       "    </tr>\n",
       "    <tr>\n",
       "      <th>std</th>\n",
       "      <td>1049.322783</td>\n",
       "      <td>23.834388</td>\n",
       "      <td>12.732737</td>\n",
       "      <td>4.926863e+07</td>\n",
       "      <td>3.500535</td>\n",
       "    </tr>\n",
       "    <tr>\n",
       "      <th>min</th>\n",
       "      <td>0.000000</td>\n",
       "      <td>70.000000</td>\n",
       "      <td>16.000000</td>\n",
       "      <td>6.500000e+04</td>\n",
       "      <td>1.000000</td>\n",
       "    </tr>\n",
       "    <tr>\n",
       "      <th>25%</th>\n",
       "      <td>886.500000</td>\n",
       "      <td>111.000000</td>\n",
       "      <td>68.000000</td>\n",
       "      <td>1.400000e+07</td>\n",
       "      <td>2.000000</td>\n",
       "    </tr>\n",
       "    <tr>\n",
       "      <th>50%</th>\n",
       "      <td>1781.000000</td>\n",
       "      <td>124.000000</td>\n",
       "      <td>78.000000</td>\n",
       "      <td>2.700000e+07</td>\n",
       "      <td>5.000000</td>\n",
       "    </tr>\n",
       "    <tr>\n",
       "      <th>75%</th>\n",
       "      <td>2649.500000</td>\n",
       "      <td>139.000000</td>\n",
       "      <td>86.000000</td>\n",
       "      <td>5.500000e+07</td>\n",
       "      <td>8.000000</td>\n",
       "    </tr>\n",
       "    <tr>\n",
       "      <th>max</th>\n",
       "      <td>3711.000000</td>\n",
       "      <td>224.000000</td>\n",
       "      <td>100.000000</td>\n",
       "      <td>3.210000e+08</td>\n",
       "      <td>16.000000</td>\n",
       "    </tr>\n",
       "  </tbody>\n",
       "</table>\n",
       "</div>"
      ],
      "text/plain": [
       "        Unnamed: 0  runtime (mins)  metacritic score        budget  \\\n",
       "count  3303.000000     3303.000000       3303.000000  3.223000e+03   \n",
       "mean   1788.924311      127.243112         76.183470  4.504520e+07   \n",
       "std    1049.322783       23.834388         12.732737  4.926863e+07   \n",
       "min       0.000000       70.000000         16.000000  6.500000e+04   \n",
       "25%     886.500000      111.000000         68.000000  1.400000e+07   \n",
       "50%    1781.000000      124.000000         78.000000  2.700000e+07   \n",
       "75%    2649.500000      139.000000         86.000000  5.500000e+07   \n",
       "max    3711.000000      224.000000        100.000000  3.210000e+08   \n",
       "\n",
       "        Total_Noms  \n",
       "count  3303.000000  \n",
       "mean      5.398728  \n",
       "std       3.500535  \n",
       "min       1.000000  \n",
       "25%       2.000000  \n",
       "50%       5.000000  \n",
       "75%       8.000000  \n",
       "max      16.000000  "
      ]
     },
     "execution_count": 3,
     "metadata": {},
     "output_type": "execute_result"
    }
   ],
   "source": [
    "oscars_df.describe()"
   ]
  },
  {
   "cell_type": "code",
   "execution_count": 4,
   "metadata": {},
   "outputs": [
    {
     "data": {
      "text/plain": [
       "(3303, 23)"
      ]
     },
     "execution_count": 4,
     "metadata": {},
     "output_type": "execute_result"
    }
   ],
   "source": [
    "oscars_df.shape"
   ]
  },
  {
   "cell_type": "code",
   "execution_count": 5,
   "metadata": {},
   "outputs": [
    {
     "data": {
      "text/plain": [
       "1     519\n",
       "2     379\n",
       "3     318\n",
       "5     305\n",
       "4     296\n",
       "6     284\n",
       "7     266\n",
       "8     264\n",
       "9     207\n",
       "10    150\n",
       "12    108\n",
       "11     99\n",
       "13     78\n",
       "16     16\n",
       "14     14\n",
       "Name: Total_Noms, dtype: int64"
      ]
     },
     "execution_count": 5,
     "metadata": {},
     "output_type": "execute_result"
    }
   ],
   "source": [
    "oscars_df['Total_Noms'].value_counts()"
   ]
  },
  {
   "cell_type": "code",
   "execution_count": 6,
   "metadata": {},
   "outputs": [],
   "source": [
    "oscars_df.drop(columns = ['Unnamed: 0'],inplace=True)"
   ]
  },
  {
   "cell_type": "code",
   "execution_count": 7,
   "metadata": {},
   "outputs": [
    {
     "data": {
      "text/plain": [
       "<Figure size 2880x2880 with 0 Axes>"
      ]
     },
     "metadata": {},
     "output_type": "display_data"
    },
    {
     "data": {
      "image/png": "[encoded data removed]",
      "text/plain": [
       "<Figure size 448.375x360 with 1 Axes>"
      ]
     },
     "metadata": {
      "image/png": {
       "height": 1075,
       "width": 446
      },
      "needs_background": "light"
     },
     "output_type": "display_data"
    }
   ],
   "source": [
    "plt.figure(figsize=(40,40))\n",
    "sns.displot(oscars_df, x=\"genre\", hue=\"metacritic score\");"
   ]
  },
  {
   "cell_type": "code",
   "execution_count": 8,
   "metadata": {},
   "outputs": [
    {
     "data": {
      "text/plain": [
       "<Figure size 2880x2880 with 0 Axes>"
      ]
     },
     "metadata": {},
     "output_type": "display_data"
    },
    {
     "data": {
      "image/png": "[encoded data removed]",
      "text/plain": [
       "<Figure size 448.375x360 with 1 Axes>"
      ]
     },
     "metadata": {
      "image/png": {
       "height": 1075,
       "width": 446
      },
      "needs_background": "light"
     },
     "output_type": "display_data"
    }
   ],
   "source": [
    "plt.figure(figsize=(40,40))\n",
    "sns.displot(oscars_df, x=\"main_genre\", hue=\"metacritic score\");"
   ]
  },
  {
   "cell_type": "markdown",
   "metadata": {},
   "source": [
    "## Create dummies for awards"
   ]
  },
  {
   "cell_type": "code",
   "execution_count": 9,
   "metadata": {},
   "outputs": [],
   "source": [
    "top_ten = oscars_df['Awards'].value_counts().iloc[:10]\n",
    "mask = oscars_df['Awards'].isin(top_ten.index)"
   ]
  },
  {
   "cell_type": "code",
   "execution_count": 10,
   "metadata": {},
   "outputs": [
    {
     "data": {
      "text/plain": [
       "Best Picture                         122\n",
       "Best Director                        122\n",
       "Best Motion Picture of the Year      121\n",
       "Best Film Editing                    115\n",
       "Best Actor in a Leading Role         113\n",
       "Best Actor in a Supporting Role      113\n",
       "Best Art Direction-Set Decoration    107\n",
       "Best Cinematography                  105\n",
       "Best Sound                           102\n",
       "Best Actress in a Leading Role       102\n",
       "Name: Awards, dtype: int64"
      ]
     },
     "execution_count": 10,
     "metadata": {},
     "output_type": "execute_result"
    }
   ],
   "source": [
    "oscars_df['Awards'][mask].value_counts()"
   ]
  },
  {
   "cell_type": "code",
   "execution_count": 11,
   "metadata": {},
   "outputs": [],
   "source": [
    "top_awards= oscars_df['Awards'][mask]"
   ]
  },
  {
   "cell_type": "code",
   "execution_count": 12,
   "metadata": {},
   "outputs": [
    {
     "data": {
      "image/png": "[encoded data removed]",
      "text/plain": [
       "<Figure size 864x864 with 1 Axes>"
      ]
     },
     "metadata": {
      "image/png": {
       "height": 696,
       "width": 772
      },
      "needs_background": "light"
     },
     "output_type": "display_data"
    }
   ],
   "source": [
    "plt.figure(figsize=(12,12))\n",
    "sns.boxplot(x=top_awards, y=\"metacritic score\", data=oscars_df);"
   ]
  },
  {
   "cell_type": "code",
   "execution_count": 13,
   "metadata": {},
   "outputs": [
    {
     "data": {
      "text/plain": [
       "Awards\n",
       "Best Achievement in Art Direction                                              72.294118\n",
       "Best Achievement in Cinematography                                             80.615385\n",
       "Best Achievement in Costume Design                                             71.805556\n",
       "Best Achievement in Directing                                                  84.590361\n",
       "Best Achievement in Film Editing                                               81.902439\n",
       "Best Achievement in Makeup                                                     65.428571\n",
       "Best Achievement in Makeup and Hairstyling                                     68.809524\n",
       "Best Achievement in Music Written for Motion Pictures (Original Score)         80.777778\n",
       "Best Achievement in Music Written for Motion Pictures (Original Song)          75.857143\n",
       "Best Achievement in Music Written for Motion Pictures, Original Score          78.745455\n",
       "Best Achievement in Music Written for Motion Pictures, Original Song           70.194444\n",
       "Best Achievement in Production Design                                          79.277778\n",
       "Best Achievement in Sound Editing                                              78.692308\n",
       "Best Achievement in Sound Mixing                                               77.722222\n",
       "Best Achievement in Visual Effects                                             71.557692\n",
       "Best Actor in a Leading Role                                                   75.769912\n",
       "Best Actor in a Supporting Role                                                75.044248\n",
       "Best Actress in a Leading Role                                                 73.186275\n",
       "Best Actress in a Supporting Role                                              73.810000\n",
       "Best Adapted Screenplay                                                        80.421053\n",
       "Best Animated Feature                                                          71.545455\n",
       "Best Animated Feature Film                                                     73.363636\n",
       "Best Animated Feature Film of the Year                                         78.828571\n",
       "Best Art Direction-Set Decoration                                              74.196262\n",
       "Best Cinematography                                                            75.895238\n",
       "Best Costume Design                                                            71.221053\n",
       "Best Director                                                                  81.262295\n",
       "Best Documentary Feature                                                       85.166667\n",
       "Best Documentary, Feature                                                      85.750000\n",
       "Best Documentary, Features                                                     79.360000\n",
       "Best Effects, Sound Effects Editing                                            68.289474\n",
       "Best Effects, Visual Effects                                                   64.229167\n",
       "Best Film Editing                                                              76.556522\n",
       "Best Foreign Language Film                                                     72.400000\n",
       "Best Foreign Language Film of the Year                                         78.819444\n",
       "Best International Feature Film                                                84.800000\n",
       "Best Makeup                                                                    67.113636\n",
       "Best Motion Picture of the Year                                                82.123967\n",
       "Best Music, Original Dramatic Score                                            74.722222\n",
       "Best Music, Original Musical or Comedy Score                                   66.533333\n",
       "Best Music, Original Score                                                     70.888889\n",
       "Best Music, Original Song                                                      65.350000\n",
       "Best Music, Original Song Score                                                55.000000\n",
       "Best Music, Original Song Score and Its Adaptation or Best Adaptation Score    76.333333\n",
       "Best Original Screenplay                                                       86.111111\n",
       "Best Performance by an Actor in a Leading Role                                 78.637500\n",
       "Best Performance by an Actor in a Supporting Role                              78.871795\n",
       "Best Performance by an Actress in a Leading Role                               78.100000\n",
       "Best Performance by an Actress in a Supporting Role                            79.067568\n",
       "Best Picture                                                                   78.639344\n",
       "Best Sound                                                                     69.833333\n",
       "Best Sound Editing                                                             70.625000\n",
       "Best Sound Mixing                                                              73.000000\n",
       "Best Visual Effects                                                            73.000000\n",
       "Best Writing, Adapted Screenplay                                               82.746479\n",
       "Best Writing, Original Screenplay                                              83.253968\n",
       "Best Writing, Screenplay Based on Material Previously Produced or Published    80.285714\n",
       "Best Writing, Screenplay Based on Material from Another Medium                 75.333333\n",
       "Best Writing, Screenplay Written Directly for the Screen                       77.020000\n",
       "Name: metacritic score, dtype: float64"
      ]
     },
     "execution_count": 13,
     "metadata": {},
     "output_type": "execute_result"
    }
   ],
   "source": [
    "oscars_df.groupby(['Awards'])['metacritic score'].mean()"
   ]
  },
  {
   "cell_type": "code",
   "execution_count": 14,
   "metadata": {},
   "outputs": [],
   "source": [
    "oscars_df['Avg_Award_Score'] =  oscars_df.groupby(['Awards'])['metacritic score'].transform('mean')"
   ]
  },
  {
   "cell_type": "code",
   "execution_count": 15,
   "metadata": {},
   "outputs": [
    {
     "data": {
      "text/plain": [
       "0       75.044248\n",
       "1       75.895238\n",
       "2       81.262295\n",
       "3       76.556522\n",
       "4       78.639344\n",
       "          ...    \n",
       "3298    70.194444\n",
       "3299    70.888889\n",
       "3300    78.639344\n",
       "3301    75.333333\n",
       "3302    55.000000\n",
       "Name: Avg_Award_Score, Length: 3303, dtype: float64"
      ]
     },
     "execution_count": 15,
     "metadata": {},
     "output_type": "execute_result"
    }
   ],
   "source": [
    "oscars_df['Avg_Award_Score']"
   ]
  },
  {
   "cell_type": "code",
   "execution_count": 16,
   "metadata": {},
   "outputs": [
    {
     "data": {
      "text/plain": [
       "(3303, 23)"
      ]
     },
     "execution_count": 16,
     "metadata": {},
     "output_type": "execute_result"
    }
   ],
   "source": [
    "oscars_df.shape"
   ]
  },
  {
   "cell_type": "code",
   "execution_count": 17,
   "metadata": {},
   "outputs": [],
   "source": [
    "awards_dummies = pd.get_dummies(oscars_df['Awards'][mask],prefix='Awards')"
   ]
  },
  {
   "cell_type": "code",
   "execution_count": 18,
   "metadata": {},
   "outputs": [],
   "source": [
    "oscars_df = pd.concat([oscars_df, awards_dummies], axis=1)"
   ]
  },
  {
   "cell_type": "code",
   "execution_count": 19,
   "metadata": {},
   "outputs": [
    {
     "data": {
      "text/plain": [
       "Awards                                                    IMDBId   \n",
       "Best Achievement in Art Direction                         tt0293508    1\n",
       "                                                          tt0308644    1\n",
       "                                                          tt0338751    1\n",
       "                                                          tt0339291    1\n",
       "                                                          tt0343737    1\n",
       "                                                                      ..\n",
       "Best Writing, Screenplay Written Directly for the Screen  tt0211915    1\n",
       "                                                          tt0249462    1\n",
       "                                                          tt0265666    1\n",
       "                                                          tt0280707    1\n",
       "                                                          tt0285742    1\n",
       "Name: IMDBId, Length: 3291, dtype: int64"
      ]
     },
     "execution_count": 19,
     "metadata": {},
     "output_type": "execute_result"
    }
   ],
   "source": [
    "oscars_df.groupby('Awards')['IMDBId'].value_counts()"
   ]
  },
  {
   "cell_type": "code",
   "execution_count": 20,
   "metadata": {},
   "outputs": [],
   "source": [
    "oscars_df.drop_duplicates(subset=['IMDBId'],inplace=True)"
   ]
  },
  {
   "cell_type": "markdown",
   "metadata": {},
   "source": [
    "## Create some numeric columns around metacritic score"
   ]
  },
  {
   "cell_type": "code",
   "execution_count": 21,
   "metadata": {},
   "outputs": [],
   "source": [
    "oscars_df['Director_Avg_Score'] =  oscars_df.groupby(['director'])['metacritic score'].transform('mean')"
   ]
  },
  {
   "cell_type": "code",
   "execution_count": 22,
   "metadata": {},
   "outputs": [
    {
     "data": {
      "text/html": [
       "<div>\n",
       "<style scoped>\n",
       "    .dataframe tbody tr th:only-of-type {\n",
       "        vertical-align: middle;\n",
       "    }\n",
       "\n",
       "    .dataframe tbody tr th {\n",
       "        vertical-align: top;\n",
       "    }\n",
       "\n",
       "    .dataframe thead th {\n",
       "        text-align: right;\n",
       "    }\n",
       "</style>\n",
       "<table border=\"1\" class=\"dataframe\">\n",
       "  <thead>\n",
       "    <tr style=\"text-align: right;\">\n",
       "      <th></th>\n",
       "      <th>IMDBId</th>\n",
       "      <th>movie title</th>\n",
       "      <th>language</th>\n",
       "      <th>country</th>\n",
       "      <th>runtime (mins)</th>\n",
       "      <th>mpaarating</th>\n",
       "      <th>metacritic score</th>\n",
       "      <th>budget</th>\n",
       "      <th>distributionCompany</th>\n",
       "      <th>Awards</th>\n",
       "      <th>...</th>\n",
       "      <th>Awards_Best Actor in a Supporting Role</th>\n",
       "      <th>Awards_Best Actress in a Leading Role</th>\n",
       "      <th>Awards_Best Art Direction-Set Decoration</th>\n",
       "      <th>Awards_Best Cinematography</th>\n",
       "      <th>Awards_Best Director</th>\n",
       "      <th>Awards_Best Film Editing</th>\n",
       "      <th>Awards_Best Motion Picture of the Year</th>\n",
       "      <th>Awards_Best Picture</th>\n",
       "      <th>Awards_Best Sound</th>\n",
       "      <th>Director_Avg_Score</th>\n",
       "    </tr>\n",
       "  </thead>\n",
       "  <tbody>\n",
       "    <tr>\n",
       "      <th>427</th>\n",
       "      <td>tt1291584</td>\n",
       "      <td>Warrior</td>\n",
       "      <td>English</td>\n",
       "      <td>USA</td>\n",
       "      <td>140</td>\n",
       "      <td>PG-13</td>\n",
       "      <td>71.0</td>\n",
       "      <td>25000000.0</td>\n",
       "      <td>Lionsgate</td>\n",
       "      <td>Best Performance by an Actor in a Supporting Role</td>\n",
       "      <td>...</td>\n",
       "      <td>NaN</td>\n",
       "      <td>NaN</td>\n",
       "      <td>NaN</td>\n",
       "      <td>NaN</td>\n",
       "      <td>NaN</td>\n",
       "      <td>NaN</td>\n",
       "      <td>NaN</td>\n",
       "      <td>NaN</td>\n",
       "      <td>NaN</td>\n",
       "      <td>73.0</td>\n",
       "    </tr>\n",
       "    <tr>\n",
       "      <th>2441</th>\n",
       "      <td>tt0161023</td>\n",
       "      <td>Tumbleweeds</td>\n",
       "      <td>English</td>\n",
       "      <td>USA</td>\n",
       "      <td>102</td>\n",
       "      <td>PG-13</td>\n",
       "      <td>75.0</td>\n",
       "      <td>312000.0</td>\n",
       "      <td>Fine Line Features</td>\n",
       "      <td>Best Actress in a Leading Role</td>\n",
       "      <td>...</td>\n",
       "      <td>0.0</td>\n",
       "      <td>1.0</td>\n",
       "      <td>0.0</td>\n",
       "      <td>0.0</td>\n",
       "      <td>0.0</td>\n",
       "      <td>0.0</td>\n",
       "      <td>0.0</td>\n",
       "      <td>0.0</td>\n",
       "      <td>0.0</td>\n",
       "      <td>73.0</td>\n",
       "    </tr>\n",
       "    <tr>\n",
       "      <th>2836</th>\n",
       "      <td>tt0328880</td>\n",
       "      <td>Brother Bear</td>\n",
       "      <td>English</td>\n",
       "      <td>USA</td>\n",
       "      <td>85</td>\n",
       "      <td>G</td>\n",
       "      <td>48.0</td>\n",
       "      <td>128000000.0</td>\n",
       "      <td>Buena Vista Pictures</td>\n",
       "      <td>Best Animated Feature</td>\n",
       "      <td>...</td>\n",
       "      <td>NaN</td>\n",
       "      <td>NaN</td>\n",
       "      <td>NaN</td>\n",
       "      <td>NaN</td>\n",
       "      <td>NaN</td>\n",
       "      <td>NaN</td>\n",
       "      <td>NaN</td>\n",
       "      <td>NaN</td>\n",
       "      <td>NaN</td>\n",
       "      <td>48.0</td>\n",
       "    </tr>\n",
       "    <tr>\n",
       "      <th>2847</th>\n",
       "      <td>tt4209788</td>\n",
       "      <td>Molly's Game</td>\n",
       "      <td>English</td>\n",
       "      <td>China</td>\n",
       "      <td>140</td>\n",
       "      <td>R</td>\n",
       "      <td>71.0</td>\n",
       "      <td>30000000.0</td>\n",
       "      <td>STX Entertainment</td>\n",
       "      <td>Best Adapted Screenplay</td>\n",
       "      <td>...</td>\n",
       "      <td>NaN</td>\n",
       "      <td>NaN</td>\n",
       "      <td>NaN</td>\n",
       "      <td>NaN</td>\n",
       "      <td>NaN</td>\n",
       "      <td>NaN</td>\n",
       "      <td>NaN</td>\n",
       "      <td>NaN</td>\n",
       "      <td>NaN</td>\n",
       "      <td>71.0</td>\n",
       "    </tr>\n",
       "    <tr>\n",
       "      <th>2427</th>\n",
       "      <td>tt3409392</td>\n",
       "      <td>Timbuktu</td>\n",
       "      <td>French</td>\n",
       "      <td>Mauritania</td>\n",
       "      <td>96</td>\n",
       "      <td>PG-13</td>\n",
       "      <td>92.0</td>\n",
       "      <td>3000000.0</td>\n",
       "      <td>Cohen Media Group</td>\n",
       "      <td>Best Foreign Language Film of the Year</td>\n",
       "      <td>...</td>\n",
       "      <td>NaN</td>\n",
       "      <td>NaN</td>\n",
       "      <td>NaN</td>\n",
       "      <td>NaN</td>\n",
       "      <td>NaN</td>\n",
       "      <td>NaN</td>\n",
       "      <td>NaN</td>\n",
       "      <td>NaN</td>\n",
       "      <td>NaN</td>\n",
       "      <td>92.0</td>\n",
       "    </tr>\n",
       "    <tr>\n",
       "      <th>...</th>\n",
       "      <td>...</td>\n",
       "      <td>...</td>\n",
       "      <td>...</td>\n",
       "      <td>...</td>\n",
       "      <td>...</td>\n",
       "      <td>...</td>\n",
       "      <td>...</td>\n",
       "      <td>...</td>\n",
       "      <td>...</td>\n",
       "      <td>...</td>\n",
       "      <td>...</td>\n",
       "      <td>...</td>\n",
       "      <td>...</td>\n",
       "      <td>...</td>\n",
       "      <td>...</td>\n",
       "      <td>...</td>\n",
       "      <td>...</td>\n",
       "      <td>...</td>\n",
       "      <td>...</td>\n",
       "      <td>...</td>\n",
       "      <td>...</td>\n",
       "    </tr>\n",
       "    <tr>\n",
       "      <th>1906</th>\n",
       "      <td>tt0351817</td>\n",
       "      <td>Tasogare Seibei</td>\n",
       "      <td>Japanese</td>\n",
       "      <td>Japan</td>\n",
       "      <td>129</td>\n",
       "      <td>Unrated</td>\n",
       "      <td>82.0</td>\n",
       "      <td>5000000.0</td>\n",
       "      <td>Empire Pictures</td>\n",
       "      <td>Best Foreign Language Film</td>\n",
       "      <td>...</td>\n",
       "      <td>NaN</td>\n",
       "      <td>NaN</td>\n",
       "      <td>NaN</td>\n",
       "      <td>NaN</td>\n",
       "      <td>NaN</td>\n",
       "      <td>NaN</td>\n",
       "      <td>NaN</td>\n",
       "      <td>NaN</td>\n",
       "      <td>NaN</td>\n",
       "      <td>82.0</td>\n",
       "    </tr>\n",
       "    <tr>\n",
       "      <th>27</th>\n",
       "      <td>tt1069238</td>\n",
       "      <td>Departures</td>\n",
       "      <td>Japanese</td>\n",
       "      <td>Japan</td>\n",
       "      <td>130</td>\n",
       "      <td>PG-13</td>\n",
       "      <td>68.0</td>\n",
       "      <td>NaN</td>\n",
       "      <td>Regent Releasing</td>\n",
       "      <td>Best Foreign Language Film of the Year</td>\n",
       "      <td>...</td>\n",
       "      <td>NaN</td>\n",
       "      <td>NaN</td>\n",
       "      <td>NaN</td>\n",
       "      <td>NaN</td>\n",
       "      <td>NaN</td>\n",
       "      <td>NaN</td>\n",
       "      <td>NaN</td>\n",
       "      <td>NaN</td>\n",
       "      <td>NaN</td>\n",
       "      <td>68.0</td>\n",
       "    </tr>\n",
       "    <tr>\n",
       "      <th>2926</th>\n",
       "      <td>tt0388789</td>\n",
       "      <td>Born Into Brothels: Calcutta's Red Light Kids</td>\n",
       "      <td>Bengali</td>\n",
       "      <td>USA</td>\n",
       "      <td>85</td>\n",
       "      <td>R</td>\n",
       "      <td>78.0</td>\n",
       "      <td>NaN</td>\n",
       "      <td>Think Films</td>\n",
       "      <td>Best Documentary, Features</td>\n",
       "      <td>...</td>\n",
       "      <td>NaN</td>\n",
       "      <td>NaN</td>\n",
       "      <td>NaN</td>\n",
       "      <td>NaN</td>\n",
       "      <td>NaN</td>\n",
       "      <td>NaN</td>\n",
       "      <td>NaN</td>\n",
       "      <td>NaN</td>\n",
       "      <td>NaN</td>\n",
       "      <td>78.0</td>\n",
       "    </tr>\n",
       "    <tr>\n",
       "      <th>1890</th>\n",
       "      <td>tt2991224</td>\n",
       "      <td>Tangerines</td>\n",
       "      <td>Estonian</td>\n",
       "      <td>Estonia</td>\n",
       "      <td>87</td>\n",
       "      <td>Not Rated</td>\n",
       "      <td>73.0</td>\n",
       "      <td>1800000.0</td>\n",
       "      <td>Samuel Goldwyn Films</td>\n",
       "      <td>Best Foreign Language Film of the Year</td>\n",
       "      <td>...</td>\n",
       "      <td>NaN</td>\n",
       "      <td>NaN</td>\n",
       "      <td>NaN</td>\n",
       "      <td>NaN</td>\n",
       "      <td>NaN</td>\n",
       "      <td>NaN</td>\n",
       "      <td>NaN</td>\n",
       "      <td>NaN</td>\n",
       "      <td>NaN</td>\n",
       "      <td>73.0</td>\n",
       "    </tr>\n",
       "    <tr>\n",
       "      <th>1184</th>\n",
       "      <td>tt7048622</td>\n",
       "      <td>The Insult</td>\n",
       "      <td>Arabic</td>\n",
       "      <td>France</td>\n",
       "      <td>113</td>\n",
       "      <td>R</td>\n",
       "      <td>72.0</td>\n",
       "      <td>3000000.0</td>\n",
       "      <td>Cohen Media Group</td>\n",
       "      <td>Best Foreign Language Film of the Year</td>\n",
       "      <td>...</td>\n",
       "      <td>NaN</td>\n",
       "      <td>NaN</td>\n",
       "      <td>NaN</td>\n",
       "      <td>NaN</td>\n",
       "      <td>NaN</td>\n",
       "      <td>NaN</td>\n",
       "      <td>NaN</td>\n",
       "      <td>NaN</td>\n",
       "      <td>NaN</td>\n",
       "      <td>72.0</td>\n",
       "    </tr>\n",
       "  </tbody>\n",
       "</table>\n",
       "<p>1136 rows × 34 columns</p>\n",
       "</div>"
      ],
      "text/plain": [
       "         IMDBId                                    movie title  language  \\\n",
       "427   tt1291584                                        Warrior   English   \n",
       "2441  tt0161023                                    Tumbleweeds   English   \n",
       "2836  tt0328880                                   Brother Bear   English   \n",
       "2847  tt4209788                                   Molly's Game   English   \n",
       "2427  tt3409392                                       Timbuktu    French   \n",
       "...         ...                                            ...       ...   \n",
       "1906  tt0351817                                Tasogare Seibei  Japanese   \n",
       "27    tt1069238                                     Departures  Japanese   \n",
       "2926  tt0388789  Born Into Brothels: Calcutta's Red Light Kids   Bengali   \n",
       "1890  tt2991224                                     Tangerines  Estonian   \n",
       "1184  tt7048622                                     The Insult    Arabic   \n",
       "\n",
       "         country  runtime (mins) mpaarating  metacritic score       budget  \\\n",
       "427          USA             140      PG-13              71.0   25000000.0   \n",
       "2441         USA             102      PG-13              75.0     312000.0   \n",
       "2836         USA              85          G              48.0  128000000.0   \n",
       "2847       China             140          R              71.0   30000000.0   \n",
       "2427  Mauritania              96      PG-13              92.0    3000000.0   \n",
       "...          ...             ...        ...               ...          ...   \n",
       "1906       Japan             129    Unrated              82.0    5000000.0   \n",
       "27         Japan             130      PG-13              68.0          NaN   \n",
       "2926         USA              85          R              78.0          NaN   \n",
       "1890     Estonia              87  Not Rated              73.0    1800000.0   \n",
       "1184      France             113          R              72.0    3000000.0   \n",
       "\n",
       "       distributionCompany                                             Awards  \\\n",
       "427              Lionsgate  Best Performance by an Actor in a Supporting Role   \n",
       "2441    Fine Line Features                     Best Actress in a Leading Role   \n",
       "2836  Buena Vista Pictures                              Best Animated Feature   \n",
       "2847     STX Entertainment                            Best Adapted Screenplay   \n",
       "2427     Cohen Media Group             Best Foreign Language Film of the Year   \n",
       "...                    ...                                                ...   \n",
       "1906       Empire Pictures                         Best Foreign Language Film   \n",
       "27        Regent Releasing             Best Foreign Language Film of the Year   \n",
       "2926           Think Films                         Best Documentary, Features   \n",
       "1890  Samuel Goldwyn Films             Best Foreign Language Film of the Year   \n",
       "1184     Cohen Media Group             Best Foreign Language Film of the Year   \n",
       "\n",
       "      ...  Awards_Best Actor in a Supporting Role  \\\n",
       "427   ...                                     NaN   \n",
       "2441  ...                                     0.0   \n",
       "2836  ...                                     NaN   \n",
       "2847  ...                                     NaN   \n",
       "2427  ...                                     NaN   \n",
       "...   ...                                     ...   \n",
       "1906  ...                                     NaN   \n",
       "27    ...                                     NaN   \n",
       "2926  ...                                     NaN   \n",
       "1890  ...                                     NaN   \n",
       "1184  ...                                     NaN   \n",
       "\n",
       "     Awards_Best Actress in a Leading Role  \\\n",
       "427                                    NaN   \n",
       "2441                                   1.0   \n",
       "2836                                   NaN   \n",
       "2847                                   NaN   \n",
       "2427                                   NaN   \n",
       "...                                    ...   \n",
       "1906                                   NaN   \n",
       "27                                     NaN   \n",
       "2926                                   NaN   \n",
       "1890                                   NaN   \n",
       "1184                                   NaN   \n",
       "\n",
       "     Awards_Best Art Direction-Set Decoration Awards_Best Cinematography  \\\n",
       "427                                       NaN                        NaN   \n",
       "2441                                      0.0                        0.0   \n",
       "2836                                      NaN                        NaN   \n",
       "2847                                      NaN                        NaN   \n",
       "2427                                      NaN                        NaN   \n",
       "...                                       ...                        ...   \n",
       "1906                                      NaN                        NaN   \n",
       "27                                        NaN                        NaN   \n",
       "2926                                      NaN                        NaN   \n",
       "1890                                      NaN                        NaN   \n",
       "1184                                      NaN                        NaN   \n",
       "\n",
       "     Awards_Best Director Awards_Best Film Editing  \\\n",
       "427                   NaN                      NaN   \n",
       "2441                  0.0                      0.0   \n",
       "2836                  NaN                      NaN   \n",
       "2847                  NaN                      NaN   \n",
       "2427                  NaN                      NaN   \n",
       "...                   ...                      ...   \n",
       "1906                  NaN                      NaN   \n",
       "27                    NaN                      NaN   \n",
       "2926                  NaN                      NaN   \n",
       "1890                  NaN                      NaN   \n",
       "1184                  NaN                      NaN   \n",
       "\n",
       "     Awards_Best Motion Picture of the Year Awards_Best Picture  \\\n",
       "427                                     NaN                 NaN   \n",
       "2441                                    0.0                 0.0   \n",
       "2836                                    NaN                 NaN   \n",
       "2847                                    NaN                 NaN   \n",
       "2427                                    NaN                 NaN   \n",
       "...                                     ...                 ...   \n",
       "1906                                    NaN                 NaN   \n",
       "27                                      NaN                 NaN   \n",
       "2926                                    NaN                 NaN   \n",
       "1890                                    NaN                 NaN   \n",
       "1184                                    NaN                 NaN   \n",
       "\n",
       "     Awards_Best Sound Director_Avg_Score  \n",
       "427                NaN               73.0  \n",
       "2441               0.0               73.0  \n",
       "2836               NaN               48.0  \n",
       "2847               NaN               71.0  \n",
       "2427               NaN               92.0  \n",
       "...                ...                ...  \n",
       "1906               NaN               82.0  \n",
       "27                 NaN               68.0  \n",
       "2926               NaN               78.0  \n",
       "1890               NaN               73.0  \n",
       "1184               NaN               72.0  \n",
       "\n",
       "[1136 rows x 34 columns]"
      ]
     },
     "execution_count": 22,
     "metadata": {},
     "output_type": "execute_result"
    }
   ],
   "source": [
    "oscars_df.sort_values('director')"
   ]
  },
  {
   "cell_type": "code",
   "execution_count": 23,
   "metadata": {},
   "outputs": [
    {
     "data": {
      "text/plain": [
       "director\n",
       "\"Gavin O'Connor\"        73.0\n",
       "Aaron Blaise            48.0\n",
       "Aaron Sorkin            71.0\n",
       "Abderrahmane Sissako    92.0\n",
       "Adam McKay              71.0\n",
       "                        ... \n",
       "Yôji Yamada             82.0\n",
       "Yôjirô Takita           68.0\n",
       "Zana Briski             78.0\n",
       "Zaza Urushadze          73.0\n",
       "Ziad Doueiri            72.0\n",
       "Name: metacritic score, Length: 613, dtype: float64"
      ]
     },
     "execution_count": 23,
     "metadata": {},
     "output_type": "execute_result"
    }
   ],
   "source": [
    "oscars_df.groupby('director')['metacritic score'].mean()"
   ]
  },
  {
   "cell_type": "code",
   "execution_count": 24,
   "metadata": {
    "scrolled": true
   },
   "outputs": [
    {
     "data": {
      "text/plain": [
       "director\n",
       "\"Gavin O'Connor\"        2\n",
       "Aaron Blaise            1\n",
       "Aaron Sorkin            1\n",
       "Abderrahmane Sissako    1\n",
       "Adam McKay              2\n",
       "                       ..\n",
       "Yôji Yamada             1\n",
       "Yôjirô Takita           1\n",
       "Zana Briski             1\n",
       "Zaza Urushadze          1\n",
       "Ziad Doueiri            1\n",
       "Name: movie title, Length: 613, dtype: int64"
      ]
     },
     "execution_count": 24,
     "metadata": {},
     "output_type": "execute_result"
    }
   ],
   "source": [
    "oscars_df.groupby('director')['movie title'].count()"
   ]
  },
  {
   "cell_type": "code",
   "execution_count": 28,
   "metadata": {},
   "outputs": [],
   "source": [
    "oscars_df['Total_Director_Movies'] =  oscars_df.groupby(['director'])['movie title'].transform('count')"
   ]
  },
  {
   "cell_type": "code",
   "execution_count": 29,
   "metadata": {},
   "outputs": [
    {
     "data": {
      "text/plain": [
       "1     394\n",
       "2     204\n",
       "3     165\n",
       "4     100\n",
       "6      84\n",
       "5      50\n",
       "11     33\n",
       "12     24\n",
       "7      21\n",
       "20     20\n",
       "9      18\n",
       "15     15\n",
       "8       8\n",
       "Name: Total_Director_Movies, dtype: int64"
      ]
     },
     "execution_count": 29,
     "metadata": {},
     "output_type": "execute_result"
    }
   ],
   "source": [
    "oscars_df['Total_Director_Movies'].value_counts()"
   ]
  },
  {
   "cell_type": "code",
   "execution_count": 31,
   "metadata": {},
   "outputs": [
    {
     "data": {
      "image/png": "[encoded data removed]",
      "text/plain": [
       "<Figure size 432x288 with 1 Axes>"
      ]
     },
     "metadata": {
      "image/png": {
       "height": 262,
       "width": 388
      },
      "needs_background": "light"
     },
     "output_type": "display_data"
    }
   ],
   "source": [
    "sns.boxplot(x='Total_Director_Movies', y=\"metacritic score\", data=oscars_df);"
   ]
  },
  {
   "cell_type": "markdown",
   "metadata": {},
   "source": [
    "## Create a lead actor "
   ]
  },
  {
   "cell_type": "code",
   "execution_count": 34,
   "metadata": {},
   "outputs": [
    {
     "data": {
      "text/plain": [
       "Lead_Actor\n",
       "\"Auli'i Cravalho\"                    81.0\n",
       "\"Elizabeth 'Eliza' Maganga Nsese\"    84.0\n",
       "\"Jack O'Connell\"                     59.0\n",
       "\"Latrenda 'Boosie' Ash\"              85.0\n",
       "\"O'Shea Jackson Jr.\"                 72.0\n",
       "                                     ... \n",
       "Yun-Fat Chow                         82.0\n",
       "Zachary Quinto                       76.0\n",
       "Zaide Silvia Gutiérrez               67.0\n",
       "Zain Al Rafeea                       75.0\n",
       "Ziyi Zhang                           89.0\n",
       "Name: metacritic score, Length: 645, dtype: float64"
      ]
     },
     "execution_count": 34,
     "metadata": {},
     "output_type": "execute_result"
    }
   ],
   "source": [
    "oscars_df.groupby('Lead_Actor')['metacritic score'].mean()"
   ]
  },
  {
   "cell_type": "code",
   "execution_count": 35,
   "metadata": {},
   "outputs": [],
   "source": [
    "oscars_df['Lead_Actor_Avg_Score'] =  oscars_df.groupby(['Lead_Actor'])['metacritic score'].transform('mean')"
   ]
  },
  {
   "cell_type": "code",
   "execution_count": 36,
   "metadata": {},
   "outputs": [
    {
     "data": {
      "text/html": [
       "<div>\n",
       "<style scoped>\n",
       "    .dataframe tbody tr th:only-of-type {\n",
       "        vertical-align: middle;\n",
       "    }\n",
       "\n",
       "    .dataframe tbody tr th {\n",
       "        vertical-align: top;\n",
       "    }\n",
       "\n",
       "    .dataframe thead th {\n",
       "        text-align: right;\n",
       "    }\n",
       "</style>\n",
       "<table border=\"1\" class=\"dataframe\">\n",
       "  <thead>\n",
       "    <tr style=\"text-align: right;\">\n",
       "      <th></th>\n",
       "      <th>IMDBId</th>\n",
       "      <th>movie title</th>\n",
       "      <th>language</th>\n",
       "      <th>country</th>\n",
       "      <th>runtime (mins)</th>\n",
       "      <th>mpaarating</th>\n",
       "      <th>metacritic score</th>\n",
       "      <th>budget</th>\n",
       "      <th>distributionCompany</th>\n",
       "      <th>Awards</th>\n",
       "      <th>...</th>\n",
       "      <th>Awards_Best Art Direction-Set Decoration</th>\n",
       "      <th>Awards_Best Cinematography</th>\n",
       "      <th>Awards_Best Director</th>\n",
       "      <th>Awards_Best Film Editing</th>\n",
       "      <th>Awards_Best Motion Picture of the Year</th>\n",
       "      <th>Awards_Best Picture</th>\n",
       "      <th>Awards_Best Sound</th>\n",
       "      <th>Director_Avg_Score</th>\n",
       "      <th>Total_Director_Movies</th>\n",
       "      <th>Lead_Actor_Avg_Score</th>\n",
       "    </tr>\n",
       "  </thead>\n",
       "  <tbody>\n",
       "    <tr>\n",
       "      <th>2698</th>\n",
       "      <td>tt3521164</td>\n",
       "      <td>Moana</td>\n",
       "      <td>English</td>\n",
       "      <td>USA</td>\n",
       "      <td>107</td>\n",
       "      <td>PG</td>\n",
       "      <td>81.0</td>\n",
       "      <td>1.500000e+08</td>\n",
       "      <td>Walt Disney Studios Motion Pictures</td>\n",
       "      <td>Best Achievement in Music Written for Motion P...</td>\n",
       "      <td>...</td>\n",
       "      <td>NaN</td>\n",
       "      <td>NaN</td>\n",
       "      <td>NaN</td>\n",
       "      <td>NaN</td>\n",
       "      <td>NaN</td>\n",
       "      <td>NaN</td>\n",
       "      <td>NaN</td>\n",
       "      <td>77.000000</td>\n",
       "      <td>6</td>\n",
       "      <td>81.0</td>\n",
       "    </tr>\n",
       "    <tr>\n",
       "      <th>3015</th>\n",
       "      <td>tt0424024</td>\n",
       "      <td>Darwin's Nightmare</td>\n",
       "      <td>English</td>\n",
       "      <td>Austria</td>\n",
       "      <td>107</td>\n",
       "      <td>Unrated</td>\n",
       "      <td>84.0</td>\n",
       "      <td>NaN</td>\n",
       "      <td>International Film Circuit</td>\n",
       "      <td>Best Documentary, Features</td>\n",
       "      <td>...</td>\n",
       "      <td>NaN</td>\n",
       "      <td>NaN</td>\n",
       "      <td>NaN</td>\n",
       "      <td>NaN</td>\n",
       "      <td>NaN</td>\n",
       "      <td>NaN</td>\n",
       "      <td>NaN</td>\n",
       "      <td>84.000000</td>\n",
       "      <td>1</td>\n",
       "      <td>84.0</td>\n",
       "    </tr>\n",
       "    <tr>\n",
       "      <th>3182</th>\n",
       "      <td>tt1809398</td>\n",
       "      <td>Unbroken</td>\n",
       "      <td>English</td>\n",
       "      <td>USA</td>\n",
       "      <td>137</td>\n",
       "      <td>PG-13</td>\n",
       "      <td>59.0</td>\n",
       "      <td>6.500000e+07</td>\n",
       "      <td>Universal Pictures</td>\n",
       "      <td>Best Achievement in Cinematography</td>\n",
       "      <td>...</td>\n",
       "      <td>NaN</td>\n",
       "      <td>NaN</td>\n",
       "      <td>NaN</td>\n",
       "      <td>NaN</td>\n",
       "      <td>NaN</td>\n",
       "      <td>NaN</td>\n",
       "      <td>NaN</td>\n",
       "      <td>59.000000</td>\n",
       "      <td>1</td>\n",
       "      <td>59.0</td>\n",
       "    </tr>\n",
       "    <tr>\n",
       "      <th>2808</th>\n",
       "      <td>tt6634646</td>\n",
       "      <td>Hale County This Morning, This Evening</td>\n",
       "      <td>English</td>\n",
       "      <td>USA</td>\n",
       "      <td>76</td>\n",
       "      <td>Not Rated</td>\n",
       "      <td>85.0</td>\n",
       "      <td>NaN</td>\n",
       "      <td>The Cinema Guild</td>\n",
       "      <td>Best Documentary Feature</td>\n",
       "      <td>...</td>\n",
       "      <td>NaN</td>\n",
       "      <td>NaN</td>\n",
       "      <td>NaN</td>\n",
       "      <td>NaN</td>\n",
       "      <td>NaN</td>\n",
       "      <td>NaN</td>\n",
       "      <td>NaN</td>\n",
       "      <td>85.000000</td>\n",
       "      <td>1</td>\n",
       "      <td>85.0</td>\n",
       "    </tr>\n",
       "    <tr>\n",
       "      <th>3066</th>\n",
       "      <td>tt1398426</td>\n",
       "      <td>Straight Outta Compton</td>\n",
       "      <td>English</td>\n",
       "      <td>USA</td>\n",
       "      <td>147</td>\n",
       "      <td>R</td>\n",
       "      <td>72.0</td>\n",
       "      <td>2.800000e+07</td>\n",
       "      <td>Universal Pictures</td>\n",
       "      <td>Best Writing, Original Screenplay</td>\n",
       "      <td>...</td>\n",
       "      <td>NaN</td>\n",
       "      <td>NaN</td>\n",
       "      <td>NaN</td>\n",
       "      <td>NaN</td>\n",
       "      <td>NaN</td>\n",
       "      <td>NaN</td>\n",
       "      <td>NaN</td>\n",
       "      <td>72.000000</td>\n",
       "      <td>1</td>\n",
       "      <td>72.0</td>\n",
       "    </tr>\n",
       "    <tr>\n",
       "      <th>...</th>\n",
       "      <td>...</td>\n",
       "      <td>...</td>\n",
       "      <td>...</td>\n",
       "      <td>...</td>\n",
       "      <td>...</td>\n",
       "      <td>...</td>\n",
       "      <td>...</td>\n",
       "      <td>...</td>\n",
       "      <td>...</td>\n",
       "      <td>...</td>\n",
       "      <td>...</td>\n",
       "      <td>...</td>\n",
       "      <td>...</td>\n",
       "      <td>...</td>\n",
       "      <td>...</td>\n",
       "      <td>...</td>\n",
       "      <td>...</td>\n",
       "      <td>...</td>\n",
       "      <td>...</td>\n",
       "      <td>...</td>\n",
       "      <td>...</td>\n",
       "    </tr>\n",
       "    <tr>\n",
       "      <th>403</th>\n",
       "      <td>tt0190332</td>\n",
       "      <td>Crouching Tiger, Hidden Dragon</td>\n",
       "      <td>Mandarin</td>\n",
       "      <td>Taiwan</td>\n",
       "      <td>120</td>\n",
       "      <td>PG-13</td>\n",
       "      <td>94.0</td>\n",
       "      <td>1.700000e+07</td>\n",
       "      <td>Sony Pictures Classics</td>\n",
       "      <td>Best Art Direction-Set Decoration</td>\n",
       "      <td>...</td>\n",
       "      <td>1.0</td>\n",
       "      <td>0.0</td>\n",
       "      <td>0.0</td>\n",
       "      <td>0.0</td>\n",
       "      <td>0.0</td>\n",
       "      <td>0.0</td>\n",
       "      <td>0.0</td>\n",
       "      <td>86.000000</td>\n",
       "      <td>4</td>\n",
       "      <td>82.0</td>\n",
       "    </tr>\n",
       "    <tr>\n",
       "      <th>3068</th>\n",
       "      <td>tt1615147</td>\n",
       "      <td>Margin Call</td>\n",
       "      <td>English</td>\n",
       "      <td>USA</td>\n",
       "      <td>107</td>\n",
       "      <td>R</td>\n",
       "      <td>76.0</td>\n",
       "      <td>3.500000e+06</td>\n",
       "      <td>Lionsgate</td>\n",
       "      <td>Best Writing, Original Screenplay</td>\n",
       "      <td>...</td>\n",
       "      <td>NaN</td>\n",
       "      <td>NaN</td>\n",
       "      <td>NaN</td>\n",
       "      <td>NaN</td>\n",
       "      <td>NaN</td>\n",
       "      <td>NaN</td>\n",
       "      <td>NaN</td>\n",
       "      <td>76.000000</td>\n",
       "      <td>1</td>\n",
       "      <td>76.0</td>\n",
       "    </tr>\n",
       "    <tr>\n",
       "      <th>2859</th>\n",
       "      <td>tt0085482</td>\n",
       "      <td>El Norte</td>\n",
       "      <td>Spanish</td>\n",
       "      <td>UK</td>\n",
       "      <td>141</td>\n",
       "      <td>R</td>\n",
       "      <td>67.0</td>\n",
       "      <td>3.000000e+06</td>\n",
       "      <td>Cinecom Pictures</td>\n",
       "      <td>Best Writing, Screenplay Written Directly for ...</td>\n",
       "      <td>...</td>\n",
       "      <td>NaN</td>\n",
       "      <td>NaN</td>\n",
       "      <td>NaN</td>\n",
       "      <td>NaN</td>\n",
       "      <td>NaN</td>\n",
       "      <td>NaN</td>\n",
       "      <td>NaN</td>\n",
       "      <td>67.000000</td>\n",
       "      <td>1</td>\n",
       "      <td>67.0</td>\n",
       "    </tr>\n",
       "    <tr>\n",
       "      <th>2375</th>\n",
       "      <td>tt8267604</td>\n",
       "      <td>Capharnaüm</td>\n",
       "      <td>Arabic</td>\n",
       "      <td>Lebanon</td>\n",
       "      <td>126</td>\n",
       "      <td>R</td>\n",
       "      <td>75.0</td>\n",
       "      <td>4.000000e+06</td>\n",
       "      <td>Sony Pictures Classics</td>\n",
       "      <td>Best Foreign Language Film of the Year</td>\n",
       "      <td>...</td>\n",
       "      <td>NaN</td>\n",
       "      <td>NaN</td>\n",
       "      <td>NaN</td>\n",
       "      <td>NaN</td>\n",
       "      <td>NaN</td>\n",
       "      <td>NaN</td>\n",
       "      <td>NaN</td>\n",
       "      <td>75.000000</td>\n",
       "      <td>1</td>\n",
       "      <td>75.0</td>\n",
       "    </tr>\n",
       "    <tr>\n",
       "      <th>2992</th>\n",
       "      <td>tt0385004</td>\n",
       "      <td>House of Flying Daggers</td>\n",
       "      <td>Mandarin</td>\n",
       "      <td>China</td>\n",
       "      <td>119</td>\n",
       "      <td>PG-13</td>\n",
       "      <td>89.0</td>\n",
       "      <td>1.193676e+07</td>\n",
       "      <td>Sony Pictures Classics</td>\n",
       "      <td>Best Achievement in Cinematography</td>\n",
       "      <td>...</td>\n",
       "      <td>NaN</td>\n",
       "      <td>NaN</td>\n",
       "      <td>NaN</td>\n",
       "      <td>NaN</td>\n",
       "      <td>NaN</td>\n",
       "      <td>NaN</td>\n",
       "      <td>NaN</td>\n",
       "      <td>81.333333</td>\n",
       "      <td>3</td>\n",
       "      <td>89.0</td>\n",
       "    </tr>\n",
       "  </tbody>\n",
       "</table>\n",
       "<p>1136 rows × 36 columns</p>\n",
       "</div>"
      ],
      "text/plain": [
       "         IMDBId                             movie title  language  country  \\\n",
       "2698  tt3521164                                   Moana   English      USA   \n",
       "3015  tt0424024                      Darwin's Nightmare   English  Austria   \n",
       "3182  tt1809398                                Unbroken   English      USA   \n",
       "2808  tt6634646  Hale County This Morning, This Evening   English      USA   \n",
       "3066  tt1398426                  Straight Outta Compton   English      USA   \n",
       "...         ...                                     ...       ...      ...   \n",
       "403   tt0190332          Crouching Tiger, Hidden Dragon  Mandarin   Taiwan   \n",
       "3068  tt1615147                             Margin Call   English      USA   \n",
       "2859  tt0085482                                El Norte   Spanish       UK   \n",
       "2375  tt8267604                              Capharnaüm    Arabic  Lebanon   \n",
       "2992  tt0385004                 House of Flying Daggers  Mandarin    China   \n",
       "\n",
       "      runtime (mins) mpaarating  metacritic score        budget  \\\n",
       "2698             107         PG              81.0  1.500000e+08   \n",
       "3015             107    Unrated              84.0           NaN   \n",
       "3182             137      PG-13              59.0  6.500000e+07   \n",
       "2808              76  Not Rated              85.0           NaN   \n",
       "3066             147          R              72.0  2.800000e+07   \n",
       "...              ...        ...               ...           ...   \n",
       "403              120      PG-13              94.0  1.700000e+07   \n",
       "3068             107          R              76.0  3.500000e+06   \n",
       "2859             141          R              67.0  3.000000e+06   \n",
       "2375             126          R              75.0  4.000000e+06   \n",
       "2992             119      PG-13              89.0  1.193676e+07   \n",
       "\n",
       "                      distributionCompany  \\\n",
       "2698  Walt Disney Studios Motion Pictures   \n",
       "3015           International Film Circuit   \n",
       "3182                   Universal Pictures   \n",
       "2808                     The Cinema Guild   \n",
       "3066                   Universal Pictures   \n",
       "...                                   ...   \n",
       "403                Sony Pictures Classics   \n",
       "3068                            Lionsgate   \n",
       "2859                     Cinecom Pictures   \n",
       "2375               Sony Pictures Classics   \n",
       "2992               Sony Pictures Classics   \n",
       "\n",
       "                                                 Awards  ...  \\\n",
       "2698  Best Achievement in Music Written for Motion P...  ...   \n",
       "3015                         Best Documentary, Features  ...   \n",
       "3182                 Best Achievement in Cinematography  ...   \n",
       "2808                           Best Documentary Feature  ...   \n",
       "3066                  Best Writing, Original Screenplay  ...   \n",
       "...                                                 ...  ...   \n",
       "403                   Best Art Direction-Set Decoration  ...   \n",
       "3068                  Best Writing, Original Screenplay  ...   \n",
       "2859  Best Writing, Screenplay Written Directly for ...  ...   \n",
       "2375             Best Foreign Language Film of the Year  ...   \n",
       "2992                 Best Achievement in Cinematography  ...   \n",
       "\n",
       "      Awards_Best Art Direction-Set Decoration Awards_Best Cinematography  \\\n",
       "2698                                       NaN                        NaN   \n",
       "3015                                       NaN                        NaN   \n",
       "3182                                       NaN                        NaN   \n",
       "2808                                       NaN                        NaN   \n",
       "3066                                       NaN                        NaN   \n",
       "...                                        ...                        ...   \n",
       "403                                        1.0                        0.0   \n",
       "3068                                       NaN                        NaN   \n",
       "2859                                       NaN                        NaN   \n",
       "2375                                       NaN                        NaN   \n",
       "2992                                       NaN                        NaN   \n",
       "\n",
       "     Awards_Best Director Awards_Best Film Editing  \\\n",
       "2698                  NaN                      NaN   \n",
       "3015                  NaN                      NaN   \n",
       "3182                  NaN                      NaN   \n",
       "2808                  NaN                      NaN   \n",
       "3066                  NaN                      NaN   \n",
       "...                   ...                      ...   \n",
       "403                   0.0                      0.0   \n",
       "3068                  NaN                      NaN   \n",
       "2859                  NaN                      NaN   \n",
       "2375                  NaN                      NaN   \n",
       "2992                  NaN                      NaN   \n",
       "\n",
       "     Awards_Best Motion Picture of the Year Awards_Best Picture  \\\n",
       "2698                                    NaN                 NaN   \n",
       "3015                                    NaN                 NaN   \n",
       "3182                                    NaN                 NaN   \n",
       "2808                                    NaN                 NaN   \n",
       "3066                                    NaN                 NaN   \n",
       "...                                     ...                 ...   \n",
       "403                                     0.0                 0.0   \n",
       "3068                                    NaN                 NaN   \n",
       "2859                                    NaN                 NaN   \n",
       "2375                                    NaN                 NaN   \n",
       "2992                                    NaN                 NaN   \n",
       "\n",
       "     Awards_Best Sound Director_Avg_Score Total_Director_Movies  \\\n",
       "2698               NaN          77.000000                     6   \n",
       "3015               NaN          84.000000                     1   \n",
       "3182               NaN          59.000000                     1   \n",
       "2808               NaN          85.000000                     1   \n",
       "3066               NaN          72.000000                     1   \n",
       "...                ...                ...                   ...   \n",
       "403                0.0          86.000000                     4   \n",
       "3068               NaN          76.000000                     1   \n",
       "2859               NaN          67.000000                     1   \n",
       "2375               NaN          75.000000                     1   \n",
       "2992               NaN          81.333333                     3   \n",
       "\n",
       "     Lead_Actor_Avg_Score  \n",
       "2698                 81.0  \n",
       "3015                 84.0  \n",
       "3182                 59.0  \n",
       "2808                 85.0  \n",
       "3066                 72.0  \n",
       "...                   ...  \n",
       "403                  82.0  \n",
       "3068                 76.0  \n",
       "2859                 67.0  \n",
       "2375                 75.0  \n",
       "2992                 89.0  \n",
       "\n",
       "[1136 rows x 36 columns]"
      ]
     },
     "execution_count": 36,
     "metadata": {},
     "output_type": "execute_result"
    }
   ],
   "source": [
    "oscars_df.sort_values('Lead_Actor')"
   ]
  },
  {
   "cell_type": "code",
   "execution_count": 37,
   "metadata": {},
   "outputs": [
    {
     "data": {
      "text/plain": [
       "(1136, 36)"
      ]
     },
     "execution_count": 37,
     "metadata": {},
     "output_type": "execute_result"
    }
   ],
   "source": [
    "oscars_df.shape"
   ]
  },
  {
   "cell_type": "code",
   "execution_count": 40,
   "metadata": {},
   "outputs": [],
   "source": [
    "oscars_df['Total_Movies_Lead_Actor']=oscars_df.groupby(['Lead_Actor'])['movie title'].transform('count')"
   ]
  },
  {
   "cell_type": "code",
   "execution_count": 41,
   "metadata": {},
   "outputs": [
    {
     "data": {
      "text/plain": [
       "1     454\n",
       "2     164\n",
       "3     141\n",
       "4     104\n",
       "5      50\n",
       "8      48\n",
       "7      42\n",
       "6      36\n",
       "12     24\n",
       "19     19\n",
       "9      18\n",
       "15     15\n",
       "11     11\n",
       "10     10\n",
       "Name: Total_Movies_Lead_Actor, dtype: int64"
      ]
     },
     "execution_count": 41,
     "metadata": {},
     "output_type": "execute_result"
    }
   ],
   "source": [
    "oscars_df['Total_Movies_Lead_Actor'].value_counts()"
   ]
  },
  {
   "cell_type": "code",
   "execution_count": 42,
   "metadata": {},
   "outputs": [
    {
     "data": {
      "text/plain": [
       "main_genre\n",
       "Action         66.960265\n",
       "Adventure      67.605263\n",
       "Animation      75.307692\n",
       "Biography      73.738095\n",
       "Comedy         72.178010\n",
       "Crime          73.777778\n",
       "Documentary    81.024390\n",
       "Drama          72.557927\n",
       "Family         78.000000\n",
       "Fantasy        55.000000\n",
       "Horror         56.500000\n",
       "Mystery        77.000000\n",
       "Romance        70.000000\n",
       "Name: metacritic score, dtype: float64"
      ]
     },
     "execution_count": 42,
     "metadata": {},
     "output_type": "execute_result"
    }
   ],
   "source": [
    "oscars_df.groupby(['main_genre'])['metacritic score'].mean()"
   ]
  },
  {
   "cell_type": "code",
   "execution_count": 43,
   "metadata": {},
   "outputs": [
    {
     "data": {
      "text/plain": [
       "Drama          328\n",
       "Comedy         191\n",
       "Biography      168\n",
       "Action         151\n",
       "Crime           90\n",
       "Animation       78\n",
       "Adventure       76\n",
       "Documentary     41\n",
       "Horror           6\n",
       "Fantasy          2\n",
       "Mystery          2\n",
       "Family           2\n",
       "Romance          1\n",
       "Name: main_genre, dtype: int64"
      ]
     },
     "execution_count": 43,
     "metadata": {},
     "output_type": "execute_result"
    }
   ],
   "source": [
    "oscars_df.main_genre.value_counts()"
   ]
  },
  {
   "cell_type": "code",
   "execution_count": 44,
   "metadata": {},
   "outputs": [
    {
     "data": {
      "text/plain": [
       "Drama        408\n",
       "Adventure    134\n",
       "Romance       92\n",
       "Comedy        57\n",
       "Crime         55\n",
       "Mystery       34\n",
       "Music         31\n",
       "History       27\n",
       "Thriller      27\n",
       "Fantasy       26\n",
       "Biography     25\n",
       "Family        25\n",
       "War           18\n",
       "Sci-Fi        16\n",
       "Action        12\n",
       "Horror        10\n",
       "Sport          8\n",
       "Musical        6\n",
       "Western        5\n",
       "News           2\n",
       "Animation      1\n",
       "Name: subgenre, dtype: int64"
      ]
     },
     "execution_count": 44,
     "metadata": {},
     "output_type": "execute_result"
    }
   ],
   "source": [
    "oscars_df.subgenre.value_counts()"
   ]
  },
  {
   "cell_type": "code",
   "execution_count": 45,
   "metadata": {},
   "outputs": [],
   "source": [
    "oscars_df['Avg_Rating_by_Genre'] = oscars_df.groupby(['genre'])['metacritic score'].transform('mean')"
   ]
  },
  {
   "cell_type": "code",
   "execution_count": 67,
   "metadata": {},
   "outputs": [
    {
     "data": {
      "image/png": "[encoded data removed]",
      "text/plain": [
       "<Figure size 864x864 with 1 Axes>"
      ]
     },
     "metadata": {
      "image/png": {
       "height": 697,
       "width": 730
      },
      "needs_background": "light"
     },
     "output_type": "display_data"
    }
   ],
   "source": [
    "plt.figure(figsize=(12,12))\n",
    "sns.boxplot(x='Avg_Rating_by_Genre', y=\"metacritic score\", data=oscars_df);"
   ]
  },
  {
   "cell_type": "code",
   "execution_count": 46,
   "metadata": {},
   "outputs": [
    {
     "data": {
      "text/plain": [
       "genre\n",
       "Action' 'Adventure    66.541176\n",
       "Action' 'Biography    73.000000\n",
       "Action' 'Comedy       65.250000\n",
       "Action' 'Crime        70.647059\n",
       "Action' 'Drama        64.526316\n",
       "                        ...    \n",
       "Horror' 'Sci-Fi       49.000000\n",
       "Horror' 'Thriller     79.000000\n",
       "Mystery' 'Sci-Fi      74.000000\n",
       "Mystery' 'Thriller    80.000000\n",
       "Romance' 'Sci-Fi      70.000000\n",
       "Name: metacritic score, Length: 82, dtype: float64"
      ]
     },
     "execution_count": 46,
     "metadata": {},
     "output_type": "execute_result"
    }
   ],
   "source": [
    "oscars_df.groupby(['genre'])['metacritic score'].mean()"
   ]
  },
  {
   "cell_type": "code",
   "execution_count": 47,
   "metadata": {},
   "outputs": [
    {
     "data": {
      "text/html": [
       "<div>\n",
       "<style scoped>\n",
       "    .dataframe tbody tr th:only-of-type {\n",
       "        vertical-align: middle;\n",
       "    }\n",
       "\n",
       "    .dataframe tbody tr th {\n",
       "        vertical-align: top;\n",
       "    }\n",
       "\n",
       "    .dataframe thead th {\n",
       "        text-align: right;\n",
       "    }\n",
       "</style>\n",
       "<table border=\"1\" class=\"dataframe\">\n",
       "  <thead>\n",
       "    <tr style=\"text-align: right;\">\n",
       "      <th></th>\n",
       "      <th>IMDBId</th>\n",
       "      <th>movie title</th>\n",
       "      <th>language</th>\n",
       "      <th>country</th>\n",
       "      <th>runtime (mins)</th>\n",
       "      <th>mpaarating</th>\n",
       "      <th>metacritic score</th>\n",
       "      <th>budget</th>\n",
       "      <th>distributionCompany</th>\n",
       "      <th>Awards</th>\n",
       "      <th>...</th>\n",
       "      <th>Awards_Best Director</th>\n",
       "      <th>Awards_Best Film Editing</th>\n",
       "      <th>Awards_Best Motion Picture of the Year</th>\n",
       "      <th>Awards_Best Picture</th>\n",
       "      <th>Awards_Best Sound</th>\n",
       "      <th>Director_Avg_Score</th>\n",
       "      <th>Total_Director_Movies</th>\n",
       "      <th>Lead_Actor_Avg_Score</th>\n",
       "      <th>Total_Movies_Lead_Actor</th>\n",
       "      <th>Avg_Rating_by_Genre</th>\n",
       "    </tr>\n",
       "  </thead>\n",
       "  <tbody>\n",
       "    <tr>\n",
       "      <th>0</th>\n",
       "      <td>tt0091763</td>\n",
       "      <td>Platoon</td>\n",
       "      <td>English</td>\n",
       "      <td>USA</td>\n",
       "      <td>120</td>\n",
       "      <td>R</td>\n",
       "      <td>92.0</td>\n",
       "      <td>6.000000e+06</td>\n",
       "      <td>Orion Pictures</td>\n",
       "      <td>Best Actor in a Supporting Role</td>\n",
       "      <td>...</td>\n",
       "      <td>0.0</td>\n",
       "      <td>0.0</td>\n",
       "      <td>0.0</td>\n",
       "      <td>0.0</td>\n",
       "      <td>0.0</td>\n",
       "      <td>71.666667</td>\n",
       "      <td>6</td>\n",
       "      <td>74.000000</td>\n",
       "      <td>2</td>\n",
       "      <td>81.923077</td>\n",
       "    </tr>\n",
       "    <tr>\n",
       "      <th>7</th>\n",
       "      <td>tt0082979</td>\n",
       "      <td>Reds</td>\n",
       "      <td>English</td>\n",
       "      <td>USA</td>\n",
       "      <td>195</td>\n",
       "      <td>PG</td>\n",
       "      <td>76.0</td>\n",
       "      <td>3.200000e+07</td>\n",
       "      <td>Paramount Pictures</td>\n",
       "      <td>Best Actor in a Leading Role</td>\n",
       "      <td>...</td>\n",
       "      <td>0.0</td>\n",
       "      <td>0.0</td>\n",
       "      <td>0.0</td>\n",
       "      <td>0.0</td>\n",
       "      <td>0.0</td>\n",
       "      <td>73.000000</td>\n",
       "      <td>3</td>\n",
       "      <td>74.750000</td>\n",
       "      <td>4</td>\n",
       "      <td>73.604651</td>\n",
       "    </tr>\n",
       "    <tr>\n",
       "      <th>19</th>\n",
       "      <td>tt0084434</td>\n",
       "      <td>An Officer and a Gentleman</td>\n",
       "      <td>English</td>\n",
       "      <td>USA</td>\n",
       "      <td>124</td>\n",
       "      <td>R</td>\n",
       "      <td>75.0</td>\n",
       "      <td>7.500000e+06</td>\n",
       "      <td>Paramount Pictures</td>\n",
       "      <td>Best Actor in a Supporting Role</td>\n",
       "      <td>...</td>\n",
       "      <td>0.0</td>\n",
       "      <td>0.0</td>\n",
       "      <td>0.0</td>\n",
       "      <td>0.0</td>\n",
       "      <td>0.0</td>\n",
       "      <td>74.000000</td>\n",
       "      <td>2</td>\n",
       "      <td>59.000000</td>\n",
       "      <td>4</td>\n",
       "      <td>71.075000</td>\n",
       "    </tr>\n",
       "    <tr>\n",
       "      <th>25</th>\n",
       "      <td>tt0119360</td>\n",
       "      <td>In &amp; Out</td>\n",
       "      <td>English</td>\n",
       "      <td>USA</td>\n",
       "      <td>90</td>\n",
       "      <td>PG-13</td>\n",
       "      <td>70.0</td>\n",
       "      <td>3.500000e+07</td>\n",
       "      <td>Paramount Pictures</td>\n",
       "      <td>Best Actress in a Supporting Role</td>\n",
       "      <td>...</td>\n",
       "      <td>NaN</td>\n",
       "      <td>NaN</td>\n",
       "      <td>NaN</td>\n",
       "      <td>NaN</td>\n",
       "      <td>NaN</td>\n",
       "      <td>75.500000</td>\n",
       "      <td>2</td>\n",
       "      <td>67.000000</td>\n",
       "      <td>2</td>\n",
       "      <td>60.500000</td>\n",
       "    </tr>\n",
       "    <tr>\n",
       "      <th>26</th>\n",
       "      <td>tt0292542</td>\n",
       "      <td>Son of the Bride</td>\n",
       "      <td>Spanish</td>\n",
       "      <td>Argentina</td>\n",
       "      <td>123</td>\n",
       "      <td>R</td>\n",
       "      <td>68.0</td>\n",
       "      <td>1.193676e+07</td>\n",
       "      <td>Sony Pictures Classics</td>\n",
       "      <td>Best Foreign Language Film</td>\n",
       "      <td>...</td>\n",
       "      <td>NaN</td>\n",
       "      <td>NaN</td>\n",
       "      <td>NaN</td>\n",
       "      <td>NaN</td>\n",
       "      <td>NaN</td>\n",
       "      <td>74.000000</td>\n",
       "      <td>2</td>\n",
       "      <td>74.000000</td>\n",
       "      <td>2</td>\n",
       "      <td>75.185185</td>\n",
       "    </tr>\n",
       "    <tr>\n",
       "      <th>...</th>\n",
       "      <td>...</td>\n",
       "      <td>...</td>\n",
       "      <td>...</td>\n",
       "      <td>...</td>\n",
       "      <td>...</td>\n",
       "      <td>...</td>\n",
       "      <td>...</td>\n",
       "      <td>...</td>\n",
       "      <td>...</td>\n",
       "      <td>...</td>\n",
       "      <td>...</td>\n",
       "      <td>...</td>\n",
       "      <td>...</td>\n",
       "      <td>...</td>\n",
       "      <td>...</td>\n",
       "      <td>...</td>\n",
       "      <td>...</td>\n",
       "      <td>...</td>\n",
       "      <td>...</td>\n",
       "      <td>...</td>\n",
       "      <td>...</td>\n",
       "    </tr>\n",
       "    <tr>\n",
       "      <th>3292</th>\n",
       "      <td>tt0298203</td>\n",
       "      <td>8 Mile</td>\n",
       "      <td>English</td>\n",
       "      <td>USA</td>\n",
       "      <td>110</td>\n",
       "      <td>R</td>\n",
       "      <td>77.0</td>\n",
       "      <td>4.100000e+07</td>\n",
       "      <td>Universal Pictures</td>\n",
       "      <td>Best Music, Original Song</td>\n",
       "      <td>...</td>\n",
       "      <td>NaN</td>\n",
       "      <td>NaN</td>\n",
       "      <td>NaN</td>\n",
       "      <td>NaN</td>\n",
       "      <td>NaN</td>\n",
       "      <td>80.000000</td>\n",
       "      <td>3</td>\n",
       "      <td>77.000000</td>\n",
       "      <td>1</td>\n",
       "      <td>66.481481</td>\n",
       "    </tr>\n",
       "    <tr>\n",
       "      <th>3293</th>\n",
       "      <td>tt0162661</td>\n",
       "      <td>Sleepy Hollow</td>\n",
       "      <td>English</td>\n",
       "      <td>Germany</td>\n",
       "      <td>105</td>\n",
       "      <td>R</td>\n",
       "      <td>65.0</td>\n",
       "      <td>1.000000e+08</td>\n",
       "      <td>Paramount Pictures</td>\n",
       "      <td>Best Art Direction-Set Decoration</td>\n",
       "      <td>...</td>\n",
       "      <td>0.0</td>\n",
       "      <td>0.0</td>\n",
       "      <td>0.0</td>\n",
       "      <td>0.0</td>\n",
       "      <td>0.0</td>\n",
       "      <td>68.727273</td>\n",
       "      <td>11</td>\n",
       "      <td>68.000000</td>\n",
       "      <td>10</td>\n",
       "      <td>65.000000</td>\n",
       "    </tr>\n",
       "    <tr>\n",
       "      <th>3296</th>\n",
       "      <td>tt0293508</td>\n",
       "      <td>The Phantom of the Opera</td>\n",
       "      <td>English</td>\n",
       "      <td>UK</td>\n",
       "      <td>143</td>\n",
       "      <td>PG-13</td>\n",
       "      <td>40.0</td>\n",
       "      <td>7.000000e+07</td>\n",
       "      <td>Warner Bros.</td>\n",
       "      <td>Best Achievement in Cinematography</td>\n",
       "      <td>...</td>\n",
       "      <td>NaN</td>\n",
       "      <td>NaN</td>\n",
       "      <td>NaN</td>\n",
       "      <td>NaN</td>\n",
       "      <td>NaN</td>\n",
       "      <td>52.750000</td>\n",
       "      <td>4</td>\n",
       "      <td>40.000000</td>\n",
       "      <td>1</td>\n",
       "      <td>57.400000</td>\n",
       "    </tr>\n",
       "    <tr>\n",
       "      <th>3299</th>\n",
       "      <td>tt0097351</td>\n",
       "      <td>Field of Dreams</td>\n",
       "      <td>English</td>\n",
       "      <td>USA</td>\n",
       "      <td>107</td>\n",
       "      <td>PG</td>\n",
       "      <td>57.0</td>\n",
       "      <td>4.425875e+07</td>\n",
       "      <td>Universal Pictures</td>\n",
       "      <td>Best Music, Original Score</td>\n",
       "      <td>...</td>\n",
       "      <td>NaN</td>\n",
       "      <td>NaN</td>\n",
       "      <td>NaN</td>\n",
       "      <td>NaN</td>\n",
       "      <td>NaN</td>\n",
       "      <td>57.000000</td>\n",
       "      <td>1</td>\n",
       "      <td>61.666667</td>\n",
       "      <td>6</td>\n",
       "      <td>76.285714</td>\n",
       "    </tr>\n",
       "    <tr>\n",
       "      <th>3302</th>\n",
       "      <td>tt0087957</td>\n",
       "      <td>Purple Rain</td>\n",
       "      <td>English</td>\n",
       "      <td>USA</td>\n",
       "      <td>111</td>\n",
       "      <td>R</td>\n",
       "      <td>55.0</td>\n",
       "      <td>7.200000e+06</td>\n",
       "      <td>Warner Bros.</td>\n",
       "      <td>Best Music, Original Song Score</td>\n",
       "      <td>...</td>\n",
       "      <td>NaN</td>\n",
       "      <td>NaN</td>\n",
       "      <td>NaN</td>\n",
       "      <td>NaN</td>\n",
       "      <td>NaN</td>\n",
       "      <td>55.000000</td>\n",
       "      <td>1</td>\n",
       "      <td>55.000000</td>\n",
       "      <td>1</td>\n",
       "      <td>66.481481</td>\n",
       "    </tr>\n",
       "  </tbody>\n",
       "</table>\n",
       "<p>1136 rows × 38 columns</p>\n",
       "</div>"
      ],
      "text/plain": [
       "         IMDBId                 movie title language    country  \\\n",
       "0     tt0091763                     Platoon  English        USA   \n",
       "7     tt0082979                        Reds  English        USA   \n",
       "19    tt0084434  An Officer and a Gentleman  English        USA   \n",
       "25    tt0119360                    In & Out  English        USA   \n",
       "26    tt0292542            Son of the Bride  Spanish  Argentina   \n",
       "...         ...                         ...      ...        ...   \n",
       "3292  tt0298203                      8 Mile  English        USA   \n",
       "3293  tt0162661               Sleepy Hollow  English    Germany   \n",
       "3296  tt0293508    The Phantom of the Opera  English         UK   \n",
       "3299  tt0097351             Field of Dreams  English        USA   \n",
       "3302  tt0087957                 Purple Rain  English        USA   \n",
       "\n",
       "      runtime (mins) mpaarating  metacritic score        budget  \\\n",
       "0                120          R              92.0  6.000000e+06   \n",
       "7                195         PG              76.0  3.200000e+07   \n",
       "19               124          R              75.0  7.500000e+06   \n",
       "25                90      PG-13              70.0  3.500000e+07   \n",
       "26               123          R              68.0  1.193676e+07   \n",
       "...              ...        ...               ...           ...   \n",
       "3292             110          R              77.0  4.100000e+07   \n",
       "3293             105          R              65.0  1.000000e+08   \n",
       "3296             143      PG-13              40.0  7.000000e+07   \n",
       "3299             107         PG              57.0  4.425875e+07   \n",
       "3302             111          R              55.0  7.200000e+06   \n",
       "\n",
       "         distributionCompany                              Awards  ...  \\\n",
       "0             Orion Pictures     Best Actor in a Supporting Role  ...   \n",
       "7         Paramount Pictures        Best Actor in a Leading Role  ...   \n",
       "19        Paramount Pictures     Best Actor in a Supporting Role  ...   \n",
       "25        Paramount Pictures   Best Actress in a Supporting Role  ...   \n",
       "26    Sony Pictures Classics          Best Foreign Language Film  ...   \n",
       "...                      ...                                 ...  ...   \n",
       "3292      Universal Pictures           Best Music, Original Song  ...   \n",
       "3293      Paramount Pictures   Best Art Direction-Set Decoration  ...   \n",
       "3296            Warner Bros.  Best Achievement in Cinematography  ...   \n",
       "3299      Universal Pictures          Best Music, Original Score  ...   \n",
       "3302            Warner Bros.     Best Music, Original Song Score  ...   \n",
       "\n",
       "      Awards_Best Director Awards_Best Film Editing  \\\n",
       "0                      0.0                      0.0   \n",
       "7                      0.0                      0.0   \n",
       "19                     0.0                      0.0   \n",
       "25                     NaN                      NaN   \n",
       "26                     NaN                      NaN   \n",
       "...                    ...                      ...   \n",
       "3292                   NaN                      NaN   \n",
       "3293                   0.0                      0.0   \n",
       "3296                   NaN                      NaN   \n",
       "3299                   NaN                      NaN   \n",
       "3302                   NaN                      NaN   \n",
       "\n",
       "     Awards_Best Motion Picture of the Year Awards_Best Picture  \\\n",
       "0                                       0.0                 0.0   \n",
       "7                                       0.0                 0.0   \n",
       "19                                      0.0                 0.0   \n",
       "25                                      NaN                 NaN   \n",
       "26                                      NaN                 NaN   \n",
       "...                                     ...                 ...   \n",
       "3292                                    NaN                 NaN   \n",
       "3293                                    0.0                 0.0   \n",
       "3296                                    NaN                 NaN   \n",
       "3299                                    NaN                 NaN   \n",
       "3302                                    NaN                 NaN   \n",
       "\n",
       "     Awards_Best Sound Director_Avg_Score Total_Director_Movies  \\\n",
       "0                  0.0          71.666667                     6   \n",
       "7                  0.0          73.000000                     3   \n",
       "19                 0.0          74.000000                     2   \n",
       "25                 NaN          75.500000                     2   \n",
       "26                 NaN          74.000000                     2   \n",
       "...                ...                ...                   ...   \n",
       "3292               NaN          80.000000                     3   \n",
       "3293               0.0          68.727273                    11   \n",
       "3296               NaN          52.750000                     4   \n",
       "3299               NaN          57.000000                     1   \n",
       "3302               NaN          55.000000                     1   \n",
       "\n",
       "     Lead_Actor_Avg_Score Total_Movies_Lead_Actor Avg_Rating_by_Genre  \n",
       "0               74.000000                       2           81.923077  \n",
       "7               74.750000                       4           73.604651  \n",
       "19              59.000000                       4           71.075000  \n",
       "25              67.000000                       2           60.500000  \n",
       "26              74.000000                       2           75.185185  \n",
       "...                   ...                     ...                 ...  \n",
       "3292            77.000000                       1           66.481481  \n",
       "3293            68.000000                      10           65.000000  \n",
       "3296            40.000000                       1           57.400000  \n",
       "3299            61.666667                       6           76.285714  \n",
       "3302            55.000000                       1           66.481481  \n",
       "\n",
       "[1136 rows x 38 columns]"
      ]
     },
     "execution_count": 47,
     "metadata": {},
     "output_type": "execute_result"
    }
   ],
   "source": [
    "oscars_df"
   ]
  },
  {
   "cell_type": "code",
   "execution_count": 48,
   "metadata": {},
   "outputs": [
    {
     "data": {
      "text/plain": [
       "[<matplotlib.lines.Line2D at 0x140e349a0>]"
      ]
     },
     "execution_count": 48,
     "metadata": {},
     "output_type": "execute_result"
    },
    {
     "data": {
      "image/png": "[encoded data removed]",
      "text/plain": [
       "<Figure size 432x288 with 1 Axes>"
      ]
     },
     "metadata": {
      "image/png": {
       "height": 248,
       "width": 375
      },
      "needs_background": "light"
     },
     "output_type": "display_data"
    }
   ],
   "source": [
    "plt.plot(oscars_df['Director_Avg_Score'])"
   ]
  },
  {
   "cell_type": "code",
   "execution_count": 49,
   "metadata": {},
   "outputs": [
    {
     "data": {
      "text/plain": [
       "(1136, 38)"
      ]
     },
     "execution_count": 49,
     "metadata": {},
     "output_type": "execute_result"
    }
   ],
   "source": [
    "oscars_df.shape"
   ]
  },
  {
   "cell_type": "markdown",
   "metadata": {},
   "source": [
    "## Create some dummy variables"
   ]
  },
  {
   "cell_type": "markdown",
   "metadata": {},
   "source": [
    "Use this function to get the top 10 columns to create dummy variables with"
   ]
  },
  {
   "cell_type": "code",
   "execution_count": 53,
   "metadata": {},
   "outputs": [],
   "source": [
    "def get_top_ten(column):\n",
    "    top_ten = oscars_df[column].value_counts().iloc[:10]\n",
    "    mask = oscars_df[column].isin(top_ten.index)\n",
    "    return mask"
   ]
  },
  {
   "cell_type": "code",
   "execution_count": 54,
   "metadata": {},
   "outputs": [],
   "source": [
    "mask = get_top_ten('distributionCompany')"
   ]
  },
  {
   "cell_type": "code",
   "execution_count": 55,
   "metadata": {},
   "outputs": [
    {
     "data": {
      "text/plain": [
       "Paramount Pictures                     101\n",
       "Warner Bros.                            99\n",
       "Universal Pictures                      86\n",
       "Twentieth Century Fox                   78\n",
       "Columbia Pictures                       72\n",
       "Sony Pictures Classics                  66\n",
       "Miramax                                 51\n",
       "Buena Vista Pictures                    44\n",
       "Walt Disney Studios Motion Pictures     36\n",
       "Fox Searchlight Pictures                32\n",
       "Name: distributionCompany, dtype: int64"
      ]
     },
     "execution_count": 55,
     "metadata": {},
     "output_type": "execute_result"
    }
   ],
   "source": [
    "oscars_df['distributionCompany'][mask].value_counts()"
   ]
  },
  {
   "cell_type": "code",
   "execution_count": 56,
   "metadata": {},
   "outputs": [],
   "source": [
    "top_distribution = oscars_df['distributionCompany']"
   ]
  },
  {
   "cell_type": "code",
   "execution_count": 60,
   "metadata": {},
   "outputs": [
    {
     "data": {
      "text/plain": [
       "<AxesSubplot:xlabel='distributionCompany', ylabel='metacritic score'>"
      ]
     },
     "execution_count": 60,
     "metadata": {},
     "output_type": "execute_result"
    },
    {
     "data": {
      "image/png": "[encoded data removed]",
      "text/plain": [
       "<Figure size 432x288 with 1 Axes>"
      ]
     },
     "metadata": {
      "image/png": {
       "height": 261,
       "width": 467
      },
      "needs_background": "light"
     },
     "output_type": "display_data"
    }
   ],
   "source": [
    "sns.scatterplot(data=oscars_df, x=top_distribution, y=\"metacritic score\")"
   ]
  },
  {
   "cell_type": "code",
   "execution_count": 61,
   "metadata": {},
   "outputs": [],
   "source": [
    "distro_dummies = pd.get_dummies(oscars_df['distributionCompany'][mask])"
   ]
  },
  {
   "cell_type": "code",
   "execution_count": 62,
   "metadata": {},
   "outputs": [],
   "source": [
    "oscars_df = pd.concat([oscars_df, distro_dummies], axis=1)"
   ]
  },
  {
   "cell_type": "code",
   "execution_count": 63,
   "metadata": {},
   "outputs": [
    {
     "data": {
      "text/plain": [
       "(1136, 48)"
      ]
     },
     "execution_count": 63,
     "metadata": {},
     "output_type": "execute_result"
    }
   ],
   "source": [
    "oscars_df.shape"
   ]
  },
  {
   "cell_type": "markdown",
   "metadata": {},
   "source": [
    "## Explore the genre columns"
   ]
  },
  {
   "cell_type": "code",
   "execution_count": 64,
   "metadata": {},
   "outputs": [
    {
     "data": {
      "text/plain": [
       "Drama          328\n",
       "Comedy         191\n",
       "Biography      168\n",
       "Action         151\n",
       "Crime           90\n",
       "Animation       78\n",
       "Adventure       76\n",
       "Documentary     41\n",
       "Horror           6\n",
       "Fantasy          2\n",
       "Mystery          2\n",
       "Family           2\n",
       "Romance          1\n",
       "Name: main_genre, dtype: int64"
      ]
     },
     "execution_count": 64,
     "metadata": {},
     "output_type": "execute_result"
    }
   ],
   "source": [
    "oscars_df['main_genre'].value_counts()"
   ]
  },
  {
   "cell_type": "code",
   "execution_count": 65,
   "metadata": {},
   "outputs": [
    {
     "data": {
      "text/plain": [
       "Drama        408\n",
       "Adventure    134\n",
       "Romance       92\n",
       "Comedy        57\n",
       "Crime         55\n",
       "Mystery       34\n",
       "Music         31\n",
       "History       27\n",
       "Thriller      27\n",
       "Fantasy       26\n",
       "Biography     25\n",
       "Family        25\n",
       "War           18\n",
       "Sci-Fi        16\n",
       "Action        12\n",
       "Horror        10\n",
       "Sport          8\n",
       "Musical        6\n",
       "Western        5\n",
       "News           2\n",
       "Animation      1\n",
       "Name: subgenre, dtype: int64"
      ]
     },
     "execution_count": 65,
     "metadata": {},
     "output_type": "execute_result"
    }
   ],
   "source": [
    "oscars_df['subgenre'].value_counts()"
   ]
  },
  {
   "cell_type": "code",
   "execution_count": 68,
   "metadata": {},
   "outputs": [
    {
     "data": {
      "text/plain": [
       "Drama          328\n",
       "Comedy         191\n",
       "Biography      168\n",
       "Action         151\n",
       "Crime           90\n",
       "Animation       78\n",
       "Adventure       76\n",
       "Documentary     41\n",
       "Horror           6\n",
       "Fantasy          2\n",
       "Name: main_genre, dtype: int64"
      ]
     },
     "execution_count": 68,
     "metadata": {},
     "output_type": "execute_result"
    }
   ],
   "source": [
    "mask = get_top_ten('main_genre')\n",
    "oscars_df['main_genre'][mask].value_counts()"
   ]
  },
  {
   "cell_type": "code",
   "execution_count": 69,
   "metadata": {},
   "outputs": [],
   "source": [
    "main_genre_dummies = pd.get_dummies(oscars_df['main_genre'][mask],prefix='Genre')"
   ]
  },
  {
   "cell_type": "code",
   "execution_count": 70,
   "metadata": {},
   "outputs": [],
   "source": [
    "oscars_df = pd.concat([oscars_df, main_genre_dummies], axis=1)"
   ]
  },
  {
   "cell_type": "code",
   "execution_count": 71,
   "metadata": {},
   "outputs": [
    {
     "data": {
      "text/html": [
       "<div>\n",
       "<style scoped>\n",
       "    .dataframe tbody tr th:only-of-type {\n",
       "        vertical-align: middle;\n",
       "    }\n",
       "\n",
       "    .dataframe tbody tr th {\n",
       "        vertical-align: top;\n",
       "    }\n",
       "\n",
       "    .dataframe thead th {\n",
       "        text-align: right;\n",
       "    }\n",
       "</style>\n",
       "<table border=\"1\" class=\"dataframe\">\n",
       "  <thead>\n",
       "    <tr style=\"text-align: right;\">\n",
       "      <th></th>\n",
       "      <th>IMDBId</th>\n",
       "      <th>movie title</th>\n",
       "      <th>language</th>\n",
       "      <th>country</th>\n",
       "      <th>runtime (mins)</th>\n",
       "      <th>mpaarating</th>\n",
       "      <th>metacritic score</th>\n",
       "      <th>budget</th>\n",
       "      <th>distributionCompany</th>\n",
       "      <th>Awards</th>\n",
       "      <th>...</th>\n",
       "      <th>Genre_Action</th>\n",
       "      <th>Genre_Adventure</th>\n",
       "      <th>Genre_Animation</th>\n",
       "      <th>Genre_Biography</th>\n",
       "      <th>Genre_Comedy</th>\n",
       "      <th>Genre_Crime</th>\n",
       "      <th>Genre_Documentary</th>\n",
       "      <th>Genre_Drama</th>\n",
       "      <th>Genre_Fantasy</th>\n",
       "      <th>Genre_Horror</th>\n",
       "    </tr>\n",
       "  </thead>\n",
       "  <tbody>\n",
       "    <tr>\n",
       "      <th>0</th>\n",
       "      <td>tt0091763</td>\n",
       "      <td>Platoon</td>\n",
       "      <td>English</td>\n",
       "      <td>USA</td>\n",
       "      <td>120</td>\n",
       "      <td>R</td>\n",
       "      <td>92.0</td>\n",
       "      <td>6.000000e+06</td>\n",
       "      <td>Orion Pictures</td>\n",
       "      <td>Best Actor in a Supporting Role</td>\n",
       "      <td>...</td>\n",
       "      <td>0.0</td>\n",
       "      <td>0.0</td>\n",
       "      <td>0.0</td>\n",
       "      <td>0.0</td>\n",
       "      <td>0.0</td>\n",
       "      <td>0.0</td>\n",
       "      <td>0.0</td>\n",
       "      <td>1.0</td>\n",
       "      <td>0.0</td>\n",
       "      <td>0.0</td>\n",
       "    </tr>\n",
       "    <tr>\n",
       "      <th>7</th>\n",
       "      <td>tt0082979</td>\n",
       "      <td>Reds</td>\n",
       "      <td>English</td>\n",
       "      <td>USA</td>\n",
       "      <td>195</td>\n",
       "      <td>PG</td>\n",
       "      <td>76.0</td>\n",
       "      <td>3.200000e+07</td>\n",
       "      <td>Paramount Pictures</td>\n",
       "      <td>Best Actor in a Leading Role</td>\n",
       "      <td>...</td>\n",
       "      <td>0.0</td>\n",
       "      <td>0.0</td>\n",
       "      <td>0.0</td>\n",
       "      <td>1.0</td>\n",
       "      <td>0.0</td>\n",
       "      <td>0.0</td>\n",
       "      <td>0.0</td>\n",
       "      <td>0.0</td>\n",
       "      <td>0.0</td>\n",
       "      <td>0.0</td>\n",
       "    </tr>\n",
       "    <tr>\n",
       "      <th>19</th>\n",
       "      <td>tt0084434</td>\n",
       "      <td>An Officer and a Gentleman</td>\n",
       "      <td>English</td>\n",
       "      <td>USA</td>\n",
       "      <td>124</td>\n",
       "      <td>R</td>\n",
       "      <td>75.0</td>\n",
       "      <td>7.500000e+06</td>\n",
       "      <td>Paramount Pictures</td>\n",
       "      <td>Best Actor in a Supporting Role</td>\n",
       "      <td>...</td>\n",
       "      <td>0.0</td>\n",
       "      <td>0.0</td>\n",
       "      <td>0.0</td>\n",
       "      <td>0.0</td>\n",
       "      <td>0.0</td>\n",
       "      <td>0.0</td>\n",
       "      <td>0.0</td>\n",
       "      <td>1.0</td>\n",
       "      <td>0.0</td>\n",
       "      <td>0.0</td>\n",
       "    </tr>\n",
       "    <tr>\n",
       "      <th>25</th>\n",
       "      <td>tt0119360</td>\n",
       "      <td>In &amp; Out</td>\n",
       "      <td>English</td>\n",
       "      <td>USA</td>\n",
       "      <td>90</td>\n",
       "      <td>PG-13</td>\n",
       "      <td>70.0</td>\n",
       "      <td>3.500000e+07</td>\n",
       "      <td>Paramount Pictures</td>\n",
       "      <td>Best Actress in a Supporting Role</td>\n",
       "      <td>...</td>\n",
       "      <td>0.0</td>\n",
       "      <td>0.0</td>\n",
       "      <td>0.0</td>\n",
       "      <td>0.0</td>\n",
       "      <td>1.0</td>\n",
       "      <td>0.0</td>\n",
       "      <td>0.0</td>\n",
       "      <td>0.0</td>\n",
       "      <td>0.0</td>\n",
       "      <td>0.0</td>\n",
       "    </tr>\n",
       "    <tr>\n",
       "      <th>26</th>\n",
       "      <td>tt0292542</td>\n",
       "      <td>Son of the Bride</td>\n",
       "      <td>Spanish</td>\n",
       "      <td>Argentina</td>\n",
       "      <td>123</td>\n",
       "      <td>R</td>\n",
       "      <td>68.0</td>\n",
       "      <td>1.193676e+07</td>\n",
       "      <td>Sony Pictures Classics</td>\n",
       "      <td>Best Foreign Language Film</td>\n",
       "      <td>...</td>\n",
       "      <td>0.0</td>\n",
       "      <td>0.0</td>\n",
       "      <td>0.0</td>\n",
       "      <td>0.0</td>\n",
       "      <td>1.0</td>\n",
       "      <td>0.0</td>\n",
       "      <td>0.0</td>\n",
       "      <td>0.0</td>\n",
       "      <td>0.0</td>\n",
       "      <td>0.0</td>\n",
       "    </tr>\n",
       "  </tbody>\n",
       "</table>\n",
       "<p>5 rows × 58 columns</p>\n",
       "</div>"
      ],
      "text/plain": [
       "       IMDBId                 movie title language    country  runtime (mins)  \\\n",
       "0   tt0091763                     Platoon  English        USA             120   \n",
       "7   tt0082979                        Reds  English        USA             195   \n",
       "19  tt0084434  An Officer and a Gentleman  English        USA             124   \n",
       "25  tt0119360                    In & Out  English        USA              90   \n",
       "26  tt0292542            Son of the Bride  Spanish  Argentina             123   \n",
       "\n",
       "   mpaarating  metacritic score        budget     distributionCompany  \\\n",
       "0           R              92.0  6.000000e+06          Orion Pictures   \n",
       "7          PG              76.0  3.200000e+07      Paramount Pictures   \n",
       "19          R              75.0  7.500000e+06      Paramount Pictures   \n",
       "25      PG-13              70.0  3.500000e+07      Paramount Pictures   \n",
       "26          R              68.0  1.193676e+07  Sony Pictures Classics   \n",
       "\n",
       "                               Awards  ...  Genre_Action Genre_Adventure  \\\n",
       "0     Best Actor in a Supporting Role  ...           0.0             0.0   \n",
       "7        Best Actor in a Leading Role  ...           0.0             0.0   \n",
       "19    Best Actor in a Supporting Role  ...           0.0             0.0   \n",
       "25  Best Actress in a Supporting Role  ...           0.0             0.0   \n",
       "26         Best Foreign Language Film  ...           0.0             0.0   \n",
       "\n",
       "   Genre_Animation Genre_Biography Genre_Comedy Genre_Crime Genre_Documentary  \\\n",
       "0              0.0             0.0          0.0         0.0               0.0   \n",
       "7              0.0             1.0          0.0         0.0               0.0   \n",
       "19             0.0             0.0          0.0         0.0               0.0   \n",
       "25             0.0             0.0          1.0         0.0               0.0   \n",
       "26             0.0             0.0          1.0         0.0               0.0   \n",
       "\n",
       "   Genre_Drama Genre_Fantasy Genre_Horror  \n",
       "0          1.0           0.0          0.0  \n",
       "7          0.0           0.0          0.0  \n",
       "19         1.0           0.0          0.0  \n",
       "25         0.0           0.0          0.0  \n",
       "26         0.0           0.0          0.0  \n",
       "\n",
       "[5 rows x 58 columns]"
      ]
     },
     "execution_count": 71,
     "metadata": {},
     "output_type": "execute_result"
    }
   ],
   "source": [
    "oscars_df.head()"
   ]
  },
  {
   "cell_type": "code",
   "execution_count": 72,
   "metadata": {},
   "outputs": [
    {
     "data": {
      "text/plain": [
       "Drama        408\n",
       "Adventure    134\n",
       "Romance       92\n",
       "Comedy        57\n",
       "Crime         55\n",
       "Mystery       34\n",
       "Music         31\n",
       "Thriller      27\n",
       "History       27\n",
       "Fantasy       26\n",
       "Name: subgenre, dtype: int64"
      ]
     },
     "execution_count": 72,
     "metadata": {},
     "output_type": "execute_result"
    }
   ],
   "source": [
    "mask = get_top_ten('subgenre')\n",
    "oscars_df['subgenre'][mask].value_counts()"
   ]
  },
  {
   "cell_type": "code",
   "execution_count": 73,
   "metadata": {},
   "outputs": [],
   "source": [
    "subgenre_dummies = pd.get_dummies(oscars_df['subgenre'][mask],prefix='Subgenre')"
   ]
  },
  {
   "cell_type": "code",
   "execution_count": 74,
   "metadata": {},
   "outputs": [],
   "source": [
    "oscars_df = pd.concat([oscars_df, subgenre_dummies], axis=1)"
   ]
  },
  {
   "cell_type": "code",
   "execution_count": 75,
   "metadata": {},
   "outputs": [
    {
     "data": {
      "text/html": [
       "<div>\n",
       "<style scoped>\n",
       "    .dataframe tbody tr th:only-of-type {\n",
       "        vertical-align: middle;\n",
       "    }\n",
       "\n",
       "    .dataframe tbody tr th {\n",
       "        vertical-align: top;\n",
       "    }\n",
       "\n",
       "    .dataframe thead th {\n",
       "        text-align: right;\n",
       "    }\n",
       "</style>\n",
       "<table border=\"1\" class=\"dataframe\">\n",
       "  <thead>\n",
       "    <tr style=\"text-align: right;\">\n",
       "      <th></th>\n",
       "      <th>IMDBId</th>\n",
       "      <th>movie title</th>\n",
       "      <th>language</th>\n",
       "      <th>country</th>\n",
       "      <th>runtime (mins)</th>\n",
       "      <th>mpaarating</th>\n",
       "      <th>metacritic score</th>\n",
       "      <th>budget</th>\n",
       "      <th>distributionCompany</th>\n",
       "      <th>Awards</th>\n",
       "      <th>...</th>\n",
       "      <th>Subgenre_Adventure</th>\n",
       "      <th>Subgenre_Comedy</th>\n",
       "      <th>Subgenre_Crime</th>\n",
       "      <th>Subgenre_Drama</th>\n",
       "      <th>Subgenre_Fantasy</th>\n",
       "      <th>Subgenre_History</th>\n",
       "      <th>Subgenre_Music</th>\n",
       "      <th>Subgenre_Mystery</th>\n",
       "      <th>Subgenre_Romance</th>\n",
       "      <th>Subgenre_Thriller</th>\n",
       "    </tr>\n",
       "  </thead>\n",
       "  <tbody>\n",
       "    <tr>\n",
       "      <th>0</th>\n",
       "      <td>tt0091763</td>\n",
       "      <td>Platoon</td>\n",
       "      <td>English</td>\n",
       "      <td>USA</td>\n",
       "      <td>120</td>\n",
       "      <td>R</td>\n",
       "      <td>92.0</td>\n",
       "      <td>6.000000e+06</td>\n",
       "      <td>Orion Pictures</td>\n",
       "      <td>Best Actor in a Supporting Role</td>\n",
       "      <td>...</td>\n",
       "      <td>NaN</td>\n",
       "      <td>NaN</td>\n",
       "      <td>NaN</td>\n",
       "      <td>NaN</td>\n",
       "      <td>NaN</td>\n",
       "      <td>NaN</td>\n",
       "      <td>NaN</td>\n",
       "      <td>NaN</td>\n",
       "      <td>NaN</td>\n",
       "      <td>NaN</td>\n",
       "    </tr>\n",
       "    <tr>\n",
       "      <th>7</th>\n",
       "      <td>tt0082979</td>\n",
       "      <td>Reds</td>\n",
       "      <td>English</td>\n",
       "      <td>USA</td>\n",
       "      <td>195</td>\n",
       "      <td>PG</td>\n",
       "      <td>76.0</td>\n",
       "      <td>3.200000e+07</td>\n",
       "      <td>Paramount Pictures</td>\n",
       "      <td>Best Actor in a Leading Role</td>\n",
       "      <td>...</td>\n",
       "      <td>0.0</td>\n",
       "      <td>0.0</td>\n",
       "      <td>0.0</td>\n",
       "      <td>1.0</td>\n",
       "      <td>0.0</td>\n",
       "      <td>0.0</td>\n",
       "      <td>0.0</td>\n",
       "      <td>0.0</td>\n",
       "      <td>0.0</td>\n",
       "      <td>0.0</td>\n",
       "    </tr>\n",
       "    <tr>\n",
       "      <th>19</th>\n",
       "      <td>tt0084434</td>\n",
       "      <td>An Officer and a Gentleman</td>\n",
       "      <td>English</td>\n",
       "      <td>USA</td>\n",
       "      <td>124</td>\n",
       "      <td>R</td>\n",
       "      <td>75.0</td>\n",
       "      <td>7.500000e+06</td>\n",
       "      <td>Paramount Pictures</td>\n",
       "      <td>Best Actor in a Supporting Role</td>\n",
       "      <td>...</td>\n",
       "      <td>0.0</td>\n",
       "      <td>0.0</td>\n",
       "      <td>0.0</td>\n",
       "      <td>0.0</td>\n",
       "      <td>0.0</td>\n",
       "      <td>0.0</td>\n",
       "      <td>0.0</td>\n",
       "      <td>0.0</td>\n",
       "      <td>1.0</td>\n",
       "      <td>0.0</td>\n",
       "    </tr>\n",
       "    <tr>\n",
       "      <th>25</th>\n",
       "      <td>tt0119360</td>\n",
       "      <td>In &amp; Out</td>\n",
       "      <td>English</td>\n",
       "      <td>USA</td>\n",
       "      <td>90</td>\n",
       "      <td>PG-13</td>\n",
       "      <td>70.0</td>\n",
       "      <td>3.500000e+07</td>\n",
       "      <td>Paramount Pictures</td>\n",
       "      <td>Best Actress in a Supporting Role</td>\n",
       "      <td>...</td>\n",
       "      <td>0.0</td>\n",
       "      <td>0.0</td>\n",
       "      <td>0.0</td>\n",
       "      <td>0.0</td>\n",
       "      <td>0.0</td>\n",
       "      <td>0.0</td>\n",
       "      <td>0.0</td>\n",
       "      <td>0.0</td>\n",
       "      <td>1.0</td>\n",
       "      <td>0.0</td>\n",
       "    </tr>\n",
       "    <tr>\n",
       "      <th>26</th>\n",
       "      <td>tt0292542</td>\n",
       "      <td>Son of the Bride</td>\n",
       "      <td>Spanish</td>\n",
       "      <td>Argentina</td>\n",
       "      <td>123</td>\n",
       "      <td>R</td>\n",
       "      <td>68.0</td>\n",
       "      <td>1.193676e+07</td>\n",
       "      <td>Sony Pictures Classics</td>\n",
       "      <td>Best Foreign Language Film</td>\n",
       "      <td>...</td>\n",
       "      <td>0.0</td>\n",
       "      <td>0.0</td>\n",
       "      <td>0.0</td>\n",
       "      <td>1.0</td>\n",
       "      <td>0.0</td>\n",
       "      <td>0.0</td>\n",
       "      <td>0.0</td>\n",
       "      <td>0.0</td>\n",
       "      <td>0.0</td>\n",
       "      <td>0.0</td>\n",
       "    </tr>\n",
       "  </tbody>\n",
       "</table>\n",
       "<p>5 rows × 68 columns</p>\n",
       "</div>"
      ],
      "text/plain": [
       "       IMDBId                 movie title language    country  runtime (mins)  \\\n",
       "0   tt0091763                     Platoon  English        USA             120   \n",
       "7   tt0082979                        Reds  English        USA             195   \n",
       "19  tt0084434  An Officer and a Gentleman  English        USA             124   \n",
       "25  tt0119360                    In & Out  English        USA              90   \n",
       "26  tt0292542            Son of the Bride  Spanish  Argentina             123   \n",
       "\n",
       "   mpaarating  metacritic score        budget     distributionCompany  \\\n",
       "0           R              92.0  6.000000e+06          Orion Pictures   \n",
       "7          PG              76.0  3.200000e+07      Paramount Pictures   \n",
       "19          R              75.0  7.500000e+06      Paramount Pictures   \n",
       "25      PG-13              70.0  3.500000e+07      Paramount Pictures   \n",
       "26          R              68.0  1.193676e+07  Sony Pictures Classics   \n",
       "\n",
       "                               Awards  ...  Subgenre_Adventure  \\\n",
       "0     Best Actor in a Supporting Role  ...                 NaN   \n",
       "7        Best Actor in a Leading Role  ...                 0.0   \n",
       "19    Best Actor in a Supporting Role  ...                 0.0   \n",
       "25  Best Actress in a Supporting Role  ...                 0.0   \n",
       "26         Best Foreign Language Film  ...                 0.0   \n",
       "\n",
       "   Subgenre_Comedy Subgenre_Crime Subgenre_Drama Subgenre_Fantasy  \\\n",
       "0              NaN            NaN            NaN              NaN   \n",
       "7              0.0            0.0            1.0              0.0   \n",
       "19             0.0            0.0            0.0              0.0   \n",
       "25             0.0            0.0            0.0              0.0   \n",
       "26             0.0            0.0            1.0              0.0   \n",
       "\n",
       "   Subgenre_History Subgenre_Music Subgenre_Mystery Subgenre_Romance  \\\n",
       "0               NaN            NaN              NaN              NaN   \n",
       "7               0.0            0.0              0.0              0.0   \n",
       "19              0.0            0.0              0.0              1.0   \n",
       "25              0.0            0.0              0.0              1.0   \n",
       "26              0.0            0.0              0.0              0.0   \n",
       "\n",
       "   Subgenre_Thriller  \n",
       "0                NaN  \n",
       "7                0.0  \n",
       "19               0.0  \n",
       "25               0.0  \n",
       "26               0.0  \n",
       "\n",
       "[5 rows x 68 columns]"
      ]
     },
     "execution_count": 75,
     "metadata": {},
     "output_type": "execute_result"
    }
   ],
   "source": [
    "oscars_df.head()"
   ]
  },
  {
   "cell_type": "markdown",
   "metadata": {},
   "source": [
    "## Create dummy for directors"
   ]
  },
  {
   "cell_type": "code",
   "execution_count": 76,
   "metadata": {},
   "outputs": [
    {
     "data": {
      "text/plain": [
       "Steven Spielberg    20\n",
       "Martin Scorsese     15\n",
       "Woody Allen         12\n",
       "Clint Eastwood      12\n",
       "Ron Howard          11\n",
       "Tim Burton          11\n",
       "Robert Zemeckis     11\n",
       "Ridley Scott         9\n",
       "Stephen Frears       9\n",
       "Barry Levinson       8\n",
       "Name: director, dtype: int64"
      ]
     },
     "execution_count": 76,
     "metadata": {},
     "output_type": "execute_result"
    }
   ],
   "source": [
    "mask = get_top_ten('director')\n",
    "oscars_df['director'][mask].value_counts()"
   ]
  },
  {
   "cell_type": "code",
   "execution_count": 77,
   "metadata": {},
   "outputs": [],
   "source": [
    "director_dummies = pd.get_dummies(oscars_df['director'][mask],prefix='Director')"
   ]
  },
  {
   "cell_type": "code",
   "execution_count": 78,
   "metadata": {},
   "outputs": [],
   "source": [
    "oscars_df = pd.concat([oscars_df, director_dummies], axis=1)"
   ]
  },
  {
   "cell_type": "code",
   "execution_count": 79,
   "metadata": {},
   "outputs": [
    {
     "data": {
      "text/html": [
       "<div>\n",
       "<style scoped>\n",
       "    .dataframe tbody tr th:only-of-type {\n",
       "        vertical-align: middle;\n",
       "    }\n",
       "\n",
       "    .dataframe tbody tr th {\n",
       "        vertical-align: top;\n",
       "    }\n",
       "\n",
       "    .dataframe thead th {\n",
       "        text-align: right;\n",
       "    }\n",
       "</style>\n",
       "<table border=\"1\" class=\"dataframe\">\n",
       "  <thead>\n",
       "    <tr style=\"text-align: right;\">\n",
       "      <th></th>\n",
       "      <th>IMDBId</th>\n",
       "      <th>movie title</th>\n",
       "      <th>language</th>\n",
       "      <th>country</th>\n",
       "      <th>runtime (mins)</th>\n",
       "      <th>mpaarating</th>\n",
       "      <th>metacritic score</th>\n",
       "      <th>budget</th>\n",
       "      <th>distributionCompany</th>\n",
       "      <th>Awards</th>\n",
       "      <th>...</th>\n",
       "      <th>Director_Barry Levinson</th>\n",
       "      <th>Director_Clint Eastwood</th>\n",
       "      <th>Director_Martin Scorsese</th>\n",
       "      <th>Director_Ridley Scott</th>\n",
       "      <th>Director_Robert Zemeckis</th>\n",
       "      <th>Director_Ron Howard</th>\n",
       "      <th>Director_Stephen Frears</th>\n",
       "      <th>Director_Steven Spielberg</th>\n",
       "      <th>Director_Tim Burton</th>\n",
       "      <th>Director_Woody Allen</th>\n",
       "    </tr>\n",
       "  </thead>\n",
       "  <tbody>\n",
       "    <tr>\n",
       "      <th>0</th>\n",
       "      <td>tt0091763</td>\n",
       "      <td>Platoon</td>\n",
       "      <td>English</td>\n",
       "      <td>USA</td>\n",
       "      <td>120</td>\n",
       "      <td>R</td>\n",
       "      <td>92.0</td>\n",
       "      <td>6.000000e+06</td>\n",
       "      <td>Orion Pictures</td>\n",
       "      <td>Best Actor in a Supporting Role</td>\n",
       "      <td>...</td>\n",
       "      <td>NaN</td>\n",
       "      <td>NaN</td>\n",
       "      <td>NaN</td>\n",
       "      <td>NaN</td>\n",
       "      <td>NaN</td>\n",
       "      <td>NaN</td>\n",
       "      <td>NaN</td>\n",
       "      <td>NaN</td>\n",
       "      <td>NaN</td>\n",
       "      <td>NaN</td>\n",
       "    </tr>\n",
       "    <tr>\n",
       "      <th>7</th>\n",
       "      <td>tt0082979</td>\n",
       "      <td>Reds</td>\n",
       "      <td>English</td>\n",
       "      <td>USA</td>\n",
       "      <td>195</td>\n",
       "      <td>PG</td>\n",
       "      <td>76.0</td>\n",
       "      <td>3.200000e+07</td>\n",
       "      <td>Paramount Pictures</td>\n",
       "      <td>Best Actor in a Leading Role</td>\n",
       "      <td>...</td>\n",
       "      <td>NaN</td>\n",
       "      <td>NaN</td>\n",
       "      <td>NaN</td>\n",
       "      <td>NaN</td>\n",
       "      <td>NaN</td>\n",
       "      <td>NaN</td>\n",
       "      <td>NaN</td>\n",
       "      <td>NaN</td>\n",
       "      <td>NaN</td>\n",
       "      <td>NaN</td>\n",
       "    </tr>\n",
       "    <tr>\n",
       "      <th>19</th>\n",
       "      <td>tt0084434</td>\n",
       "      <td>An Officer and a Gentleman</td>\n",
       "      <td>English</td>\n",
       "      <td>USA</td>\n",
       "      <td>124</td>\n",
       "      <td>R</td>\n",
       "      <td>75.0</td>\n",
       "      <td>7.500000e+06</td>\n",
       "      <td>Paramount Pictures</td>\n",
       "      <td>Best Actor in a Supporting Role</td>\n",
       "      <td>...</td>\n",
       "      <td>NaN</td>\n",
       "      <td>NaN</td>\n",
       "      <td>NaN</td>\n",
       "      <td>NaN</td>\n",
       "      <td>NaN</td>\n",
       "      <td>NaN</td>\n",
       "      <td>NaN</td>\n",
       "      <td>NaN</td>\n",
       "      <td>NaN</td>\n",
       "      <td>NaN</td>\n",
       "    </tr>\n",
       "    <tr>\n",
       "      <th>25</th>\n",
       "      <td>tt0119360</td>\n",
       "      <td>In &amp; Out</td>\n",
       "      <td>English</td>\n",
       "      <td>USA</td>\n",
       "      <td>90</td>\n",
       "      <td>PG-13</td>\n",
       "      <td>70.0</td>\n",
       "      <td>3.500000e+07</td>\n",
       "      <td>Paramount Pictures</td>\n",
       "      <td>Best Actress in a Supporting Role</td>\n",
       "      <td>...</td>\n",
       "      <td>NaN</td>\n",
       "      <td>NaN</td>\n",
       "      <td>NaN</td>\n",
       "      <td>NaN</td>\n",
       "      <td>NaN</td>\n",
       "      <td>NaN</td>\n",
       "      <td>NaN</td>\n",
       "      <td>NaN</td>\n",
       "      <td>NaN</td>\n",
       "      <td>NaN</td>\n",
       "    </tr>\n",
       "    <tr>\n",
       "      <th>26</th>\n",
       "      <td>tt0292542</td>\n",
       "      <td>Son of the Bride</td>\n",
       "      <td>Spanish</td>\n",
       "      <td>Argentina</td>\n",
       "      <td>123</td>\n",
       "      <td>R</td>\n",
       "      <td>68.0</td>\n",
       "      <td>1.193676e+07</td>\n",
       "      <td>Sony Pictures Classics</td>\n",
       "      <td>Best Foreign Language Film</td>\n",
       "      <td>...</td>\n",
       "      <td>NaN</td>\n",
       "      <td>NaN</td>\n",
       "      <td>NaN</td>\n",
       "      <td>NaN</td>\n",
       "      <td>NaN</td>\n",
       "      <td>NaN</td>\n",
       "      <td>NaN</td>\n",
       "      <td>NaN</td>\n",
       "      <td>NaN</td>\n",
       "      <td>NaN</td>\n",
       "    </tr>\n",
       "  </tbody>\n",
       "</table>\n",
       "<p>5 rows × 78 columns</p>\n",
       "</div>"
      ],
      "text/plain": [
       "       IMDBId                 movie title language    country  runtime (mins)  \\\n",
       "0   tt0091763                     Platoon  English        USA             120   \n",
       "7   tt0082979                        Reds  English        USA             195   \n",
       "19  tt0084434  An Officer and a Gentleman  English        USA             124   \n",
       "25  tt0119360                    In & Out  English        USA              90   \n",
       "26  tt0292542            Son of the Bride  Spanish  Argentina             123   \n",
       "\n",
       "   mpaarating  metacritic score        budget     distributionCompany  \\\n",
       "0           R              92.0  6.000000e+06          Orion Pictures   \n",
       "7          PG              76.0  3.200000e+07      Paramount Pictures   \n",
       "19          R              75.0  7.500000e+06      Paramount Pictures   \n",
       "25      PG-13              70.0  3.500000e+07      Paramount Pictures   \n",
       "26          R              68.0  1.193676e+07  Sony Pictures Classics   \n",
       "\n",
       "                               Awards  ...  Director_Barry Levinson  \\\n",
       "0     Best Actor in a Supporting Role  ...                      NaN   \n",
       "7        Best Actor in a Leading Role  ...                      NaN   \n",
       "19    Best Actor in a Supporting Role  ...                      NaN   \n",
       "25  Best Actress in a Supporting Role  ...                      NaN   \n",
       "26         Best Foreign Language Film  ...                      NaN   \n",
       "\n",
       "   Director_Clint Eastwood Director_Martin Scorsese Director_Ridley Scott  \\\n",
       "0                      NaN                      NaN                   NaN   \n",
       "7                      NaN                      NaN                   NaN   \n",
       "19                     NaN                      NaN                   NaN   \n",
       "25                     NaN                      NaN                   NaN   \n",
       "26                     NaN                      NaN                   NaN   \n",
       "\n",
       "   Director_Robert Zemeckis Director_Ron Howard Director_Stephen Frears  \\\n",
       "0                       NaN                 NaN                     NaN   \n",
       "7                       NaN                 NaN                     NaN   \n",
       "19                      NaN                 NaN                     NaN   \n",
       "25                      NaN                 NaN                     NaN   \n",
       "26                      NaN                 NaN                     NaN   \n",
       "\n",
       "   Director_Steven Spielberg Director_Tim Burton Director_Woody Allen  \n",
       "0                        NaN                 NaN                  NaN  \n",
       "7                        NaN                 NaN                  NaN  \n",
       "19                       NaN                 NaN                  NaN  \n",
       "25                       NaN                 NaN                  NaN  \n",
       "26                       NaN                 NaN                  NaN  \n",
       "\n",
       "[5 rows x 78 columns]"
      ]
     },
     "execution_count": 79,
     "metadata": {},
     "output_type": "execute_result"
    }
   ],
   "source": [
    "oscars_df.head()"
   ]
  },
  {
   "cell_type": "code",
   "execution_count": 80,
   "metadata": {},
   "outputs": [
    {
     "data": {
      "text/plain": [
       "Index(['IMDBId', 'movie title', 'language', 'country', 'runtime (mins)',\n",
       "       'mpaarating', 'metacritic score', 'budget', 'distributionCompany',\n",
       "       'Awards', 'Total_Noms', 'writer1', 'writer2', 'director', 'Lead_Actor',\n",
       "       'Supporting_Actor_1', 'Supporting_Actor_2', 'genre', 'main_genre',\n",
       "       'subgenre', 'release_date', 'season', 'Avg_Award_Score',\n",
       "       'Awards_Best Actor in a Leading Role',\n",
       "       'Awards_Best Actor in a Supporting Role',\n",
       "       'Awards_Best Actress in a Leading Role',\n",
       "       'Awards_Best Art Direction-Set Decoration',\n",
       "       'Awards_Best Cinematography', 'Awards_Best Director',\n",
       "       'Awards_Best Film Editing', 'Awards_Best Motion Picture of the Year',\n",
       "       'Awards_Best Picture', 'Awards_Best Sound', 'Director_Avg_Score',\n",
       "       'Total_Director_Movies', 'Lead_Actor_Avg_Score',\n",
       "       'Total_Movies_Lead_Actor', 'Avg_Rating_by_Genre',\n",
       "       'Buena Vista Pictures', 'Columbia Pictures', 'Fox Searchlight Pictures',\n",
       "       'Miramax', 'Paramount Pictures', 'Sony Pictures Classics',\n",
       "       'Twentieth Century Fox', 'Universal Pictures',\n",
       "       'Walt Disney Studios Motion Pictures', 'Warner Bros.', 'Genre_Action',\n",
       "       'Genre_Adventure', 'Genre_Animation', 'Genre_Biography', 'Genre_Comedy',\n",
       "       'Genre_Crime', 'Genre_Documentary', 'Genre_Drama', 'Genre_Fantasy',\n",
       "       'Genre_Horror', 'Subgenre_Adventure', 'Subgenre_Comedy',\n",
       "       'Subgenre_Crime', 'Subgenre_Drama', 'Subgenre_Fantasy',\n",
       "       'Subgenre_History', 'Subgenre_Music', 'Subgenre_Mystery',\n",
       "       'Subgenre_Romance', 'Subgenre_Thriller', 'Director_Barry Levinson',\n",
       "       'Director_Clint Eastwood', 'Director_Martin Scorsese',\n",
       "       'Director_Ridley Scott', 'Director_Robert Zemeckis',\n",
       "       'Director_Ron Howard', 'Director_Stephen Frears',\n",
       "       'Director_Steven Spielberg', 'Director_Tim Burton',\n",
       "       'Director_Woody Allen'],\n",
       "      dtype='object')"
      ]
     },
     "execution_count": 80,
     "metadata": {},
     "output_type": "execute_result"
    }
   ],
   "source": [
    "oscars_df.columns"
   ]
  },
  {
   "cell_type": "markdown",
   "metadata": {},
   "source": [
    "## Create dummy for lead actors"
   ]
  },
  {
   "cell_type": "code",
   "execution_count": 81,
   "metadata": {},
   "outputs": [
    {
     "data": {
      "text/plain": [
       "Tom Hanks            19\n",
       "Meryl Streep         15\n",
       "Tom Cruise           12\n",
       "Leonardo DiCaprio    12\n",
       "Brad Pitt            11\n",
       "Johnny Depp          10\n",
       "Harrison Ford         9\n",
       "Robin Williams        9\n",
       "Michael Douglas       8\n",
       "Robert De Niro        8\n",
       "Name: Lead_Actor, dtype: int64"
      ]
     },
     "execution_count": 81,
     "metadata": {},
     "output_type": "execute_result"
    }
   ],
   "source": [
    "mask = get_top_ten('Lead_Actor')\n",
    "oscars_df['Lead_Actor'][mask].value_counts()"
   ]
  },
  {
   "cell_type": "code",
   "execution_count": 82,
   "metadata": {},
   "outputs": [],
   "source": [
    "actor_dummies = pd.get_dummies(oscars_df['Lead_Actor'][mask],prefix='Lead_Actor')"
   ]
  },
  {
   "cell_type": "code",
   "execution_count": 83,
   "metadata": {},
   "outputs": [],
   "source": [
    "oscars_df = pd.concat([oscars_df, actor_dummies], axis=1)"
   ]
  },
  {
   "cell_type": "markdown",
   "metadata": {},
   "source": [
    "## Create dummies for season"
   ]
  },
  {
   "cell_type": "code",
   "execution_count": 84,
   "metadata": {},
   "outputs": [],
   "source": [
    "season_dummies = pd.get_dummies(oscars_df['season'])"
   ]
  },
  {
   "cell_type": "code",
   "execution_count": 85,
   "metadata": {},
   "outputs": [],
   "source": [
    "oscars_df = pd.concat([oscars_df, season_dummies], axis=1)"
   ]
  },
  {
   "cell_type": "markdown",
   "metadata": {},
   "source": [
    "## Create dummies for rating"
   ]
  },
  {
   "cell_type": "code",
   "execution_count": 86,
   "metadata": {},
   "outputs": [],
   "source": [
    "top_six = oscars_df['mpaarating'].value_counts().iloc[:6]\n",
    "mask = oscars_df['mpaarating'].isin(top_six.index)\n",
    "ratings_dummies = pd.get_dummies(oscars_df['mpaarating'][mask])"
   ]
  },
  {
   "cell_type": "code",
   "execution_count": 87,
   "metadata": {},
   "outputs": [],
   "source": [
    "oscars_df = pd.concat([oscars_df, ratings_dummies], axis=1)"
   ]
  },
  {
   "cell_type": "markdown",
   "metadata": {},
   "source": [
    "## Create dummies for writers"
   ]
  },
  {
   "cell_type": "code",
   "execution_count": 88,
   "metadata": {},
   "outputs": [],
   "source": [
    "mask = get_top_ten('writer1')\n"
   ]
  },
  {
   "cell_type": "code",
   "execution_count": 89,
   "metadata": {},
   "outputs": [],
   "source": [
    "writer_dummies = pd.get_dummies(oscars_df['writer1'][mask],prefix='Writer')"
   ]
  },
  {
   "cell_type": "code",
   "execution_count": 90,
   "metadata": {},
   "outputs": [],
   "source": [
    "oscars_df = pd.concat([oscars_df, writer_dummies], axis=1)"
   ]
  },
  {
   "cell_type": "code",
   "execution_count": 91,
   "metadata": {},
   "outputs": [
    {
     "data": {
      "text/plain": [
       "(1136, 108)"
      ]
     },
     "execution_count": 91,
     "metadata": {},
     "output_type": "execute_result"
    }
   ],
   "source": [
    "oscars_df.shape"
   ]
  },
  {
   "cell_type": "code",
   "execution_count": 92,
   "metadata": {},
   "outputs": [
    {
     "data": {
      "text/plain": [
       "Index(['IMDBId', 'movie title', 'language', 'country', 'runtime (mins)',\n",
       "       'mpaarating', 'metacritic score', 'budget', 'distributionCompany',\n",
       "       'Awards',\n",
       "       ...\n",
       "       'Writer_Aaron Sorkin', 'Writer_Joel Coen', 'Writer_John Logan',\n",
       "       'Writer_Lawrence Kasdan', 'Writer_Paul Thomas Anderson',\n",
       "       'Writer_Pedro Almodóvar', 'Writer_Peter Morgan',\n",
       "       'Writer_Quentin Tarantino', 'Writer_William Shakespeare',\n",
       "       'Writer_Woody Allen'],\n",
       "      dtype='object', length=108)"
      ]
     },
     "execution_count": 92,
     "metadata": {},
     "output_type": "execute_result"
    }
   ],
   "source": [
    "oscars_df.columns"
   ]
  },
  {
   "cell_type": "code",
   "execution_count": 93,
   "metadata": {},
   "outputs": [],
   "source": [
    "oscars_df.to_csv('oscar_movies_data_2.csv',encoding='utf-8-sig')"
   ]
  },
  {
   "cell_type": "code",
   "execution_count": null,
   "metadata": {},
   "outputs": [],
   "source": []
  }
 ],
 "metadata": {
  "kernelspec": {
   "display_name": "Python 3",
   "language": "python",
   "name": "python3"
  },
  "language_info": {
   "codemirror_mode": {
    "name": "ipython",
    "version": 3
   },
   "file_extension": ".py",
   "mimetype": "text/x-python",
   "name": "python",
   "nbconvert_exporter": "python",
   "pygments_lexer": "ipython3",
   "version": "3.8.5"
  }
 },
 "nbformat": 4,
 "nbformat_minor": 4
}
